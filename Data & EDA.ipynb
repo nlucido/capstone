{
 "cells": [
  {
   "cell_type": "markdown",
   "id": "7b2654b9-bd21-4690-9971-215b631fba9e",
   "metadata": {},
   "source": [
    "<center><h1>Project Shift, Don't Lift</h1></center>\n",
    "<center><h5>An investigation into position prediction in Formula 1</h5></center>\n",
    "\n",
    "---\n",
    "<center><h3>Part I: Data Wrangling & EDA</h3></center>\n",
    "\n",
    "---"
   ]
  },
  {
   "cell_type": "markdown",
   "id": "09ff97df-de1c-419c-b3bb-2fb943a53eff",
   "metadata": {},
   "source": [
    "## **INTRODUCTION**\n",
    "This project aims to equip Formula 1 Racing Teams with an advanced data-driven driver selection solution that utilizes machine learning on driver's race results to predict finishing position. Given this objective, data must first be analyzed to gain a better understanding of what variables exist to help predict finishing position. Part I will focus on observing individual data sets found in a data collection, analyzing which features to use for a final data frame, and then conclude with EDA (exploratory data analysis) on that final data frame."
   ]
  },
  {
   "cell_type": "markdown",
   "id": "7c46fc9b-3e17-4494-98a7-d4f626999ba8",
   "metadata": {},
   "source": [
    "- First steps will be to import the necessary tools by using the import function."
   ]
  },
  {
   "cell_type": "code",
   "execution_count": 1,
   "id": "973e29c8-1dc4-42e7-b3fa-3c89de4b89be",
   "metadata": {
    "tags": []
   },
   "outputs": [],
   "source": [
    "import numpy as np\n",
    "import pandas as pd\n",
    "pd.options.display.max_columns=None\n",
    "import matplotlib.pyplot as plt\n",
    "import seaborn as sns\n",
    "from sklearn.preprocessing import OneHotEncoder\n",
    "from sklearn.model_selection import train_test_split\n",
    "from sklearn.linear_model import LogisticRegression"
   ]
  },
  {
   "cell_type": "markdown",
   "id": "9b86dfc6-3109-4e53-bda7-30e13b61b8a0",
   "metadata": {},
   "source": [
    "- The data used to tackle this problem was discovered from https://www.kaggle.com/rohanrao/formula-1-world-championship-1950-2020. At this time, the entire data collection consists of individual data sets containing information on the Formula 1 races, drivers, constructors, qualifying, circuits, lap times, pit stops, and championships from 1950 till the latest 2021 season (data only for the first 9 rounds of 2021 season).\n",
    "- Each individual data set will be saved to a local drive and then uploaded into JupyterLabs via pandas **pd.read_csv()** function. From here, a final dataframe will be created by joining selected features from the various individual data sets using the pandas **DataFrame.merge()** function.\n",
    "- Will first start with the race results data set as seen below."
   ]
  },
  {
   "cell_type": "markdown",
   "id": "e06d5bbe-1cfb-4e17-9ed5-f96d5485ee28",
   "metadata": {},
   "source": [
    "## Race Results"
   ]
  },
  {
   "cell_type": "code",
   "execution_count": 2,
   "id": "1f0f5db5-b9a7-421b-8e86-82327b5a3239",
   "metadata": {},
   "outputs": [
    {
     "data": {
      "text/html": [
       "<div>\n",
       "<style scoped>\n",
       "    .dataframe tbody tr th:only-of-type {\n",
       "        vertical-align: middle;\n",
       "    }\n",
       "\n",
       "    .dataframe tbody tr th {\n",
       "        vertical-align: top;\n",
       "    }\n",
       "\n",
       "    .dataframe thead th {\n",
       "        text-align: right;\n",
       "    }\n",
       "</style>\n",
       "<table border=\"1\" class=\"dataframe\">\n",
       "  <thead>\n",
       "    <tr style=\"text-align: right;\">\n",
       "      <th></th>\n",
       "      <th>resultId</th>\n",
       "      <th>raceId</th>\n",
       "      <th>driverId</th>\n",
       "      <th>constructorId</th>\n",
       "      <th>number</th>\n",
       "      <th>grid</th>\n",
       "      <th>position</th>\n",
       "      <th>positionText</th>\n",
       "      <th>positionOrder</th>\n",
       "      <th>points</th>\n",
       "      <th>laps</th>\n",
       "      <th>time</th>\n",
       "      <th>milliseconds</th>\n",
       "      <th>fastestLap</th>\n",
       "      <th>rank</th>\n",
       "      <th>fastestLapTime</th>\n",
       "      <th>fastestLapSpeed</th>\n",
       "      <th>statusId</th>\n",
       "    </tr>\n",
       "  </thead>\n",
       "  <tbody>\n",
       "    <tr>\n",
       "      <th>0</th>\n",
       "      <td>1</td>\n",
       "      <td>18</td>\n",
       "      <td>1</td>\n",
       "      <td>1</td>\n",
       "      <td>22</td>\n",
       "      <td>1</td>\n",
       "      <td>1</td>\n",
       "      <td>1</td>\n",
       "      <td>1</td>\n",
       "      <td>10.0</td>\n",
       "      <td>58</td>\n",
       "      <td>1:34:50.616</td>\n",
       "      <td>5690616</td>\n",
       "      <td>39</td>\n",
       "      <td>2</td>\n",
       "      <td>1:27.452</td>\n",
       "      <td>218.300</td>\n",
       "      <td>1</td>\n",
       "    </tr>\n",
       "    <tr>\n",
       "      <th>1</th>\n",
       "      <td>2</td>\n",
       "      <td>18</td>\n",
       "      <td>2</td>\n",
       "      <td>2</td>\n",
       "      <td>3</td>\n",
       "      <td>5</td>\n",
       "      <td>2</td>\n",
       "      <td>2</td>\n",
       "      <td>2</td>\n",
       "      <td>8.0</td>\n",
       "      <td>58</td>\n",
       "      <td>+5.478</td>\n",
       "      <td>5696094</td>\n",
       "      <td>41</td>\n",
       "      <td>3</td>\n",
       "      <td>1:27.739</td>\n",
       "      <td>217.586</td>\n",
       "      <td>1</td>\n",
       "    </tr>\n",
       "    <tr>\n",
       "      <th>2</th>\n",
       "      <td>3</td>\n",
       "      <td>18</td>\n",
       "      <td>3</td>\n",
       "      <td>3</td>\n",
       "      <td>7</td>\n",
       "      <td>7</td>\n",
       "      <td>3</td>\n",
       "      <td>3</td>\n",
       "      <td>3</td>\n",
       "      <td>6.0</td>\n",
       "      <td>58</td>\n",
       "      <td>+8.163</td>\n",
       "      <td>5698779</td>\n",
       "      <td>41</td>\n",
       "      <td>5</td>\n",
       "      <td>1:28.090</td>\n",
       "      <td>216.719</td>\n",
       "      <td>1</td>\n",
       "    </tr>\n",
       "    <tr>\n",
       "      <th>3</th>\n",
       "      <td>4</td>\n",
       "      <td>18</td>\n",
       "      <td>4</td>\n",
       "      <td>4</td>\n",
       "      <td>5</td>\n",
       "      <td>11</td>\n",
       "      <td>4</td>\n",
       "      <td>4</td>\n",
       "      <td>4</td>\n",
       "      <td>5.0</td>\n",
       "      <td>58</td>\n",
       "      <td>+17.181</td>\n",
       "      <td>5707797</td>\n",
       "      <td>58</td>\n",
       "      <td>7</td>\n",
       "      <td>1:28.603</td>\n",
       "      <td>215.464</td>\n",
       "      <td>1</td>\n",
       "    </tr>\n",
       "    <tr>\n",
       "      <th>4</th>\n",
       "      <td>5</td>\n",
       "      <td>18</td>\n",
       "      <td>5</td>\n",
       "      <td>1</td>\n",
       "      <td>23</td>\n",
       "      <td>3</td>\n",
       "      <td>5</td>\n",
       "      <td>5</td>\n",
       "      <td>5</td>\n",
       "      <td>4.0</td>\n",
       "      <td>58</td>\n",
       "      <td>+18.014</td>\n",
       "      <td>5708630</td>\n",
       "      <td>43</td>\n",
       "      <td>1</td>\n",
       "      <td>1:27.418</td>\n",
       "      <td>218.385</td>\n",
       "      <td>1</td>\n",
       "    </tr>\n",
       "  </tbody>\n",
       "</table>\n",
       "</div>"
      ],
      "text/plain": [
       "   resultId  raceId  driverId  constructorId number  grid position  \\\n",
       "0         1      18         1              1     22     1        1   \n",
       "1         2      18         2              2      3     5        2   \n",
       "2         3      18         3              3      7     7        3   \n",
       "3         4      18         4              4      5    11        4   \n",
       "4         5      18         5              1     23     3        5   \n",
       "\n",
       "  positionText  positionOrder  points  laps         time milliseconds  \\\n",
       "0            1              1    10.0    58  1:34:50.616      5690616   \n",
       "1            2              2     8.0    58       +5.478      5696094   \n",
       "2            3              3     6.0    58       +8.163      5698779   \n",
       "3            4              4     5.0    58      +17.181      5707797   \n",
       "4            5              5     4.0    58      +18.014      5708630   \n",
       "\n",
       "  fastestLap rank fastestLapTime fastestLapSpeed  statusId  \n",
       "0         39    2       1:27.452         218.300         1  \n",
       "1         41    3       1:27.739         217.586         1  \n",
       "2         41    5       1:28.090         216.719         1  \n",
       "3         58    7       1:28.603         215.464         1  \n",
       "4         43    1       1:27.418         218.385         1  "
      ]
     },
     "execution_count": 2,
     "metadata": {},
     "output_type": "execute_result"
    }
   ],
   "source": [
    "results_df = pd.read_csv('data/results.csv')\n",
    "results_df.head()"
   ]
  },
  {
   "cell_type": "markdown",
   "id": "e28e5955-3085-40ac-8efa-d6920d8f406b",
   "metadata": {},
   "source": [
    "- Looks good, will now check for null and duplicated information as seen below."
   ]
  },
  {
   "cell_type": "code",
   "execution_count": 3,
   "id": "ee8ca812-acb7-4fbc-8891-2c4636fd5074",
   "metadata": {},
   "outputs": [
    {
     "name": "stdout",
     "output_type": "stream",
     "text": [
      "Shape: (25140, 18)\n",
      "Races: 1044\n",
      "Drivers: 853\n",
      "Constructors: 210\n",
      "Nulls: 0\n",
      "Duplicates: 0\n"
     ]
    }
   ],
   "source": [
    "print(f'Shape: {results_df.shape}')\n",
    "print(f\"Races: {results_df['raceId'].nunique()}\")\n",
    "print(f\"Drivers: {results_df['driverId'].nunique()}\")\n",
    "print(f\"Constructors: {results_df['constructorId'].nunique()}\")\n",
    "print(f\"Nulls: {results_df.isna().sum().sum()}\")\n",
    "print(f\"Duplicates: {results_df.duplicated().sum()}\")"
   ]
  },
  {
   "cell_type": "markdown",
   "id": "9a8c3a0b-dec6-4c8d-801c-bcf0e99946f7",
   "metadata": {},
   "source": [
    "- There are 25,140 race results from 1,044 unique races for 853 unique drivers and 210 unique constructors (teams) to work with. Next steps will be to re-name any columns for greater specificity as well as figure out which columns to drop that are considered irrelevant for predicting finishing position.\n",
    "\n",
    "    - `resultId`: unique identifier for each race result per race/driver/constructor.\n",
    "    - `raceId`: unique identifier for each race.\n",
    "    - `driverId`: unique identifier for each driver.\n",
    "    - `contructorId`: unique identifier for each constructor.\n",
    "    - `number`: as seen before, is simply the driver's racing number and is considered irrelevant for finishing position prediction, therefore will be dropped.\n",
    "    - `grid`: starting position before the race starts, essentially the results from qualifying and could help provide predictive power for finishing position.\n",
    "    - `positionOrder`: is the actual finishing position result, will become **target variable** on which the model will aim to predict. `position` & `positionText` are considered irrelevant and will be dropped.\n",
    "    - `points`: amount of points scored from race. The points scale has changed over the years and would be highly correlated with finishing position. Will be dropped due to these inconsistencies.\n",
    "    - `laps`: number of completed laps, could help provide predictive power for finishing position.\n",
    "    - `time`: total amount of time for 1st place to complete race where all remaining finishing positions only contain the additional amount of time it took to finish from 1st place's time. This will be dropped due to it's format and the inconsistencies it would bring.\n",
    "    - `milliseconds`: total amount of race time in ms recorded for each driver. This could help provide predictive power for finishing position.\n",
    "    - `fastestLap`: the lap number in which the driver conducted their fasted lap time in the race. This could help provide predictive power for finishing position.\n",
    "    - `rank`: assumed to be the current rank in the season's championship standings, however contains 18,249 **\\N** values and isn't mentioned from the data source (kaggle). Due to lack of info and ambiguity, will be dropped.\n",
    "    - `fastestLapTime`: driver's fastest lap time of the race. This could help provide predictive power for finishing position.\n",
    "    - `fastestLapSpeed`: driver's fastest lap speed of the race. This could help provide predictive power for finishing position, however probably has a good chance of producing large positive correlation with `fastestLapTime`.\n",
    "    - `statusId`: unique status id which will be used later to join a race finish status feature.\n",
    "\n",
    "\n",
    "- Additional steps are to look at the selected columns to keep and confirm there is no ambiguity. Though there is technically 0 null values, this data set contains **\\N** values for what is assumed to be null or missing data points."
   ]
  },
  {
   "cell_type": "code",
   "execution_count": 4,
   "id": "ff3fed82-2c1a-44e0-893f-2efbca944ccf",
   "metadata": {},
   "outputs": [
    {
     "data": {
      "text/plain": [
       "array([ 1,  5,  7, 11,  3, 13, 17, 15,  2, 18, 19, 20,  4,  8,  6, 22, 14,\n",
       "       12, 21,  9, 16, 10,  0, 23, 24, 25, 26, 27, 28, 29, 31, 30, 32, 33,\n",
       "       34], dtype=int64)"
      ]
     },
     "execution_count": 4,
     "metadata": {},
     "output_type": "execute_result"
    }
   ],
   "source": [
    "results_df['grid'].unique() # check for ambiguity or values labeled \"\\N\""
   ]
  },
  {
   "cell_type": "code",
   "execution_count": 5,
   "id": "d27ace4b-1f8f-4d86-8ed2-897c43a833e5",
   "metadata": {},
   "outputs": [
    {
     "data": {
      "text/plain": [
       "1589"
      ]
     },
     "execution_count": 5,
     "metadata": {},
     "output_type": "execute_result"
    }
   ],
   "source": [
    "results_df['grid'].value_counts().loc[0]"
   ]
  },
  {
   "cell_type": "code",
   "execution_count": 6,
   "id": "31a2a9e5-0a71-42c0-8a0b-e2b4857dd9fb",
   "metadata": {},
   "outputs": [
    {
     "data": {
      "text/plain": [
       "6.3206046141607"
      ]
     },
     "execution_count": 6,
     "metadata": {},
     "output_type": "execute_result"
    }
   ],
   "source": [
    "results_df['grid'].value_counts(normalize=True).loc[0] * 100"
   ]
  },
  {
   "cell_type": "markdown",
   "id": "92abfb21-e96b-4dde-924a-bd178f070e29",
   "metadata": {},
   "source": [
    " - `grid` looks good, except grid spot of \"0\". This most likely means a driver is starting at the back for a variety of reasons, but for whatever reason was encoded as '0' for these races. Will need to keep this in mind for modeling given drivers are starting here over 6% of the time, but are numerically misrepresented in order of grid position."
   ]
  },
  {
   "cell_type": "code",
   "execution_count": 7,
   "id": "01d93d3e-0144-4c3e-a154-159fe9aa803a",
   "metadata": {},
   "outputs": [
    {
     "data": {
      "text/plain": [
       "array([ 1,  2,  3,  4,  5,  6,  7,  8,  9, 10, 11, 12, 13, 14, 15, 16, 17,\n",
       "       18, 19, 20, 21, 22, 23, 24, 25, 26, 27, 28, 29, 30, 31, 32, 33, 34,\n",
       "       35, 36, 37, 38, 39], dtype=int64)"
      ]
     },
     "execution_count": 7,
     "metadata": {},
     "output_type": "execute_result"
    }
   ],
   "source": [
    "results_df['positionOrder'].unique() # check for ambiguity or values labeled \"\\N\""
   ]
  },
  {
   "cell_type": "markdown",
   "id": "7dd4d213-aad6-4b36-bbac-d3d809430f9f",
   "metadata": {},
   "source": [
    "- `positionOrder` looks good, will become target variable as mentioned and re-named to `finishing_position` for further clarification."
   ]
  },
  {
   "cell_type": "code",
   "execution_count": 8,
   "id": "b6d31ff0-3b79-4a57-98e3-087e39d7c64c",
   "metadata": {},
   "outputs": [
    {
     "data": {
      "text/plain": [
       "array([ 58,  57,  55,  53,  47,  43,  32,  30,  29,  25,  19,   8,   0,\n",
       "        56,  54,  39,   5,   1,  40,  66,  65,  41,  34,  21,   7,   6,\n",
       "        24,  76,  75,  72,  67,  59,  36,  70,  69,  51,  46,  44,  13,\n",
       "        16,  60,  38,  35,  10,  50,  68,  62,  22,  45,  42,  52,  11,\n",
       "        61,  49,  14,   2,  71,  48,  28,  26,  64,  63,   9,  78,  77,\n",
       "        17,  73,  18,   4,  33,  20,  15,  37,  23,  12,  31,   3,  27,\n",
       "        74,  83,  82,  81,  80,  79,  84,  85,  96,  95,  93,  92,  90,\n",
       "        94,  89,  88,  87,  86, 108, 107, 106, 105, 104, 101, 100,  98,\n",
       "       103,  99,  97, 110, 109, 102,  91, 200, 196, 194, 191, 185, 152,\n",
       "       134, 132, 129, 125, 182, 163, 162, 150, 147, 136, 115, 112, 189,\n",
       "       151, 148, 122, 116, 199, 197, 195, 192, 170, 138, 111, 187, 175,\n",
       "       173, 160, 131, 178, 168, 142, 120, 119, 193, 181, 172, 165, 130,\n",
       "       190, 184, 183, 177, 176, 169, 166, 146, 180, 135, 126, 123, 137,\n",
       "       133, 128, 127], dtype=int64)"
      ]
     },
     "execution_count": 8,
     "metadata": {},
     "output_type": "execute_result"
    }
   ],
   "source": [
    "results_df['laps'].unique() # check for ambiguity or values labeled \"\\N\""
   ]
  },
  {
   "cell_type": "markdown",
   "id": "cb62cedc-c501-44b9-8cd4-b5e32025be75",
   "metadata": {},
   "source": [
    " - `laps` looks good, will keep for modeling and re-name to `laps_completed` for further clarification."
   ]
  },
  {
   "cell_type": "code",
   "execution_count": 9,
   "id": "b035a723-3a53-476f-8694-37ed6d6c8bef",
   "metadata": {},
   "outputs": [
    {
     "data": {
      "text/plain": [
       "\\N          18460\n",
       "14259460        5\n",
       "10928200        3\n",
       "5403200         2\n",
       "4925000         2\n",
       "            ...  \n",
       "6164200         1\n",
       "5782237         1\n",
       "5445271         1\n",
       "5944726         1\n",
       "10377000        1\n",
       "Name: milliseconds, Length: 6644, dtype: int64"
      ]
     },
     "execution_count": 9,
     "metadata": {},
     "output_type": "execute_result"
    }
   ],
   "source": [
    "results_df['milliseconds'].value_counts() # check for ambiguity or values labeled \"\\N\""
   ]
  },
  {
   "cell_type": "code",
   "execution_count": 10,
   "id": "dcb115c7-d473-4866-b375-d026162df634",
   "metadata": {},
   "outputs": [
    {
     "data": {
      "text/plain": [
       "73.42879872712808"
      ]
     },
     "execution_count": 10,
     "metadata": {},
     "output_type": "execute_result"
    }
   ],
   "source": [
    "results_df['milliseconds'].value_counts(normalize=True).loc[r'\\N']*100 # prefix the '\\N' string with r to produce a raw string or else it will error."
   ]
  },
  {
   "cell_type": "markdown",
   "id": "95c855f5-0acf-4c39-bdf3-4b1f5b423ecc",
   "metadata": {},
   "source": [
    "- There are 18,460 **\\N** values which is assumed to represent null. This is unfortunate as `milliseconds` could have been a good feature for finishing position prediction, however will be dropped due to these values making up 73% of all milliseconds data."
   ]
  },
  {
   "cell_type": "code",
   "execution_count": 11,
   "id": "c644966a-8b41-49bd-b698-ac85dd14a6a0",
   "metadata": {},
   "outputs": [
    {
     "data": {
      "text/plain": [
       "\\N    18416\n",
       "50      241\n",
       "52      231\n",
       "53      225\n",
       "51      211\n",
       "      ...  \n",
       "77       12\n",
       "78        6\n",
       "73        5\n",
       "80        3\n",
       "85        2\n",
       "Name: fastestLap, Length: 80, dtype: int64"
      ]
     },
     "execution_count": 11,
     "metadata": {},
     "output_type": "execute_result"
    }
   ],
   "source": [
    "results_df['fastestLap'].value_counts() # check for ambiguity or values labeled \"\\N\""
   ]
  },
  {
   "cell_type": "code",
   "execution_count": 12,
   "id": "a31d40f6-6719-4d57-ba84-f47810cb74cc",
   "metadata": {},
   "outputs": [
    {
     "data": {
      "text/plain": [
       "73.25377883850437"
      ]
     },
     "execution_count": 12,
     "metadata": {},
     "output_type": "execute_result"
    }
   ],
   "source": [
    "results_df['fastestLap'].value_counts(normalize=True).loc[r'\\N']*100"
   ]
  },
  {
   "cell_type": "markdown",
   "id": "79cbf808-5579-4899-a979-05dc949ea291",
   "metadata": {},
   "source": [
    "- There are 18,416 **\\N** values which is assumed to represent null. This is unfortunate as `fastestLap` could have been a good feature for finishing position prediction, however will be dropped due to these values making up 73% of all fastest lap data."
   ]
  },
  {
   "cell_type": "code",
   "execution_count": 13,
   "id": "99657898-94e8-4990-8ad8-6ea92dfa7f4f",
   "metadata": {},
   "outputs": [
    {
     "data": {
      "text/plain": [
       "\\N          18416\n",
       "1:18.262        4\n",
       "1:43.026        4\n",
       "1:18.462        3\n",
       "1:28.918        3\n",
       "            ...  \n",
       "1:51.594        1\n",
       "1:20.790        1\n",
       "1:27.294        1\n",
       "1:35.991        1\n",
       "1:32.148        1\n",
       "Name: fastestLapTime, Length: 6223, dtype: int64"
      ]
     },
     "execution_count": 13,
     "metadata": {},
     "output_type": "execute_result"
    }
   ],
   "source": [
    "results_df['fastestLapTime'].value_counts() # check for ambiguity or values labeled \"\\N\""
   ]
  },
  {
   "cell_type": "code",
   "execution_count": 14,
   "id": "6457755a-55e9-4868-89e1-38074940ebc6",
   "metadata": {},
   "outputs": [
    {
     "data": {
      "text/plain": [
       "73.25377883850437"
      ]
     },
     "execution_count": 14,
     "metadata": {},
     "output_type": "execute_result"
    }
   ],
   "source": [
    "results_df['fastestLapTime'].value_counts(normalize=True).loc[r'\\N']*100"
   ]
  },
  {
   "cell_type": "markdown",
   "id": "f2469a42-fd13-42fc-9ea5-1bf096f71b43",
   "metadata": {},
   "source": [
    "- There are 18,416 **\\N** values which is assumed to represent null. This is unfortunate as `fastestLapTime` could have been a good feature for finishing position prediction, however will be dropped due to these values making up 73% of all fastest lap time data."
   ]
  },
  {
   "cell_type": "code",
   "execution_count": 15,
   "id": "b9c525bc-c329-4af7-b216-67d4188b3f40",
   "metadata": {},
   "outputs": [
    {
     "data": {
      "text/plain": [
       "\\N         18416\n",
       "201.330        3\n",
       "196.785        3\n",
       "220.611        3\n",
       "213.224        3\n",
       "           ...  \n",
       "196.077        1\n",
       "223.201        1\n",
       "210.132        1\n",
       "177.752        1\n",
       "219.660        1\n",
       "Name: fastestLapSpeed, Length: 6349, dtype: int64"
      ]
     },
     "execution_count": 15,
     "metadata": {},
     "output_type": "execute_result"
    }
   ],
   "source": [
    "results_df['fastestLapSpeed'].value_counts() # check for ambiguity or values labeled \"\\N\""
   ]
  },
  {
   "cell_type": "code",
   "execution_count": 16,
   "id": "1f2b4d1e-fc7b-4e50-b873-4919c3ea3fef",
   "metadata": {},
   "outputs": [
    {
     "data": {
      "text/plain": [
       "73.25377883850437"
      ]
     },
     "execution_count": 16,
     "metadata": {},
     "output_type": "execute_result"
    }
   ],
   "source": [
    "results_df['fastestLapSpeed'].value_counts(normalize=True).loc[r'\\N']*100"
   ]
  },
  {
   "cell_type": "markdown",
   "id": "23f0a185-bbf0-4a35-b14d-290265dbe0fc",
   "metadata": {},
   "source": [
    "- There are 18,416 **\\N** values which is assumed to represent null. This is unfortunate as `fastestLapSpeed` could have been a good feature for finishing position prediction, however will be dropped due to these values making up 73% of all fastest lap speed data.\n",
    "- Now that the selected columns have been reviewed from results, it's time to rename & drop the appropriate columns."
   ]
  },
  {
   "cell_type": "code",
   "execution_count": 17,
   "id": "e4beedf3-260d-4e05-b9ff-f335377a687e",
   "metadata": {},
   "outputs": [
    {
     "data": {
      "text/html": [
       "<div>\n",
       "<style scoped>\n",
       "    .dataframe tbody tr th:only-of-type {\n",
       "        vertical-align: middle;\n",
       "    }\n",
       "\n",
       "    .dataframe tbody tr th {\n",
       "        vertical-align: top;\n",
       "    }\n",
       "\n",
       "    .dataframe thead th {\n",
       "        text-align: right;\n",
       "    }\n",
       "</style>\n",
       "<table border=\"1\" class=\"dataframe\">\n",
       "  <thead>\n",
       "    <tr style=\"text-align: right;\">\n",
       "      <th></th>\n",
       "      <th>resultId</th>\n",
       "      <th>raceId</th>\n",
       "      <th>driverId</th>\n",
       "      <th>constructorId</th>\n",
       "      <th>number</th>\n",
       "      <th>grid</th>\n",
       "      <th>position</th>\n",
       "      <th>positionText</th>\n",
       "      <th>finishing_position</th>\n",
       "      <th>points</th>\n",
       "      <th>completed_laps</th>\n",
       "      <th>time</th>\n",
       "      <th>milliseconds</th>\n",
       "      <th>fastestLap</th>\n",
       "      <th>rank</th>\n",
       "      <th>fastestLapTime</th>\n",
       "      <th>fastestLapSpeed</th>\n",
       "      <th>statusId</th>\n",
       "    </tr>\n",
       "  </thead>\n",
       "  <tbody>\n",
       "    <tr>\n",
       "      <th>0</th>\n",
       "      <td>1</td>\n",
       "      <td>18</td>\n",
       "      <td>1</td>\n",
       "      <td>1</td>\n",
       "      <td>22</td>\n",
       "      <td>1</td>\n",
       "      <td>1</td>\n",
       "      <td>1</td>\n",
       "      <td>1</td>\n",
       "      <td>10.0</td>\n",
       "      <td>58</td>\n",
       "      <td>1:34:50.616</td>\n",
       "      <td>5690616</td>\n",
       "      <td>39</td>\n",
       "      <td>2</td>\n",
       "      <td>1:27.452</td>\n",
       "      <td>218.300</td>\n",
       "      <td>1</td>\n",
       "    </tr>\n",
       "    <tr>\n",
       "      <th>1</th>\n",
       "      <td>2</td>\n",
       "      <td>18</td>\n",
       "      <td>2</td>\n",
       "      <td>2</td>\n",
       "      <td>3</td>\n",
       "      <td>5</td>\n",
       "      <td>2</td>\n",
       "      <td>2</td>\n",
       "      <td>2</td>\n",
       "      <td>8.0</td>\n",
       "      <td>58</td>\n",
       "      <td>+5.478</td>\n",
       "      <td>5696094</td>\n",
       "      <td>41</td>\n",
       "      <td>3</td>\n",
       "      <td>1:27.739</td>\n",
       "      <td>217.586</td>\n",
       "      <td>1</td>\n",
       "    </tr>\n",
       "    <tr>\n",
       "      <th>2</th>\n",
       "      <td>3</td>\n",
       "      <td>18</td>\n",
       "      <td>3</td>\n",
       "      <td>3</td>\n",
       "      <td>7</td>\n",
       "      <td>7</td>\n",
       "      <td>3</td>\n",
       "      <td>3</td>\n",
       "      <td>3</td>\n",
       "      <td>6.0</td>\n",
       "      <td>58</td>\n",
       "      <td>+8.163</td>\n",
       "      <td>5698779</td>\n",
       "      <td>41</td>\n",
       "      <td>5</td>\n",
       "      <td>1:28.090</td>\n",
       "      <td>216.719</td>\n",
       "      <td>1</td>\n",
       "    </tr>\n",
       "    <tr>\n",
       "      <th>3</th>\n",
       "      <td>4</td>\n",
       "      <td>18</td>\n",
       "      <td>4</td>\n",
       "      <td>4</td>\n",
       "      <td>5</td>\n",
       "      <td>11</td>\n",
       "      <td>4</td>\n",
       "      <td>4</td>\n",
       "      <td>4</td>\n",
       "      <td>5.0</td>\n",
       "      <td>58</td>\n",
       "      <td>+17.181</td>\n",
       "      <td>5707797</td>\n",
       "      <td>58</td>\n",
       "      <td>7</td>\n",
       "      <td>1:28.603</td>\n",
       "      <td>215.464</td>\n",
       "      <td>1</td>\n",
       "    </tr>\n",
       "    <tr>\n",
       "      <th>4</th>\n",
       "      <td>5</td>\n",
       "      <td>18</td>\n",
       "      <td>5</td>\n",
       "      <td>1</td>\n",
       "      <td>23</td>\n",
       "      <td>3</td>\n",
       "      <td>5</td>\n",
       "      <td>5</td>\n",
       "      <td>5</td>\n",
       "      <td>4.0</td>\n",
       "      <td>58</td>\n",
       "      <td>+18.014</td>\n",
       "      <td>5708630</td>\n",
       "      <td>43</td>\n",
       "      <td>1</td>\n",
       "      <td>1:27.418</td>\n",
       "      <td>218.385</td>\n",
       "      <td>1</td>\n",
       "    </tr>\n",
       "  </tbody>\n",
       "</table>\n",
       "</div>"
      ],
      "text/plain": [
       "   resultId  raceId  driverId  constructorId number  grid position  \\\n",
       "0         1      18         1              1     22     1        1   \n",
       "1         2      18         2              2      3     5        2   \n",
       "2         3      18         3              3      7     7        3   \n",
       "3         4      18         4              4      5    11        4   \n",
       "4         5      18         5              1     23     3        5   \n",
       "\n",
       "  positionText  finishing_position  points  completed_laps         time  \\\n",
       "0            1                   1    10.0              58  1:34:50.616   \n",
       "1            2                   2     8.0              58       +5.478   \n",
       "2            3                   3     6.0              58       +8.163   \n",
       "3            4                   4     5.0              58      +17.181   \n",
       "4            5                   5     4.0              58      +18.014   \n",
       "\n",
       "  milliseconds fastestLap rank fastestLapTime fastestLapSpeed  statusId  \n",
       "0      5690616         39    2       1:27.452         218.300         1  \n",
       "1      5696094         41    3       1:27.739         217.586         1  \n",
       "2      5698779         41    5       1:28.090         216.719         1  \n",
       "3      5707797         58    7       1:28.603         215.464         1  \n",
       "4      5708630         43    1       1:27.418         218.385         1  "
      ]
     },
     "execution_count": 17,
     "metadata": {},
     "output_type": "execute_result"
    }
   ],
   "source": [
    "results_df = results_df.rename(columns = {'positionOrder':'finishing_position', 'laps':'completed_laps'})\n",
    "results_df.head()"
   ]
  },
  {
   "cell_type": "code",
   "execution_count": 18,
   "id": "34447620-6dad-4d30-8e2b-a586f79b85a9",
   "metadata": {},
   "outputs": [
    {
     "data": {
      "text/html": [
       "<div>\n",
       "<style scoped>\n",
       "    .dataframe tbody tr th:only-of-type {\n",
       "        vertical-align: middle;\n",
       "    }\n",
       "\n",
       "    .dataframe tbody tr th {\n",
       "        vertical-align: top;\n",
       "    }\n",
       "\n",
       "    .dataframe thead th {\n",
       "        text-align: right;\n",
       "    }\n",
       "</style>\n",
       "<table border=\"1\" class=\"dataframe\">\n",
       "  <thead>\n",
       "    <tr style=\"text-align: right;\">\n",
       "      <th></th>\n",
       "      <th>raceId</th>\n",
       "      <th>driverId</th>\n",
       "      <th>constructorId</th>\n",
       "      <th>grid</th>\n",
       "      <th>finishing_position</th>\n",
       "      <th>completed_laps</th>\n",
       "      <th>statusId</th>\n",
       "    </tr>\n",
       "  </thead>\n",
       "  <tbody>\n",
       "    <tr>\n",
       "      <th>0</th>\n",
       "      <td>18</td>\n",
       "      <td>1</td>\n",
       "      <td>1</td>\n",
       "      <td>1</td>\n",
       "      <td>1</td>\n",
       "      <td>58</td>\n",
       "      <td>1</td>\n",
       "    </tr>\n",
       "    <tr>\n",
       "      <th>1</th>\n",
       "      <td>18</td>\n",
       "      <td>2</td>\n",
       "      <td>2</td>\n",
       "      <td>5</td>\n",
       "      <td>2</td>\n",
       "      <td>58</td>\n",
       "      <td>1</td>\n",
       "    </tr>\n",
       "    <tr>\n",
       "      <th>2</th>\n",
       "      <td>18</td>\n",
       "      <td>3</td>\n",
       "      <td>3</td>\n",
       "      <td>7</td>\n",
       "      <td>3</td>\n",
       "      <td>58</td>\n",
       "      <td>1</td>\n",
       "    </tr>\n",
       "    <tr>\n",
       "      <th>3</th>\n",
       "      <td>18</td>\n",
       "      <td>4</td>\n",
       "      <td>4</td>\n",
       "      <td>11</td>\n",
       "      <td>4</td>\n",
       "      <td>58</td>\n",
       "      <td>1</td>\n",
       "    </tr>\n",
       "    <tr>\n",
       "      <th>4</th>\n",
       "      <td>18</td>\n",
       "      <td>5</td>\n",
       "      <td>1</td>\n",
       "      <td>3</td>\n",
       "      <td>5</td>\n",
       "      <td>58</td>\n",
       "      <td>1</td>\n",
       "    </tr>\n",
       "  </tbody>\n",
       "</table>\n",
       "</div>"
      ],
      "text/plain": [
       "   raceId  driverId  constructorId  grid  finishing_position  completed_laps  \\\n",
       "0      18         1              1     1                   1              58   \n",
       "1      18         2              2     5                   2              58   \n",
       "2      18         3              3     7                   3              58   \n",
       "3      18         4              4    11                   4              58   \n",
       "4      18         5              1     3                   5              58   \n",
       "\n",
       "   statusId  \n",
       "0         1  \n",
       "1         1  \n",
       "2         1  \n",
       "3         1  \n",
       "4         1  "
      ]
     },
     "execution_count": 18,
     "metadata": {},
     "output_type": "execute_result"
    }
   ],
   "source": [
    "results_df = results_df.drop(['resultId', 'number', 'position', 'positionText', 'points', 'time', 'milliseconds', 'rank','fastestLap','fastestLapTime', 'fastestLapSpeed'], axis=1)\n",
    "results_df.head()"
   ]
  },
  {
   "cell_type": "markdown",
   "id": "70bb1adf-c3ac-40be-8fe9-1fc52894d930",
   "metadata": {},
   "source": [
    "## Finishing Status"
   ]
  },
  {
   "cell_type": "code",
   "execution_count": 19,
   "id": "15ea0dcd-ccbb-457b-ae59-3bbc3b157da6",
   "metadata": {},
   "outputs": [
    {
     "data": {
      "text/html": [
       "<div>\n",
       "<style scoped>\n",
       "    .dataframe tbody tr th:only-of-type {\n",
       "        vertical-align: middle;\n",
       "    }\n",
       "\n",
       "    .dataframe tbody tr th {\n",
       "        vertical-align: top;\n",
       "    }\n",
       "\n",
       "    .dataframe thead th {\n",
       "        text-align: right;\n",
       "    }\n",
       "</style>\n",
       "<table border=\"1\" class=\"dataframe\">\n",
       "  <thead>\n",
       "    <tr style=\"text-align: right;\">\n",
       "      <th></th>\n",
       "      <th>statusId</th>\n",
       "      <th>status</th>\n",
       "    </tr>\n",
       "  </thead>\n",
       "  <tbody>\n",
       "    <tr>\n",
       "      <th>0</th>\n",
       "      <td>1</td>\n",
       "      <td>Finished</td>\n",
       "    </tr>\n",
       "    <tr>\n",
       "      <th>1</th>\n",
       "      <td>2</td>\n",
       "      <td>Disqualified</td>\n",
       "    </tr>\n",
       "    <tr>\n",
       "      <th>2</th>\n",
       "      <td>3</td>\n",
       "      <td>Accident</td>\n",
       "    </tr>\n",
       "    <tr>\n",
       "      <th>3</th>\n",
       "      <td>4</td>\n",
       "      <td>Collision</td>\n",
       "    </tr>\n",
       "    <tr>\n",
       "      <th>4</th>\n",
       "      <td>5</td>\n",
       "      <td>Engine</td>\n",
       "    </tr>\n",
       "  </tbody>\n",
       "</table>\n",
       "</div>"
      ],
      "text/plain": [
       "   statusId        status\n",
       "0         1      Finished\n",
       "1         2  Disqualified\n",
       "2         3      Accident\n",
       "3         4     Collision\n",
       "4         5        Engine"
      ]
     },
     "execution_count": 19,
     "metadata": {},
     "output_type": "execute_result"
    }
   ],
   "source": [
    "status_df = pd.read_csv('data/status.csv')\n",
    "status_df.head()"
   ]
  },
  {
   "cell_type": "code",
   "execution_count": 20,
   "id": "69a1a950-15a7-48b5-a7e6-4bade18cec29",
   "metadata": {},
   "outputs": [
    {
     "name": "stdout",
     "output_type": "stream",
     "text": [
      "Shape: (137, 2)\n",
      "Statuses: 137\n",
      "Nulls: 0\n",
      "Duplicates: 0\n"
     ]
    }
   ],
   "source": [
    "print(f'Shape: {status_df.shape}')\n",
    "print(f\"Statuses: {status_df['statusId'].nunique()}\")\n",
    "print(f'Nulls: {status_df.isna().sum().sum()}')\n",
    "print(f'Duplicates: {status_df.duplicated().sum()}')"
   ]
  },
  {
   "cell_type": "code",
   "execution_count": 21,
   "id": "6684f08a-f9b0-4717-8058-965d54b0796f",
   "metadata": {},
   "outputs": [
    {
     "data": {
      "text/plain": [
       "array(['+1 Lap', '+10 Laps', '+11 Laps', '+12 Laps', '+13 Laps',\n",
       "       '+14 Laps', '+15 Laps', '+16 Laps', '+17 Laps', '+18 Laps',\n",
       "       '+19 Laps', '+2 Laps', '+20 Laps', '+21 Laps', '+22 Laps',\n",
       "       '+23 Laps', '+24 Laps', '+25 Laps', '+26 Laps', '+29 Laps',\n",
       "       '+3 Laps', '+30 Laps', '+38 Laps', '+4 Laps', '+42 Laps',\n",
       "       '+44 Laps', '+46 Laps', '+49 Laps', '+5 Laps', '+6 Laps',\n",
       "       '+7 Laps', '+8 Laps', '+9 Laps', '107% Rule', 'Accident',\n",
       "       'Alternator', 'Axle', 'Battery', 'Brake duct', 'Brakes',\n",
       "       'Broken wing', 'CV joint', 'Chassis', 'Clutch', 'Collision',\n",
       "       'Collision damage', 'Crankshaft', 'Damage', 'Debris',\n",
       "       'Did not prequalify', 'Did not qualify', 'Differential',\n",
       "       'Disqualified', 'Distributor', 'Driver Seat', 'Driver unwell',\n",
       "       'Driveshaft', 'Drivetrain', 'ERS', 'Electrical', 'Electronics',\n",
       "       'Engine', 'Engine fire', 'Engine misfire', 'Excluded', 'Exhaust',\n",
       "       'Eye injury', 'Fatal accident', 'Finished', 'Fire', 'Front wing',\n",
       "       'Fuel', 'Fuel leak', 'Fuel pipe', 'Fuel pressure', 'Fuel pump',\n",
       "       'Fuel rig', 'Fuel system', 'Gearbox', 'Halfshaft', 'Handling',\n",
       "       'Heat shield fire', 'Hydraulics', 'Ignition', 'Illness',\n",
       "       'Injection', 'Injured', 'Injury', 'Launch control', 'Magneto',\n",
       "       'Mechanical', 'Not classified', 'Not restarted', 'Oil leak',\n",
       "       'Oil line', 'Oil pipe', 'Oil pressure', 'Oil pump', 'Out of fuel',\n",
       "       'Overheating', 'Physical', 'Pneumatics', 'Power Unit',\n",
       "       'Power loss', 'Puncture', 'Radiator', 'Rear wing', 'Refuelling',\n",
       "       'Retired', 'Safety', 'Safety belt', 'Safety concerns', 'Seat',\n",
       "       'Spark plugs', 'Spun off', 'Stalled', 'Steering', 'Supercharger',\n",
       "       'Suspension', 'Technical', 'Throttle', 'Track rod', 'Transmission',\n",
       "       'Turbo', 'Tyre', 'Tyre puncture', 'Underweight', 'Vibrations',\n",
       "       'Water leak', 'Water pipe', 'Water pressure', 'Water pump',\n",
       "       'Wheel', 'Wheel bearing', 'Wheel nut', 'Wheel rim', 'Withdrew'],\n",
       "      dtype=object)"
      ]
     },
     "execution_count": 21,
     "metadata": {},
     "output_type": "execute_result"
    }
   ],
   "source": [
    "status_df['status'].sort_values().unique() # check for ambiguity or values labeled \"\\N\""
   ]
  },
  {
   "cell_type": "markdown",
   "id": "3f4bec89-498c-46a1-9b2e-0d4ab3ee6c6c",
   "metadata": {},
   "source": [
    "There are 137 different race finishing statuses.\n",
    "- `statusId`: unique identifier for status feature.\n",
    "- `status`: race finishing status, this could help provide predictive power for finishing position.\n",
    "\n",
    "Given that status is just two columns, will go ahead and merge them now to **results_df** to save time."
   ]
  },
  {
   "cell_type": "code",
   "execution_count": 22,
   "id": "3d0c2aa2-8f41-4160-85c1-b201b66e0604",
   "metadata": {},
   "outputs": [
    {
     "data": {
      "text/html": [
       "<div>\n",
       "<style scoped>\n",
       "    .dataframe tbody tr th:only-of-type {\n",
       "        vertical-align: middle;\n",
       "    }\n",
       "\n",
       "    .dataframe tbody tr th {\n",
       "        vertical-align: top;\n",
       "    }\n",
       "\n",
       "    .dataframe thead th {\n",
       "        text-align: right;\n",
       "    }\n",
       "</style>\n",
       "<table border=\"1\" class=\"dataframe\">\n",
       "  <thead>\n",
       "    <tr style=\"text-align: right;\">\n",
       "      <th></th>\n",
       "      <th>raceId</th>\n",
       "      <th>driverId</th>\n",
       "      <th>constructorId</th>\n",
       "      <th>grid</th>\n",
       "      <th>finishing_position</th>\n",
       "      <th>completed_laps</th>\n",
       "      <th>statusId</th>\n",
       "      <th>status</th>\n",
       "    </tr>\n",
       "  </thead>\n",
       "  <tbody>\n",
       "    <tr>\n",
       "      <th>0</th>\n",
       "      <td>18</td>\n",
       "      <td>1</td>\n",
       "      <td>1</td>\n",
       "      <td>1</td>\n",
       "      <td>1</td>\n",
       "      <td>58</td>\n",
       "      <td>1</td>\n",
       "      <td>Finished</td>\n",
       "    </tr>\n",
       "    <tr>\n",
       "      <th>1</th>\n",
       "      <td>18</td>\n",
       "      <td>2</td>\n",
       "      <td>2</td>\n",
       "      <td>5</td>\n",
       "      <td>2</td>\n",
       "      <td>58</td>\n",
       "      <td>1</td>\n",
       "      <td>Finished</td>\n",
       "    </tr>\n",
       "    <tr>\n",
       "      <th>2</th>\n",
       "      <td>18</td>\n",
       "      <td>3</td>\n",
       "      <td>3</td>\n",
       "      <td>7</td>\n",
       "      <td>3</td>\n",
       "      <td>58</td>\n",
       "      <td>1</td>\n",
       "      <td>Finished</td>\n",
       "    </tr>\n",
       "    <tr>\n",
       "      <th>3</th>\n",
       "      <td>18</td>\n",
       "      <td>4</td>\n",
       "      <td>4</td>\n",
       "      <td>11</td>\n",
       "      <td>4</td>\n",
       "      <td>58</td>\n",
       "      <td>1</td>\n",
       "      <td>Finished</td>\n",
       "    </tr>\n",
       "    <tr>\n",
       "      <th>4</th>\n",
       "      <td>18</td>\n",
       "      <td>5</td>\n",
       "      <td>1</td>\n",
       "      <td>3</td>\n",
       "      <td>5</td>\n",
       "      <td>58</td>\n",
       "      <td>1</td>\n",
       "      <td>Finished</td>\n",
       "    </tr>\n",
       "  </tbody>\n",
       "</table>\n",
       "</div>"
      ],
      "text/plain": [
       "   raceId  driverId  constructorId  grid  finishing_position  completed_laps  \\\n",
       "0      18         1              1     1                   1              58   \n",
       "1      18         2              2     5                   2              58   \n",
       "2      18         3              3     7                   3              58   \n",
       "3      18         4              4    11                   4              58   \n",
       "4      18         5              1     3                   5              58   \n",
       "\n",
       "   statusId    status  \n",
       "0         1  Finished  \n",
       "1         1  Finished  \n",
       "2         1  Finished  \n",
       "3         1  Finished  \n",
       "4         1  Finished  "
      ]
     },
     "execution_count": 22,
     "metadata": {},
     "output_type": "execute_result"
    }
   ],
   "source": [
    "results_df = pd.merge(results_df, status_df, on = \"statusId\") \n",
    "results_df.head()"
   ]
  },
  {
   "cell_type": "markdown",
   "id": "3d1df45a-74b0-45f1-a2dc-b6d7d411f707",
   "metadata": {},
   "source": [
    "- Looks good, now `statusId` will be dropped as this just duplicates information."
   ]
  },
  {
   "cell_type": "code",
   "execution_count": 23,
   "id": "a36f48bf-fd01-4e16-bccd-ad384e946a74",
   "metadata": {},
   "outputs": [
    {
     "data": {
      "text/html": [
       "<div>\n",
       "<style scoped>\n",
       "    .dataframe tbody tr th:only-of-type {\n",
       "        vertical-align: middle;\n",
       "    }\n",
       "\n",
       "    .dataframe tbody tr th {\n",
       "        vertical-align: top;\n",
       "    }\n",
       "\n",
       "    .dataframe thead th {\n",
       "        text-align: right;\n",
       "    }\n",
       "</style>\n",
       "<table border=\"1\" class=\"dataframe\">\n",
       "  <thead>\n",
       "    <tr style=\"text-align: right;\">\n",
       "      <th></th>\n",
       "      <th>raceId</th>\n",
       "      <th>driverId</th>\n",
       "      <th>constructorId</th>\n",
       "      <th>grid</th>\n",
       "      <th>finishing_position</th>\n",
       "      <th>completed_laps</th>\n",
       "      <th>status</th>\n",
       "    </tr>\n",
       "  </thead>\n",
       "  <tbody>\n",
       "    <tr>\n",
       "      <th>0</th>\n",
       "      <td>18</td>\n",
       "      <td>1</td>\n",
       "      <td>1</td>\n",
       "      <td>1</td>\n",
       "      <td>1</td>\n",
       "      <td>58</td>\n",
       "      <td>Finished</td>\n",
       "    </tr>\n",
       "    <tr>\n",
       "      <th>1</th>\n",
       "      <td>18</td>\n",
       "      <td>2</td>\n",
       "      <td>2</td>\n",
       "      <td>5</td>\n",
       "      <td>2</td>\n",
       "      <td>58</td>\n",
       "      <td>Finished</td>\n",
       "    </tr>\n",
       "    <tr>\n",
       "      <th>2</th>\n",
       "      <td>18</td>\n",
       "      <td>3</td>\n",
       "      <td>3</td>\n",
       "      <td>7</td>\n",
       "      <td>3</td>\n",
       "      <td>58</td>\n",
       "      <td>Finished</td>\n",
       "    </tr>\n",
       "    <tr>\n",
       "      <th>3</th>\n",
       "      <td>18</td>\n",
       "      <td>4</td>\n",
       "      <td>4</td>\n",
       "      <td>11</td>\n",
       "      <td>4</td>\n",
       "      <td>58</td>\n",
       "      <td>Finished</td>\n",
       "    </tr>\n",
       "    <tr>\n",
       "      <th>4</th>\n",
       "      <td>18</td>\n",
       "      <td>5</td>\n",
       "      <td>1</td>\n",
       "      <td>3</td>\n",
       "      <td>5</td>\n",
       "      <td>58</td>\n",
       "      <td>Finished</td>\n",
       "    </tr>\n",
       "  </tbody>\n",
       "</table>\n",
       "</div>"
      ],
      "text/plain": [
       "   raceId  driverId  constructorId  grid  finishing_position  completed_laps  \\\n",
       "0      18         1              1     1                   1              58   \n",
       "1      18         2              2     5                   2              58   \n",
       "2      18         3              3     7                   3              58   \n",
       "3      18         4              4    11                   4              58   \n",
       "4      18         5              1     3                   5              58   \n",
       "\n",
       "     status  \n",
       "0  Finished  \n",
       "1  Finished  \n",
       "2  Finished  \n",
       "3  Finished  \n",
       "4  Finished  "
      ]
     },
     "execution_count": 23,
     "metadata": {},
     "output_type": "execute_result"
    }
   ],
   "source": [
    "results_df = results_df.drop(['statusId'], axis=1)\n",
    "results_df.head()"
   ]
  },
  {
   "cell_type": "markdown",
   "id": "5b0e01b6-128f-4a9f-8e4e-05386f0bce24",
   "metadata": {
    "toc-hr-collapsed": true
   },
   "source": [
    "## Races"
   ]
  },
  {
   "cell_type": "code",
   "execution_count": 24,
   "id": "33c41e60-8216-4269-bb7e-68047678e90e",
   "metadata": {
    "tags": []
   },
   "outputs": [
    {
     "data": {
      "text/html": [
       "<div>\n",
       "<style scoped>\n",
       "    .dataframe tbody tr th:only-of-type {\n",
       "        vertical-align: middle;\n",
       "    }\n",
       "\n",
       "    .dataframe tbody tr th {\n",
       "        vertical-align: top;\n",
       "    }\n",
       "\n",
       "    .dataframe thead th {\n",
       "        text-align: right;\n",
       "    }\n",
       "</style>\n",
       "<table border=\"1\" class=\"dataframe\">\n",
       "  <thead>\n",
       "    <tr style=\"text-align: right;\">\n",
       "      <th></th>\n",
       "      <th>raceId</th>\n",
       "      <th>year</th>\n",
       "      <th>round</th>\n",
       "      <th>circuitId</th>\n",
       "      <th>name</th>\n",
       "      <th>date</th>\n",
       "      <th>time</th>\n",
       "      <th>url</th>\n",
       "    </tr>\n",
       "  </thead>\n",
       "  <tbody>\n",
       "    <tr>\n",
       "      <th>0</th>\n",
       "      <td>1</td>\n",
       "      <td>2009</td>\n",
       "      <td>1</td>\n",
       "      <td>1</td>\n",
       "      <td>Australian Grand Prix</td>\n",
       "      <td>2009-03-29</td>\n",
       "      <td>06:00:00</td>\n",
       "      <td>http://en.wikipedia.org/wiki/2009_Australian_G...</td>\n",
       "    </tr>\n",
       "    <tr>\n",
       "      <th>1</th>\n",
       "      <td>2</td>\n",
       "      <td>2009</td>\n",
       "      <td>2</td>\n",
       "      <td>2</td>\n",
       "      <td>Malaysian Grand Prix</td>\n",
       "      <td>2009-04-05</td>\n",
       "      <td>09:00:00</td>\n",
       "      <td>http://en.wikipedia.org/wiki/2009_Malaysian_Gr...</td>\n",
       "    </tr>\n",
       "    <tr>\n",
       "      <th>2</th>\n",
       "      <td>3</td>\n",
       "      <td>2009</td>\n",
       "      <td>3</td>\n",
       "      <td>17</td>\n",
       "      <td>Chinese Grand Prix</td>\n",
       "      <td>2009-04-19</td>\n",
       "      <td>07:00:00</td>\n",
       "      <td>http://en.wikipedia.org/wiki/2009_Chinese_Gran...</td>\n",
       "    </tr>\n",
       "    <tr>\n",
       "      <th>3</th>\n",
       "      <td>4</td>\n",
       "      <td>2009</td>\n",
       "      <td>4</td>\n",
       "      <td>3</td>\n",
       "      <td>Bahrain Grand Prix</td>\n",
       "      <td>2009-04-26</td>\n",
       "      <td>12:00:00</td>\n",
       "      <td>http://en.wikipedia.org/wiki/2009_Bahrain_Gran...</td>\n",
       "    </tr>\n",
       "    <tr>\n",
       "      <th>4</th>\n",
       "      <td>5</td>\n",
       "      <td>2009</td>\n",
       "      <td>5</td>\n",
       "      <td>4</td>\n",
       "      <td>Spanish Grand Prix</td>\n",
       "      <td>2009-05-10</td>\n",
       "      <td>12:00:00</td>\n",
       "      <td>http://en.wikipedia.org/wiki/2009_Spanish_Gran...</td>\n",
       "    </tr>\n",
       "  </tbody>\n",
       "</table>\n",
       "</div>"
      ],
      "text/plain": [
       "   raceId  year  round  circuitId                   name        date  \\\n",
       "0       1  2009      1          1  Australian Grand Prix  2009-03-29   \n",
       "1       2  2009      2          2   Malaysian Grand Prix  2009-04-05   \n",
       "2       3  2009      3         17     Chinese Grand Prix  2009-04-19   \n",
       "3       4  2009      4          3     Bahrain Grand Prix  2009-04-26   \n",
       "4       5  2009      5          4     Spanish Grand Prix  2009-05-10   \n",
       "\n",
       "       time                                                url  \n",
       "0  06:00:00  http://en.wikipedia.org/wiki/2009_Australian_G...  \n",
       "1  09:00:00  http://en.wikipedia.org/wiki/2009_Malaysian_Gr...  \n",
       "2  07:00:00  http://en.wikipedia.org/wiki/2009_Chinese_Gran...  \n",
       "3  12:00:00  http://en.wikipedia.org/wiki/2009_Bahrain_Gran...  \n",
       "4  12:00:00  http://en.wikipedia.org/wiki/2009_Spanish_Gran...  "
      ]
     },
     "execution_count": 24,
     "metadata": {},
     "output_type": "execute_result"
    }
   ],
   "source": [
    "races_df = pd.read_csv('data/races.csv')\n",
    "races_df.head()"
   ]
  },
  {
   "cell_type": "code",
   "execution_count": 25,
   "id": "4911aa6d-3319-4d9c-83eb-bd595ca84ea3",
   "metadata": {},
   "outputs": [
    {
     "name": "stdout",
     "output_type": "stream",
     "text": [
      "Shape: (1058, 8)\n",
      "Nulls: 0\n",
      "Duplicates: 0\n"
     ]
    }
   ],
   "source": [
    "print(f'Shape: {races_df.shape}')\n",
    "print(f'Nulls: {races_df.isna().sum().sum()}')\n",
    "print(f'Duplicates: {races_df.duplicated().sum()}')"
   ]
  },
  {
   "cell_type": "markdown",
   "id": "011511af-09cc-41eb-8846-0de60658e4c8",
   "metadata": {},
   "source": [
    "- `raceId`: unique identifier for each race\n",
    "- `year`: year of race, this could help provide predictive power for finishing position.\n",
    "- `round`: series's round number in the championship, this could help provide predictive power for finishing position.\n",
    "- `circuitId`: unique identifier for each circuit\n",
    "- `name`: name of the race, is considered irrelevant for finishing position prediction, therefore will be dropped.\n",
    "- `date`: date of race, this could help provide predictive power for finishing position.\n",
    "- `time`: start time of race, this could help provide predictive power for finishing position.\n",
    "- `url`: wiki link of race, is considered irrelevant for finishing position prediction, therefore will be dropped.\n",
    "\n",
    "Next steps are to look at the selected columns to keep and confirm there is no ambiguity."
   ]
  },
  {
   "cell_type": "code",
   "execution_count": 26,
   "id": "3e19551a-38f8-486b-a171-f56040f8ce75",
   "metadata": {},
   "outputs": [
    {
     "data": {
      "text/plain": [
       "1058"
      ]
     },
     "execution_count": 26,
     "metadata": {},
     "output_type": "execute_result"
    }
   ],
   "source": [
    "races_df['raceId'].nunique()"
   ]
  },
  {
   "cell_type": "markdown",
   "id": "4b4cb08e-a039-4686-a70b-e28578b994b5",
   "metadata": {},
   "source": [
    "- There is 1,058 unique races in the **races_df**, however only 1,044 unique races in the **results_df**. These 14 races with no results won't appear in the final data set, however it would be nice to know why these races did not have finishing results. A few assumptions could be that these are older races and the results for whatever reason are not available, or could be canceled races due to weather or disasters. "
   ]
  },
  {
   "cell_type": "code",
   "execution_count": 27,
   "id": "904e5d47-42ef-452a-b8d8-83551ee20d11",
   "metadata": {},
   "outputs": [
    {
     "data": {
      "text/plain": [
       "array([1950, 1951, 1952, 1953, 1954, 1955, 1956, 1957, 1958, 1959, 1960,\n",
       "       1961, 1962, 1963, 1964, 1965, 1966, 1967, 1968, 1969, 1970, 1971,\n",
       "       1972, 1973, 1974, 1975, 1976, 1977, 1978, 1979, 1980, 1981, 1982,\n",
       "       1983, 1984, 1985, 1986, 1987, 1988, 1989, 1990, 1991, 1992, 1993,\n",
       "       1994, 1995, 1996, 1997, 1998, 1999, 2000, 2001, 2002, 2003, 2004,\n",
       "       2005, 2006, 2007, 2008, 2009, 2010, 2011, 2012, 2013, 2014, 2015,\n",
       "       2016, 2017, 2018, 2019, 2020, 2021], dtype=int64)"
      ]
     },
     "execution_count": 27,
     "metadata": {},
     "output_type": "execute_result"
    }
   ],
   "source": [
    "races_df['year'].sort_values().unique() # check for ambiguity or values labeled \"\\N\""
   ]
  },
  {
   "cell_type": "code",
   "execution_count": 28,
   "id": "7fae6f51-e822-4674-85b4-5cfd1ebdcdc3",
   "metadata": {},
   "outputs": [
    {
     "data": {
      "text/plain": [
       "array([ 1,  2,  3,  4,  5,  6,  7,  8,  9, 10, 11, 12, 13, 14, 15, 16, 17,\n",
       "       18, 19, 20, 21, 22, 23], dtype=int64)"
      ]
     },
     "execution_count": 28,
     "metadata": {},
     "output_type": "execute_result"
    }
   ],
   "source": [
    "races_df['round'].unique() # check for ambiguity or values labeled \"\\N\""
   ]
  },
  {
   "cell_type": "code",
   "execution_count": 29,
   "id": "cf6a635e-54f3-40b4-b2aa-88ec769e4a5c",
   "metadata": {},
   "outputs": [
    {
     "data": {
      "text/plain": [
       "array([ 1,  2,  3,  4,  5,  6,  7,  8,  9, 10, 11, 12, 13, 14, 15, 16, 17,\n",
       "       18, 19, 20, 21, 22, 23, 24, 25, 26, 27, 28, 29, 30, 31, 32, 33, 34,\n",
       "       35, 36, 37, 38, 39, 40, 41, 42, 43, 44, 45, 46, 47, 48, 49, 50, 51,\n",
       "       52, 53, 54, 55, 56, 57, 58, 59, 60, 61, 62, 63, 64, 65, 66, 67, 68,\n",
       "       69, 70, 71, 73, 75, 76, 77], dtype=int64)"
      ]
     },
     "execution_count": 29,
     "metadata": {},
     "output_type": "execute_result"
    }
   ],
   "source": [
    "races_df['circuitId'].sort_values().unique() # check for ambiguity or values labeled \"\\N\""
   ]
  },
  {
   "cell_type": "code",
   "execution_count": 30,
   "id": "fbd6baff-1035-49e4-877a-1d8b46f914de",
   "metadata": {},
   "outputs": [
    {
     "data": {
      "text/plain": [
       "1058"
      ]
     },
     "execution_count": 30,
     "metadata": {},
     "output_type": "execute_result"
    }
   ],
   "source": [
    "races_df['date'].nunique()"
   ]
  },
  {
   "cell_type": "code",
   "execution_count": 31,
   "id": "240c07b5-f7a4-426e-b84f-47b5e568dfe5",
   "metadata": {},
   "outputs": [
    {
     "data": {
      "text/plain": [
       "\\N          731\n",
       "12:00:00    109\n",
       "13:10:00     30\n",
       "14:00:00     30\n",
       "13:00:00     23\n",
       "06:00:00     20\n",
       "16:00:00     12\n",
       "07:00:00     11\n",
       "19:00:00     10\n",
       "15:00:00      9\n",
       "05:00:00      9\n",
       "12:10:00      6\n",
       "17:00:00      6\n",
       "18:00:00      6\n",
       "08:00:00      5\n",
       "11:00:00      4\n",
       "05:10:00      4\n",
       "04:30:00      3\n",
       "09:30:00      3\n",
       "19:10:00      3\n",
       "18:10:00      3\n",
       "17:10:00      3\n",
       "11:10:00      3\n",
       "15:10:00      2\n",
       "06:10:00      2\n",
       "10:10:00      2\n",
       "14:10:00      2\n",
       "11:30:00      2\n",
       "14:30:00      2\n",
       "09:00:00      1\n",
       "20:00:00      1\n",
       "03:00:00      1\n",
       "Name: time, dtype: int64"
      ]
     },
     "execution_count": 31,
     "metadata": {},
     "output_type": "execute_result"
    }
   ],
   "source": [
    "races_df['time'].value_counts() # check for ambiguity or values labeled \"\\N\""
   ]
  },
  {
   "cell_type": "markdown",
   "id": "275c40bf-213c-4ca5-8dba-40598b5f0f26",
   "metadata": {},
   "source": [
    "- There are 731 **\\N** values which is assumed to represent null. This is unfortunate as `time` of the race could have been a feature for finishing position prediction, however will be dropped due to the majority of missing data it contains. Now that the selected columns have been reviewed and there is no ambiguous data found, it's time to rename any columns for greater specificity as well as drop the appropriate columns."
   ]
  },
  {
   "cell_type": "code",
   "execution_count": 32,
   "id": "2531d71a-3ea8-4869-a8d6-d2caf24cb5d5",
   "metadata": {},
   "outputs": [
    {
     "data": {
      "text/html": [
       "<div>\n",
       "<style scoped>\n",
       "    .dataframe tbody tr th:only-of-type {\n",
       "        vertical-align: middle;\n",
       "    }\n",
       "\n",
       "    .dataframe tbody tr th {\n",
       "        vertical-align: top;\n",
       "    }\n",
       "\n",
       "    .dataframe thead th {\n",
       "        text-align: right;\n",
       "    }\n",
       "</style>\n",
       "<table border=\"1\" class=\"dataframe\">\n",
       "  <thead>\n",
       "    <tr style=\"text-align: right;\">\n",
       "      <th></th>\n",
       "      <th>raceId</th>\n",
       "      <th>year</th>\n",
       "      <th>round</th>\n",
       "      <th>circuitId</th>\n",
       "      <th>race_name</th>\n",
       "      <th>date</th>\n",
       "      <th>time</th>\n",
       "      <th>url</th>\n",
       "    </tr>\n",
       "  </thead>\n",
       "  <tbody>\n",
       "    <tr>\n",
       "      <th>0</th>\n",
       "      <td>1</td>\n",
       "      <td>2009</td>\n",
       "      <td>1</td>\n",
       "      <td>1</td>\n",
       "      <td>Australian Grand Prix</td>\n",
       "      <td>2009-03-29</td>\n",
       "      <td>06:00:00</td>\n",
       "      <td>http://en.wikipedia.org/wiki/2009_Australian_G...</td>\n",
       "    </tr>\n",
       "    <tr>\n",
       "      <th>1</th>\n",
       "      <td>2</td>\n",
       "      <td>2009</td>\n",
       "      <td>2</td>\n",
       "      <td>2</td>\n",
       "      <td>Malaysian Grand Prix</td>\n",
       "      <td>2009-04-05</td>\n",
       "      <td>09:00:00</td>\n",
       "      <td>http://en.wikipedia.org/wiki/2009_Malaysian_Gr...</td>\n",
       "    </tr>\n",
       "    <tr>\n",
       "      <th>2</th>\n",
       "      <td>3</td>\n",
       "      <td>2009</td>\n",
       "      <td>3</td>\n",
       "      <td>17</td>\n",
       "      <td>Chinese Grand Prix</td>\n",
       "      <td>2009-04-19</td>\n",
       "      <td>07:00:00</td>\n",
       "      <td>http://en.wikipedia.org/wiki/2009_Chinese_Gran...</td>\n",
       "    </tr>\n",
       "    <tr>\n",
       "      <th>3</th>\n",
       "      <td>4</td>\n",
       "      <td>2009</td>\n",
       "      <td>4</td>\n",
       "      <td>3</td>\n",
       "      <td>Bahrain Grand Prix</td>\n",
       "      <td>2009-04-26</td>\n",
       "      <td>12:00:00</td>\n",
       "      <td>http://en.wikipedia.org/wiki/2009_Bahrain_Gran...</td>\n",
       "    </tr>\n",
       "    <tr>\n",
       "      <th>4</th>\n",
       "      <td>5</td>\n",
       "      <td>2009</td>\n",
       "      <td>5</td>\n",
       "      <td>4</td>\n",
       "      <td>Spanish Grand Prix</td>\n",
       "      <td>2009-05-10</td>\n",
       "      <td>12:00:00</td>\n",
       "      <td>http://en.wikipedia.org/wiki/2009_Spanish_Gran...</td>\n",
       "    </tr>\n",
       "  </tbody>\n",
       "</table>\n",
       "</div>"
      ],
      "text/plain": [
       "   raceId  year  round  circuitId              race_name        date  \\\n",
       "0       1  2009      1          1  Australian Grand Prix  2009-03-29   \n",
       "1       2  2009      2          2   Malaysian Grand Prix  2009-04-05   \n",
       "2       3  2009      3         17     Chinese Grand Prix  2009-04-19   \n",
       "3       4  2009      4          3     Bahrain Grand Prix  2009-04-26   \n",
       "4       5  2009      5          4     Spanish Grand Prix  2009-05-10   \n",
       "\n",
       "       time                                                url  \n",
       "0  06:00:00  http://en.wikipedia.org/wiki/2009_Australian_G...  \n",
       "1  09:00:00  http://en.wikipedia.org/wiki/2009_Malaysian_Gr...  \n",
       "2  07:00:00  http://en.wikipedia.org/wiki/2009_Chinese_Gran...  \n",
       "3  12:00:00  http://en.wikipedia.org/wiki/2009_Bahrain_Gran...  \n",
       "4  12:00:00  http://en.wikipedia.org/wiki/2009_Spanish_Gran...  "
      ]
     },
     "execution_count": 32,
     "metadata": {},
     "output_type": "execute_result"
    }
   ],
   "source": [
    "races_df = races_df.rename(columns = {'name':'race_name'})\n",
    "races_df.head()"
   ]
  },
  {
   "cell_type": "code",
   "execution_count": 33,
   "id": "47606b56-24d7-42c0-9595-1d9fcfeccb2a",
   "metadata": {},
   "outputs": [
    {
     "data": {
      "text/html": [
       "<div>\n",
       "<style scoped>\n",
       "    .dataframe tbody tr th:only-of-type {\n",
       "        vertical-align: middle;\n",
       "    }\n",
       "\n",
       "    .dataframe tbody tr th {\n",
       "        vertical-align: top;\n",
       "    }\n",
       "\n",
       "    .dataframe thead th {\n",
       "        text-align: right;\n",
       "    }\n",
       "</style>\n",
       "<table border=\"1\" class=\"dataframe\">\n",
       "  <thead>\n",
       "    <tr style=\"text-align: right;\">\n",
       "      <th></th>\n",
       "      <th>raceId</th>\n",
       "      <th>round</th>\n",
       "      <th>circuitId</th>\n",
       "      <th>date</th>\n",
       "    </tr>\n",
       "  </thead>\n",
       "  <tbody>\n",
       "    <tr>\n",
       "      <th>0</th>\n",
       "      <td>1</td>\n",
       "      <td>1</td>\n",
       "      <td>1</td>\n",
       "      <td>2009-03-29</td>\n",
       "    </tr>\n",
       "    <tr>\n",
       "      <th>1</th>\n",
       "      <td>2</td>\n",
       "      <td>2</td>\n",
       "      <td>2</td>\n",
       "      <td>2009-04-05</td>\n",
       "    </tr>\n",
       "    <tr>\n",
       "      <th>2</th>\n",
       "      <td>3</td>\n",
       "      <td>3</td>\n",
       "      <td>17</td>\n",
       "      <td>2009-04-19</td>\n",
       "    </tr>\n",
       "    <tr>\n",
       "      <th>3</th>\n",
       "      <td>4</td>\n",
       "      <td>4</td>\n",
       "      <td>3</td>\n",
       "      <td>2009-04-26</td>\n",
       "    </tr>\n",
       "    <tr>\n",
       "      <th>4</th>\n",
       "      <td>5</td>\n",
       "      <td>5</td>\n",
       "      <td>4</td>\n",
       "      <td>2009-05-10</td>\n",
       "    </tr>\n",
       "  </tbody>\n",
       "</table>\n",
       "</div>"
      ],
      "text/plain": [
       "   raceId  round  circuitId        date\n",
       "0       1      1          1  2009-03-29\n",
       "1       2      2          2  2009-04-05\n",
       "2       3      3         17  2009-04-19\n",
       "3       4      4          3  2009-04-26\n",
       "4       5      5          4  2009-05-10"
      ]
     },
     "execution_count": 33,
     "metadata": {},
     "output_type": "execute_result"
    }
   ],
   "source": [
    "races_df = races_df.drop(['year', 'race_name', 'time', 'url'], axis=1)\n",
    "races_df.head()"
   ]
  },
  {
   "cell_type": "markdown",
   "id": "9826df37-73bb-4f26-8723-020fac1aa749",
   "metadata": {},
   "source": [
    "## Drivers"
   ]
  },
  {
   "cell_type": "code",
   "execution_count": 34,
   "id": "8cc46aea-d031-447a-b2b9-830f8fa3792a",
   "metadata": {},
   "outputs": [
    {
     "data": {
      "text/html": [
       "<div>\n",
       "<style scoped>\n",
       "    .dataframe tbody tr th:only-of-type {\n",
       "        vertical-align: middle;\n",
       "    }\n",
       "\n",
       "    .dataframe tbody tr th {\n",
       "        vertical-align: top;\n",
       "    }\n",
       "\n",
       "    .dataframe thead th {\n",
       "        text-align: right;\n",
       "    }\n",
       "</style>\n",
       "<table border=\"1\" class=\"dataframe\">\n",
       "  <thead>\n",
       "    <tr style=\"text-align: right;\">\n",
       "      <th></th>\n",
       "      <th>driverId</th>\n",
       "      <th>driverRef</th>\n",
       "      <th>number</th>\n",
       "      <th>code</th>\n",
       "      <th>forename</th>\n",
       "      <th>surname</th>\n",
       "      <th>dob</th>\n",
       "      <th>nationality</th>\n",
       "      <th>url</th>\n",
       "    </tr>\n",
       "  </thead>\n",
       "  <tbody>\n",
       "    <tr>\n",
       "      <th>0</th>\n",
       "      <td>1</td>\n",
       "      <td>hamilton</td>\n",
       "      <td>44</td>\n",
       "      <td>HAM</td>\n",
       "      <td>Lewis</td>\n",
       "      <td>Hamilton</td>\n",
       "      <td>1985-01-07</td>\n",
       "      <td>British</td>\n",
       "      <td>http://en.wikipedia.org/wiki/Lewis_Hamilton</td>\n",
       "    </tr>\n",
       "    <tr>\n",
       "      <th>1</th>\n",
       "      <td>2</td>\n",
       "      <td>heidfeld</td>\n",
       "      <td>\\N</td>\n",
       "      <td>HEI</td>\n",
       "      <td>Nick</td>\n",
       "      <td>Heidfeld</td>\n",
       "      <td>1977-05-10</td>\n",
       "      <td>German</td>\n",
       "      <td>http://en.wikipedia.org/wiki/Nick_Heidfeld</td>\n",
       "    </tr>\n",
       "    <tr>\n",
       "      <th>2</th>\n",
       "      <td>3</td>\n",
       "      <td>rosberg</td>\n",
       "      <td>6</td>\n",
       "      <td>ROS</td>\n",
       "      <td>Nico</td>\n",
       "      <td>Rosberg</td>\n",
       "      <td>1985-06-27</td>\n",
       "      <td>German</td>\n",
       "      <td>http://en.wikipedia.org/wiki/Nico_Rosberg</td>\n",
       "    </tr>\n",
       "    <tr>\n",
       "      <th>3</th>\n",
       "      <td>4</td>\n",
       "      <td>alonso</td>\n",
       "      <td>14</td>\n",
       "      <td>ALO</td>\n",
       "      <td>Fernando</td>\n",
       "      <td>Alonso</td>\n",
       "      <td>1981-07-29</td>\n",
       "      <td>Spanish</td>\n",
       "      <td>http://en.wikipedia.org/wiki/Fernando_Alonso</td>\n",
       "    </tr>\n",
       "    <tr>\n",
       "      <th>4</th>\n",
       "      <td>5</td>\n",
       "      <td>kovalainen</td>\n",
       "      <td>\\N</td>\n",
       "      <td>KOV</td>\n",
       "      <td>Heikki</td>\n",
       "      <td>Kovalainen</td>\n",
       "      <td>1981-10-19</td>\n",
       "      <td>Finnish</td>\n",
       "      <td>http://en.wikipedia.org/wiki/Heikki_Kovalainen</td>\n",
       "    </tr>\n",
       "  </tbody>\n",
       "</table>\n",
       "</div>"
      ],
      "text/plain": [
       "   driverId   driverRef number code  forename     surname         dob  \\\n",
       "0         1    hamilton     44  HAM     Lewis    Hamilton  1985-01-07   \n",
       "1         2    heidfeld     \\N  HEI      Nick    Heidfeld  1977-05-10   \n",
       "2         3     rosberg      6  ROS      Nico     Rosberg  1985-06-27   \n",
       "3         4      alonso     14  ALO  Fernando      Alonso  1981-07-29   \n",
       "4         5  kovalainen     \\N  KOV    Heikki  Kovalainen  1981-10-19   \n",
       "\n",
       "  nationality                                             url  \n",
       "0     British     http://en.wikipedia.org/wiki/Lewis_Hamilton  \n",
       "1      German      http://en.wikipedia.org/wiki/Nick_Heidfeld  \n",
       "2      German       http://en.wikipedia.org/wiki/Nico_Rosberg  \n",
       "3     Spanish    http://en.wikipedia.org/wiki/Fernando_Alonso  \n",
       "4     Finnish  http://en.wikipedia.org/wiki/Heikki_Kovalainen  "
      ]
     },
     "execution_count": 34,
     "metadata": {},
     "output_type": "execute_result"
    }
   ],
   "source": [
    "drivers_df = pd.read_csv('data/drivers.csv')\n",
    "drivers_df.head()"
   ]
  },
  {
   "cell_type": "code",
   "execution_count": 35,
   "id": "efdc1ab8-88af-412a-80a5-7594cc2864bb",
   "metadata": {},
   "outputs": [
    {
     "name": "stdout",
     "output_type": "stream",
     "text": [
      "Shape: (853, 9)\n",
      "Nulls: 0\n",
      "Duplicates: 0\n"
     ]
    }
   ],
   "source": [
    "print(f'Shape: {drivers_df.shape}')\n",
    "print(f'Nulls: {drivers_df.isna().sum().sum()}')\n",
    "print(f'Duplicates: {drivers_df.duplicated().sum()}')"
   ]
  },
  {
   "cell_type": "markdown",
   "id": "53febb67-14d6-428f-b89b-4a716f6083ea",
   "metadata": {},
   "source": [
    "Columns containing duplicate info or considered irrelevant for predicting finishing position will be dropped as seen below.\n",
    "\n",
    "- `driverId`: unique identifier for each driver.\n",
    "- `driverRef`: single reference for each unique driver, will use as driver identifier feature as this combines features of a driver's first and last name for unique identification.\n",
    "- `number`:driver's racing number and is considered irrelevant for finishing position prediction, therefore will be dropped.\n",
    "- `code`: 3 letter representation of drivers last name, is a bit ambiguous, considered duplicate info, and will be dropped.\n",
    "- `forename`: driver's first name, considered duplicate info and will be dropped.\n",
    "- `surname`: driver's last name, considered duplicate info and will be dropped.\n",
    "- `dob`: driver's date of birth, could help provide predictive power for finishing position.\n",
    "- `nationality`: driver's nationality, could help provide predictive power for finishing position.\n",
    "- `url`: wikie link on driver, considered irrelevant for finishing position prediction, therefore will be dropped.\n",
    "\n",
    "Next steps are to look at the selected columns to keep and confirm there is no ambiguity."
   ]
  },
  {
   "cell_type": "code",
   "execution_count": 36,
   "id": "1782b17b-e7a9-4c5e-b60b-10f43a047e7e",
   "metadata": {},
   "outputs": [
    {
     "data": {
      "text/plain": [
       "853"
      ]
     },
     "execution_count": 36,
     "metadata": {},
     "output_type": "execute_result"
    }
   ],
   "source": [
    "drivers_df['driverRef'].nunique()"
   ]
  },
  {
   "cell_type": "markdown",
   "id": "01f5b6f2-1bb7-495f-9e54-ea6df829a047",
   "metadata": {},
   "source": [
    "- There are 853 unique drivers to work with which also matches the amount of unique drivers found from the results data."
   ]
  },
  {
   "cell_type": "code",
   "execution_count": 37,
   "id": "9fb5907d-41ae-4b6e-b648-38da31fce1ae",
   "metadata": {},
   "outputs": [
    {
     "data": {
      "text/plain": [
       "array(['1985-01-07', '1977-05-10', '1985-06-27', '1981-07-29',\n",
       "       '1981-10-19', '1985-01-11', '1979-02-28', '1979-10-17',\n",
       "       '1984-12-07', '1982-03-18', '1977-01-28', '1985-07-25',\n",
       "       '1981-04-25', '1971-03-27', '1974-07-13', '1983-01-11',\n",
       "       '1976-08-27', '1980-01-19', '1979-04-18', '1987-07-03',\n",
       "       '1973-01-14', '1972-05-23', '1975-06-30', '1980-08-06',\n",
       "       '1974-02-15', '1983-01-24', '1979-04-16', '1980-06-13',\n",
       "       '1982-07-09', '1969-01-03', '1975-09-20', '1983-02-07',\n",
       "       '1976-07-24', '1975-01-21', '1971-04-09', '1978-01-05',\n",
       "       '1971-02-24', '1981-09-23', '1977-01-14', '1980-09-26',\n",
       "       '1976-03-23', '1980-09-11', '1973-09-19', '1966-09-02',\n",
       "       '1979-02-04', '1981-05-30', '1981-01-01', '1974-03-29',\n",
       "       '1967-05-18', '1972-03-04', '1978-07-31', '1975-05-20',\n",
       "       '1978-03-03', '1975-03-05', '1964-06-11', '1965-11-10',\n",
       "       '1968-09-28', '1976-01-19', '1978-10-19', '1975-05-08',\n",
       "       '1976-09-11', '1976-07-20', '1966-11-30', '1970-05-22',\n",
       "       '1964-06-25', '1969-12-29', '1988-10-31', '1974-02-12',\n",
       "       '1971-01-25', '1966-10-23', '1960-09-17', '1975-11-02',\n",
       "       '1968-07-27', '1978-04-22', '1971-04-01', '1973-07-04',\n",
       "       '1959-08-27', '1964-03-19', '1963-05-29', '1966-10-07',\n",
       "       '1968-01-13', '1975-01-20', '1972-03-20', '1959-06-01',\n",
       "       '1964-05-30', '1958-02-18', '1966-04-08', '1960-09-08',\n",
       "       '1963-09-05', '1959-02-11', '1968-12-20', '1962-12-23',\n",
       "       '1967-11-17', '1961-04-23', '1953-08-08', '1969-12-27',\n",
       "       '1969-10-03', '1963-10-01', '1962-03-02', '1963-09-28',\n",
       "       '1965-09-05', '1960-03-21', '1964-08-24', '1971-01-18',\n",
       "       '1956-12-23', '1969-11-23', '1960-07-04', '1963-04-23',\n",
       "       '1966-01-31', '1959-05-31', '1963-01-01', '1954-07-27',\n",
       "       '1969-11-19', '1961-07-28', '1969-03-07', '1968-09-01',\n",
       "       '1955-02-24', '1954-08-27', '1954-04-17', '1963-04-02',\n",
       "       '1962-10-05', '1963-05-24', '1957-07-13', '1965-10-07',\n",
       "       '1968-02-24', '1955-03-10', '1963-04-20', '1961-09-30',\n",
       "       '1958-09-02', '1964-05-06', '1963-05-12', '1959-07-20',\n",
       "       '1964-03-18', '1964-09-19', '1961-03-03', '1956-06-02',\n",
       "       '1952-08-17', '1953-02-23', '1962-01-12', '1956-09-08',\n",
       "       '1961-10-09', '1965-02-27', '1968-03-08', '1966-06-13',\n",
       "       '1959-07-07', '1964-07-20', '1961-04-20', '1965-03-27',\n",
       "       '1960-07-20', '1961-03-29', '1964-03-26', '1952-09-10',\n",
       "       '1990-03-23', '1986-04-17', '1986-09-13', '1956-11-07',\n",
       "       '1958-04-04', '1958-01-10', '1959-05-15', '1952-01-16',\n",
       "       '1962-03-18', '1961-05-27', '1948-07-04', '1960-10-24',\n",
       "       '1954-08-19', '1955-06-26', '1960-06-17', '1948-09-12',\n",
       "       '1960-01-09', '1955-03-09', '1958-09-22', '1943-11-21',\n",
       "       '1958-03-26', '1958-04-26', '1949-06-25', '1951-09-18',\n",
       "       '1948-12-06', '1946-11-02', '1954-10-08', '1961-08-01',\n",
       "       '1951-10-06', '1949-02-22', '1956-12-30', '1954-01-31',\n",
       "       '1957-11-20', '1957-11-27', '1946-05-04', '1956-01-25',\n",
       "       '1954-01-24', '1961-04-12', '1961-03-30', '1957-02-03',\n",
       "       '1950-03-09', '1954-11-14', '1958-11-16', '1957-12-04',\n",
       "       '1946-07-10', '1953-11-04', '1942-04-12', '1946-09-30',\n",
       "       '1946-11-25', '1952-03-26', '1950-01-18', '1958-06-15',\n",
       "       '1946-09-19', '1953-03-11', '1940-02-28', '1946-07-26',\n",
       "       '1951-05-01', '1958-05-06', '1955-02-26', '1956-02-05',\n",
       "       '1957-01-02', '1956-03-31', '1953-08-31', '1952-10-10',\n",
       "       '1949-04-13', '1949-08-08', '1942-10-01', '1947-11-08',\n",
       "       '1944-08-09', '1950-01-29', '1939-09-05', '1946-12-12',\n",
       "       '1953-01-15', '1952-02-19', '1951-10-29', '1953-11-26',\n",
       "       '1948-08-31', '1937-11-11', '1947-08-29', '1943-03-11',\n",
       "       '1951-01-01', '1945-01-01', '1952-02-12', '1948-11-07',\n",
       "       '1944-02-14', '1945-11-14', '1942-05-21', '1953-05-24',\n",
       "       '1944-08-13', '1943-07-11', '1946-02-23', '1943-01-24',\n",
       "       '1948-06-12', '1949-10-02', '1938-01-01', '1953-01-10',\n",
       "       '1944-10-06', '1947-08-22', '1949-06-11', '1953-02-28',\n",
       "       '1948-11-20', '1950-03-18', '1949-05-03', '1949-10-13',\n",
       "       '1945-01-26', '1939-12-28', '1952-09-19', '1942-08-14',\n",
       "       '1948-05-17', '1947-05-09', '1942-12-30', '1945-12-13',\n",
       "       '1943-03-19', '1943-03-16', '1942-07-26', '1947-10-26',\n",
       "       '1950-04-01', '1940-01-29', '1947-07-01', '1951-06-06',\n",
       "       '1941-03-26', '1947-06-11', '1946-03-18', '1943-07-20',\n",
       "       '1944-05-27', '1942-09-25', '1944-04-19', '1945-11-17',\n",
       "       '1946-01-07', '1942-08-31', '1947-03-03', '1949-12-24',\n",
       "       '1945-11-13', '1937-03-18', '1929-02-15', '1943-12-25',\n",
       "       '1948-12-01', '1944-09-12', '1936-10-27', '1952-03-28',\n",
       "       '1948-12-12', '1944-12-04', '1947-07-23', '1942-03-16',\n",
       "       '1946-03-10', '1941-10-06', '1944-08-07', '1948-02-13',\n",
       "       '1942-05-31', '1936-06-18', '1940-04-02', '1937-04-26',\n",
       "       '1941-12-24', '1944-09-22', '1939-02-27', '1934-05-13',\n",
       "       '1942-08-27', '1937-03-09', '1947-10-14', '1943-09-26',\n",
       "       '1940-05-23', '1943-08-05', '1941-09-30', '1943-10-12',\n",
       "       '1944-04-26', '1940-02-21', '1941-10-31', '1939-06-09',\n",
       "       '1939-05-30', '1948-11-03', '1935-06-26', '1938-05-28',\n",
       "       '1944-02-25', '1939-06-11', '1940-04-13', '1940-10-02',\n",
       "       '1937-01-16', '1934-01-27', '1941-10-03', '1934-11-22',\n",
       "       '1948-02-02', '1940-03-05', '1943-04-27', '1941-06-10',\n",
       "       '1932-10-29', '1924-12-07', '1934-02-11', '1936-11-16',\n",
       "       '1935-12-26', '1944-05-26', '1940-01-18', '1936-07-07',\n",
       "       '1930-01-31', '1943-02-24', '1943-07-27', '1935-06-10',\n",
       "       '1941-04-24', '1945-11-12', '1926-04-11', '1939-11-17',\n",
       "       '1933-06-21', '1926-04-02', '1943-06-14', '1942-04-18',\n",
       "       '1942-01-18', '1937-08-30', '1942-05-27', '1935-03-16',\n",
       "       '1941-08-30', '1931-04-13', '1935-03-28', '1938-05-26',\n",
       "       '1921-08-24', '1939-04-19', '1940-04-04', '1921-10-15',\n",
       "       '1935-07-23', '1936-03-04', '1936-12-30', '1933-10-18',\n",
       "       '1934-11-10', '1928-05-18', '1940-04-19', '1930-10-01',\n",
       "       '1934-02-20', '1931-05-19', '1930-01-16', '1935-12-21',\n",
       "       '1930-08-05', '1931-09-24', '1942-06-27', '1930-07-12',\n",
       "       '1938-01-12', '1936-09-07', '1943-03-13', '1943-04-26',\n",
       "       '1934-12-25', '1942-10-26', '1933-04-27', '1933-11-08',\n",
       "       '1931-04-14', '1933-03-23', '1933-07-27', '1936-12-26',\n",
       "       '1937-10-23', '1927-04-20', '1930-06-12', '1936-04-05',\n",
       "       '1937-10-12', '1937-10-09', '1937-02-09', '1935-11-30',\n",
       "       '1938-09-25', '1920-12-09', '1939-01-07', '1938-07-04',\n",
       "       '1941-07-11', '1932-04-30', '1931-05-18', '1932-11-30',\n",
       "       '1932-02-29', '1927-08-18', '1921-09-22', '1943-05-15',\n",
       "       '1934-04-17', '1935-08-30', '1927-10-04', '1933-03-04',\n",
       "       '1934-01-20', '1917-10-30', '1930-10-07', '1918-10-06',\n",
       "       '1934-04-10', '1917-01-26', '1934-01-15', '1919-10-28',\n",
       "       '1928-01-01', '1928-10-01', '1930-01-21', '1930-07-06',\n",
       "       '1926-07-10', '1932-11-18', '1932-06-25', '1910-04-30',\n",
       "       '1934-01-31', '1926-10-17', '1937-10-18', '1932-07-10',\n",
       "       '1932-12-03', '1926-05-15', '1921-01-10', '1941-07-01',\n",
       "       '1920-10-08', '1945-09-03', '1996-02-07', '1936-11-01',\n",
       "       '1942-02-14', '1926-07-04', '1922-05-12', '1936-12-09',\n",
       "       '1929-06-13', '1931-07-20', '1936-07-25', '1930-01-25',\n",
       "       '1933-07-29', '1925-12-29', '1937-02-02', '1938-01-05',\n",
       "       '1927-07-28', '1923-04-15', '1937-02-20', '1926-05-11',\n",
       "       '1938-02-22', '1937-01-30', '1939-05-25', '1937-09-30',\n",
       "       '1920-06-01', '1929-09-17', '1928-05-04', '1932-02-08',\n",
       "       '1928-02-23', '1932-02-25', '1934-08-18', '1932-12-16',\n",
       "       '1924-01-12', '1921-10-02', '1923-03-24', '1934-01-28',\n",
       "       '1913-03-15', '1935-07-28', '1934-06-07', '1933-03-26',\n",
       "       '1923-03-29', '1920-04-05', '1930-01-04', '1940-06-10',\n",
       "       '1928-01-12', '1918-11-01', '1914-08-10', '1934-01-14',\n",
       "       '1922-10-05', '1919-09-30', '1928-04-02', '1921-06-29',\n",
       "       '1933-08-29', '1921-06-04', '1924-10-28', '1937-12-02',\n",
       "       '1923-11-29', '1936-02-24', '1928-07-16', '1925-10-02',\n",
       "       '1920-06-02', '1922-04-09', '1919-02-10', '1926-11-01',\n",
       "       '1928-04-04', '1924-04-04', '1929-01-19', '1913-05-05',\n",
       "       '1918-08-31', '1926-01-28', '1919-10-15', '1924-09-04',\n",
       "       '1919-08-12', '1932-12-05', '1930-03-11', '1927-05-28',\n",
       "       '1925-03-25', '1916-09-12', '1934-12-09', '1935-01-16',\n",
       "       '1925-11-19', '1926-08-19', '1916-06-15', '1927-07-04',\n",
       "       '1925-08-09', '1924-01-06', '1927-03-15', '1927-03-11',\n",
       "       '1934-04-24', '1923-06-16', '1930-12-02', '1923-02-19',\n",
       "       '1926-08-08', '1932-03-17', '1915-03-23', '1918-09-20',\n",
       "       '1919-12-14', '1923-06-06', '1922-02-05', '1926-11-11',\n",
       "       '1923-01-07', '1926-04-13', '1921-02-16', '1914-04-10',\n",
       "       '1924-08-28', '1926-05-30', '1920-04-11', '1926-01-06',\n",
       "       '1927-06-12', '1915-10-26', '1920-02-12', '1923-04-03',\n",
       "       '1923-01-21', '1920-02-08', '1923-01-11', '1938-03-25',\n",
       "       '1922-12-26', '1934-10-16', '1933-09-04', '1921-06-12',\n",
       "       '1928-07-10', '1918-02-22', '1932-05-05', '1916-06-12',\n",
       "       '1924-07-28', '1929-04-10', '1911-06-24', '1921-03-21',\n",
       "       '1931-11-06', '1923-12-12', '1928-08-10', '1936-03-23',\n",
       "       '1916-11-12', '1913-10-27', '1930-10-28', '1899-08-03',\n",
       "       '1930-04-20', '1924-10-24', '1929-11-17', '1918-07-04',\n",
       "       '1917-10-22', '1933-04-24', '1926-12-09', '1928-10-09',\n",
       "       '1932-11-15', '1926-11-10', '1928-08-04', '1918-04-16',\n",
       "       '1917-02-26', '1919-05-06', '1921-04-26', '1934-06-24',\n",
       "       '1928-10-11', '1932-10-21', '1930-10-10', '1920-01-05',\n",
       "       '1920-12-16', '1914-07-13', '1922-04-05', '1921-02-22',\n",
       "       '1930-09-23', '1913-08-21', '1928-07-15', '1932-09-13',\n",
       "       '1927-06-23', '1914-01-19', '1928-06-05', '1929-03-28',\n",
       "       '1907-07-14', '1924-07-11', '1925-12-07', '1914-02-28',\n",
       "       '1917-04-12', '1905-11-05', '1926-05-20', '1916-02-06',\n",
       "       '1913-04-10', '1920-06-15', '1917-01-30', '1909-05-16',\n",
       "       '1909-11-11', '1928-05-19', '1928-05-01', '1927-05-13',\n",
       "       '1917-12-07', '1928-12-09', '1914-05-18', '1906-10-12',\n",
       "       '1906-10-30', '1924-12-03', '1929-05-22', '1920-09-04',\n",
       "       '1922-02-22', '1918-07-13', '1910-09-16', '1924-01-07',\n",
       "       '1922-07-02', '1919-09-02', '1928-11-01', '1929-08-08',\n",
       "       '1920-02-16', '1914-04-29', '1918-01-24', '1918-12-13',\n",
       "       '1919-10-08', '1929-01-29', '1916-08-11', '1912-10-07',\n",
       "       '1930-06-16', '1916-03-21', '1920-09-21', '1922-08-14',\n",
       "       '1918-10-16', '1917-08-04', '1917-04-25', '1914-07-15',\n",
       "       '1923-12-19', '1907-08-05', '1923-06-05', '1926-10-23',\n",
       "       '1921-10-20', '1918-10-12', '1910-10-08', '1911-07-25',\n",
       "       '1921-02-19', '1926-10-30', '1918-09-14', '1928-07-26',\n",
       "       '1916-06-23', '1909-04-01', '1924-01-17', '1911-07-02',\n",
       "       '1914-11-12', '1920-07-18', '1919-11-20', '1929-06-26',\n",
       "       '1909-04-06', '1913-05-13', '1918-07-10', '1925-03-10',\n",
       "       '1913-08-17', '1929-07-22', '1903-06-09', '1923-06-28',\n",
       "       '1913-03-02', '1914-07-03', '1907-12-18', '1928-10-04',\n",
       "       '1898-11-01', '1904-10-08', '1931-03-06', '1929-07-15',\n",
       "       '1920-04-30', '1903-05-23', '1907-03-30', '1917-03-06',\n",
       "       '1922-02-13', '1923-02-10', '1921-11-05', '1921-12-21',\n",
       "       '1912-07-17', '1900-12-27', '1907-07-04', '1908-02-28',\n",
       "       '1910-03-30', '1921-03-06', '1912-04-19', '1906-01-25',\n",
       "       '1913-03-21', '1906-08-16', '1925-05-23', '1909-03-06',\n",
       "       '1917-06-22', '1913-06-14', '1915-01-29', '1902-07-19',\n",
       "       '1925-08-26', '1927-06-07', '1913-02-21', '1908-04-11',\n",
       "       '1920-02-03', '1915-06-23', '1906-07-24', '1896-12-28',\n",
       "       '1916-08-19', '1919-11-04', '1917-12-05', '1922-04-15',\n",
       "       '1916-07-22', '1909-12-28', '1906-10-04', '1900-03-29',\n",
       "       '1899-10-15', '1922-07-11', '1915-11-29', '1909-01-01',\n",
       "       '1902-04-27', '1911-06-20', '1914-09-16', '1919-08-23',\n",
       "       '1919-10-02', '1899-10-13', '1920-01-16', '1908-06-05',\n",
       "       '1911-03-28', '1910-08-10', '1910-01-25', '1910-09-07',\n",
       "       '1911-03-04', '1906-05-26', '1927-12-15', '1911-12-30',\n",
       "       '1915-09-14', '1905-12-22', '1907-04-12', '1921-05-20',\n",
       "       '1913-03-13', '1907-09-22', '1915-01-28', '1914-05-10',\n",
       "       '1916-09-15', '1911-08-21', '1903-11-23', '1905-07-25',\n",
       "       '1917-12-29', '1921-05-11', '1898-06-09', '1906-07-06',\n",
       "       '1915-03-24', '1912-03-22', '1898-08-18', '1912-10-21',\n",
       "       '1906-08-31', '1912-04-14', '1912-06-17', '1913-12-15',\n",
       "       '1914-02-14', '1910-07-25', '1911-10-11', '1909-08-27',\n",
       "       '1909-07-22', '1908-01-31', '1918-09-18', '1917-02-10',\n",
       "       '1923-11-10', '1987-08-19', '1984-09-08', '1984-08-11',\n",
       "       '1983-10-15', '1984-01-19', '1985-03-09', '1986-04-16',\n",
       "       '1990-01-26', '1985-12-27', '1989-07-01', '1990-04-25',\n",
       "       '1990-02-15', '1991-04-21', '1991-08-05', '1989-08-28',\n",
       "       '1985-04-25', '1989-08-03', '1992-10-05', '1994-04-26',\n",
       "       '1981-11-19', '1990-09-02', '1991-06-28', '1997-09-30',\n",
       "       '1992-08-21', '1994-09-01', '1991-03-22', '1991-09-25',\n",
       "       '1991-01-20', '1994-10-18', '1993-01-22', '1992-03-26',\n",
       "       '1996-09-17', '1998-10-29', '1993-12-14', '1989-11-10',\n",
       "       '1997-10-16', '1995-08-27', '1999-11-13', '1998-02-15',\n",
       "       '1996-03-23', '1995-06-29', '1996-06-25', '1995-09-23',\n",
       "       '2000-05-11', '1999-03-02', '1999-03-22'], dtype=object)"
      ]
     },
     "execution_count": 37,
     "metadata": {},
     "output_type": "execute_result"
    }
   ],
   "source": [
    "drivers_df['dob'].unique() # check for ambiguity or values labeled \"\\N\""
   ]
  },
  {
   "cell_type": "code",
   "execution_count": 38,
   "id": "d27caebe-c552-449f-86d4-a7264b10cd87",
   "metadata": {},
   "outputs": [
    {
     "data": {
      "text/plain": [
       "array(['British', 'German', 'Spanish', 'Finnish', 'Japanese', 'French',\n",
       "       'Polish', 'Brazilian', 'Italian', 'Australian', 'Austrian',\n",
       "       'American', 'Dutch', 'Colombian', 'Portuguese', 'Canadian',\n",
       "       'Indian', 'Hungarian', 'Irish', 'Danish', 'Argentine', 'Czech',\n",
       "       'Malaysian', 'Swiss', 'Belgian', 'Monegasque', 'Swedish',\n",
       "       'Venezuelan', 'New Zealander', 'Chilean', 'Mexican',\n",
       "       'South African', 'Liechtensteiner', 'Rhodesian',\n",
       "       'American-Italian', 'Uruguayan', 'Argentine-Italian', 'Thai',\n",
       "       'East German', 'Russian', 'Indonesian'], dtype=object)"
      ]
     },
     "execution_count": 38,
     "metadata": {},
     "output_type": "execute_result"
    }
   ],
   "source": [
    "drivers_df['nationality'].unique() # check for ambiguity or values labeled \"\\N\""
   ]
  },
  {
   "cell_type": "markdown",
   "id": "aefcdbcc-c0c6-4287-801a-0daca05d8bbe",
   "metadata": {},
   "source": [
    "- Now that the selected columns have been reviewed and there is no ambiguous data found, it's time to drop the appropriate columns."
   ]
  },
  {
   "cell_type": "code",
   "execution_count": 39,
   "id": "d1d711e1-77c4-49ce-a7f4-2614f2cd2173",
   "metadata": {},
   "outputs": [
    {
     "data": {
      "text/html": [
       "<div>\n",
       "<style scoped>\n",
       "    .dataframe tbody tr th:only-of-type {\n",
       "        vertical-align: middle;\n",
       "    }\n",
       "\n",
       "    .dataframe tbody tr th {\n",
       "        vertical-align: top;\n",
       "    }\n",
       "\n",
       "    .dataframe thead th {\n",
       "        text-align: right;\n",
       "    }\n",
       "</style>\n",
       "<table border=\"1\" class=\"dataframe\">\n",
       "  <thead>\n",
       "    <tr style=\"text-align: right;\">\n",
       "      <th></th>\n",
       "      <th>driverId</th>\n",
       "      <th>driverRef</th>\n",
       "      <th>dob</th>\n",
       "      <th>nationality</th>\n",
       "    </tr>\n",
       "  </thead>\n",
       "  <tbody>\n",
       "    <tr>\n",
       "      <th>0</th>\n",
       "      <td>1</td>\n",
       "      <td>hamilton</td>\n",
       "      <td>1985-01-07</td>\n",
       "      <td>British</td>\n",
       "    </tr>\n",
       "    <tr>\n",
       "      <th>1</th>\n",
       "      <td>2</td>\n",
       "      <td>heidfeld</td>\n",
       "      <td>1977-05-10</td>\n",
       "      <td>German</td>\n",
       "    </tr>\n",
       "    <tr>\n",
       "      <th>2</th>\n",
       "      <td>3</td>\n",
       "      <td>rosberg</td>\n",
       "      <td>1985-06-27</td>\n",
       "      <td>German</td>\n",
       "    </tr>\n",
       "    <tr>\n",
       "      <th>3</th>\n",
       "      <td>4</td>\n",
       "      <td>alonso</td>\n",
       "      <td>1981-07-29</td>\n",
       "      <td>Spanish</td>\n",
       "    </tr>\n",
       "    <tr>\n",
       "      <th>4</th>\n",
       "      <td>5</td>\n",
       "      <td>kovalainen</td>\n",
       "      <td>1981-10-19</td>\n",
       "      <td>Finnish</td>\n",
       "    </tr>\n",
       "  </tbody>\n",
       "</table>\n",
       "</div>"
      ],
      "text/plain": [
       "   driverId   driverRef         dob nationality\n",
       "0         1    hamilton  1985-01-07     British\n",
       "1         2    heidfeld  1977-05-10      German\n",
       "2         3     rosberg  1985-06-27      German\n",
       "3         4      alonso  1981-07-29     Spanish\n",
       "4         5  kovalainen  1981-10-19     Finnish"
      ]
     },
     "execution_count": 39,
     "metadata": {},
     "output_type": "execute_result"
    }
   ],
   "source": [
    "drivers_df = drivers_df.drop(['forename', 'surname', 'number', 'code', 'url'], axis=1)\n",
    "drivers_df.head()"
   ]
  },
  {
   "cell_type": "markdown",
   "id": "b63c203e-7ca8-4c03-b969-bd27483d45cd",
   "metadata": {
    "tags": []
   },
   "source": [
    "## Driver Standings"
   ]
  },
  {
   "cell_type": "code",
   "execution_count": 40,
   "id": "f5a8e9a0-f630-405b-9fbf-c7700b7e8f36",
   "metadata": {},
   "outputs": [
    {
     "data": {
      "text/html": [
       "<div>\n",
       "<style scoped>\n",
       "    .dataframe tbody tr th:only-of-type {\n",
       "        vertical-align: middle;\n",
       "    }\n",
       "\n",
       "    .dataframe tbody tr th {\n",
       "        vertical-align: top;\n",
       "    }\n",
       "\n",
       "    .dataframe thead th {\n",
       "        text-align: right;\n",
       "    }\n",
       "</style>\n",
       "<table border=\"1\" class=\"dataframe\">\n",
       "  <thead>\n",
       "    <tr style=\"text-align: right;\">\n",
       "      <th></th>\n",
       "      <th>driverStandingsId</th>\n",
       "      <th>raceId</th>\n",
       "      <th>driverId</th>\n",
       "      <th>points</th>\n",
       "      <th>position</th>\n",
       "      <th>positionText</th>\n",
       "      <th>wins</th>\n",
       "    </tr>\n",
       "  </thead>\n",
       "  <tbody>\n",
       "    <tr>\n",
       "      <th>0</th>\n",
       "      <td>1</td>\n",
       "      <td>18</td>\n",
       "      <td>1</td>\n",
       "      <td>10.0</td>\n",
       "      <td>1</td>\n",
       "      <td>1</td>\n",
       "      <td>1</td>\n",
       "    </tr>\n",
       "    <tr>\n",
       "      <th>1</th>\n",
       "      <td>2</td>\n",
       "      <td>18</td>\n",
       "      <td>2</td>\n",
       "      <td>8.0</td>\n",
       "      <td>2</td>\n",
       "      <td>2</td>\n",
       "      <td>0</td>\n",
       "    </tr>\n",
       "    <tr>\n",
       "      <th>2</th>\n",
       "      <td>3</td>\n",
       "      <td>18</td>\n",
       "      <td>3</td>\n",
       "      <td>6.0</td>\n",
       "      <td>3</td>\n",
       "      <td>3</td>\n",
       "      <td>0</td>\n",
       "    </tr>\n",
       "    <tr>\n",
       "      <th>3</th>\n",
       "      <td>4</td>\n",
       "      <td>18</td>\n",
       "      <td>4</td>\n",
       "      <td>5.0</td>\n",
       "      <td>4</td>\n",
       "      <td>4</td>\n",
       "      <td>0</td>\n",
       "    </tr>\n",
       "    <tr>\n",
       "      <th>4</th>\n",
       "      <td>5</td>\n",
       "      <td>18</td>\n",
       "      <td>5</td>\n",
       "      <td>4.0</td>\n",
       "      <td>5</td>\n",
       "      <td>5</td>\n",
       "      <td>0</td>\n",
       "    </tr>\n",
       "  </tbody>\n",
       "</table>\n",
       "</div>"
      ],
      "text/plain": [
       "   driverStandingsId  raceId  driverId  points  position positionText  wins\n",
       "0                  1      18         1    10.0         1            1     1\n",
       "1                  2      18         2     8.0         2            2     0\n",
       "2                  3      18         3     6.0         3            3     0\n",
       "3                  4      18         4     5.0         4            4     0\n",
       "4                  5      18         5     4.0         5            5     0"
      ]
     },
     "execution_count": 40,
     "metadata": {},
     "output_type": "execute_result"
    }
   ],
   "source": [
    "ds = pd.read_csv('data/driver_standings.csv')\n",
    "ds.head()"
   ]
  },
  {
   "cell_type": "code",
   "execution_count": 41,
   "id": "1d1e6e09-c7d3-4248-acf7-5dfb5120e798",
   "metadata": {},
   "outputs": [
    {
     "data": {
      "text/plain": [
       "846"
      ]
     },
     "execution_count": 41,
     "metadata": {},
     "output_type": "execute_result"
    }
   ],
   "source": [
    "ds['driverId'].nunique()"
   ]
  },
  {
   "cell_type": "code",
   "execution_count": 42,
   "id": "a5a5daf0-57f5-4fbf-8ff2-ffc7cb83d4b8",
   "metadata": {},
   "outputs": [
    {
     "data": {
      "text/plain": [
       "1045"
      ]
     },
     "execution_count": 42,
     "metadata": {},
     "output_type": "execute_result"
    }
   ],
   "source": [
    "ds['raceId'].nunique()"
   ]
  },
  {
   "cell_type": "code",
   "execution_count": 43,
   "id": "e1396f36-249f-46ca-b43d-3dbf009526bb",
   "metadata": {},
   "outputs": [
    {
     "data": {
      "text/plain": [
       "array([ 10.  ,   8.  ,   6.  ,   5.  ,   4.  ,   3.  ,   2.  ,   1.  ,\n",
       "        14.  ,  11.  ,   0.  ,  16.  ,   7.  ,  19.  ,  20.  ,  29.  ,\n",
       "         9.  ,  18.  ,  28.  ,  35.  ,  24.  ,  38.  ,  15.  ,  32.  ,\n",
       "        34.  ,  42.  ,  12.  ,  43.  ,  46.  ,  48.  ,  36.  ,  13.  ,\n",
       "        58.  ,  41.  ,  51.  ,  54.  ,  62.  ,  57.  ,  49.  ,  22.  ,\n",
       "        70.  ,  55.  ,  26.  ,  64.  ,  76.  ,  23.  ,  74.  ,  78.  ,\n",
       "        53.  ,  77.  ,  84.  ,  56.  ,  17.  ,  27.  ,  63.  ,  72.  ,\n",
       "        30.  ,  21.  ,  79.  ,  87.  ,  75.  ,  69.  ,  60.  ,  94.  ,\n",
       "        98.  ,  61.  ,  31.  ,  97.  ,  25.  ,  33.  ,  40.  ,  39.  ,\n",
       "        47.  ,  50.  ,  59.  ,  73.  ,  52.  ,  89.  ,  95.  ,  80.  ,\n",
       "        86.  , 103.  , 110.  , 109.  ,  44.  ,  37.  ,  88.  ,  96.  ,\n",
       "       100.  ,  90.  , 108.  , 106.  ,  45.  , 116.  , 126.  ,  65.  ,\n",
       "       121.  , 134.  ,  71.  , 111.  , 117.  , 123.  , 104.  , 133.  ,\n",
       "       112.  ,  68.  ,  82.  , 120.  , 128.  , 136.  ,  85.  , 146.  ,\n",
       "       114.  , 148.  ,  92.  ,  83.  ,  93.  ,  91.  , 122.  , 144.  ,\n",
       "       107.  , 113.  ,  67.  ,  66.  ,  81.  , 102.  ,  99.  ,   1.5 ,\n",
       "         3.5 ,   8.5 ,  26.5 ,   0.5 ,   9.5 ,  14.5 ,   4.5 ,  15.5 ,\n",
       "        19.5 ,   7.5 ,  27.5 ,  11.5 ,  35.5 ,  21.5 ,  20.5 ,  45.5 ,\n",
       "        22.5 ,  25.5 ,  51.5 ,  29.5 ,  30.5 ,  34.5 ,  61.5 ,  28.5 ,\n",
       "        32.5 ,  44.5 ,  53.5 ,  62.5 ,  71.5 ,  10.5 ,   6.5 ,  55.5 ,\n",
       "        64.5 ,  69.5 ,   1.33,   3.33,  11.33,   6.33,  10.33,   7.64,\n",
       "         4.14,  14.64,  28.14,  10.64,  17.64,  16.64,  24.64,  25.14,\n",
       "        13.5 ,  33.5 ,  36.14,  23.64,  17.5 ,  16.5 , 127.  , 115.  ,\n",
       "       145.  , 157.  , 143.  , 141.  , 151.  , 147.  , 161.  , 182.  ,\n",
       "       179.  , 166.  , 124.  , 163.  , 165.  , 187.  , 177.  , 202.  ,\n",
       "       181.  , 191.  , 189.  , 192.  , 220.  , 206.  , 210.  , 231.  ,\n",
       "       246.  , 222.  , 130.  , 199.  , 238.  , 252.  , 240.  , 256.  ,\n",
       "       142.  , 214.  , 242.  , 118.  , 101.  , 186.  , 204.  , 216.  ,\n",
       "       139.  , 234.  , 149.  , 167.  , 259.  , 284.  , 158.  , 172.  ,\n",
       "       309.  , 168.  , 184.  , 185.  , 324.  , 178.  , 194.  , 349.  ,\n",
       "       196.  , 212.  , 209.  , 374.  , 227.  , 221.  , 245.  , 233.  ,\n",
       "       255.  , 392.  , 257.  , 258.  , 270.  , 129.  , 164.  , 154.  ,\n",
       "       140.  , 132.  , 131.  , 119.  , 190.  , 152.  , 215.  , 153.  ,\n",
       "       173.  , 198.  , 273.  , 260.  , 188.  , 281.  , 278.  , 207.  ,\n",
       "       105.  , 197.  , 169.  , 247.  , 195.  , 272.  , 297.  , 183.  ,\n",
       "       322.  , 217.  , 347.  , 175.  , 159.  , 372.  , 397.  , 171.  ,\n",
       "       176.  , 156.  , 241.  , 266.  , 193.  , 274.  , 291.  , 292.  ,\n",
       "       155.  , 316.  , 317.  , 334.  , 384.  , 135.  , 160.  , 211.  ,\n",
       "       203.  , 229.  , 218.  , 277.  , 251.  , 327.  , 236.  , 302.  ,\n",
       "       345.  , 363.  , 381.  , 150.  , 223.  , 232.  , 248.  , 250.  ,\n",
       "       265.  , 288.  , 313.  , 280.  , 170.  , 305.  , 331.  , 355.  ,\n",
       "       367.  , 330.  , 385.  , 380.  , 213.  , 235.  , 138.  , 263.  ,\n",
       "       162.  , 306.  , 244.  , 333.  , 262.  , 200.  , 205.  , 226.  ,\n",
       "       174.  , 264.  , 346.  , 276.  , 294.  , 358.  , 383.  , 237.  ,\n",
       "       320.  , 408.  , 249.  , 137.  , 225.  , 268.  , 296.  , 338.  ,\n",
       "       230.  , 289.  , 314.  , 387.  , 326.  , 413.  , 282.  , 307.  ,\n",
       "       201.  , 332.  , 125.  ])"
      ]
     },
     "execution_count": 43,
     "metadata": {},
     "output_type": "execute_result"
    }
   ],
   "source": [
    "ds['points'].unique() # check for ambiguity or values labeled \"\\N\""
   ]
  },
  {
   "cell_type": "markdown",
   "id": "9e20dae7-1571-40ef-9c1f-db1a48a869a8",
   "metadata": {},
   "source": [
    "- Driver Standings only provides results for 1045/1058 unique races, 846/853 drivers, and contains inconsistent points due to changes in the point structure over time.\n",
    "- Due to these inconsistencies, no features from this data set will be used."
   ]
  },
  {
   "cell_type": "markdown",
   "id": "033fde27-afd1-4920-8548-8693693307bf",
   "metadata": {},
   "source": [
    "## Circuits"
   ]
  },
  {
   "cell_type": "code",
   "execution_count": 44,
   "id": "6e1f7961-641b-468f-830c-d3ee694ef905",
   "metadata": {},
   "outputs": [
    {
     "data": {
      "text/html": [
       "<div>\n",
       "<style scoped>\n",
       "    .dataframe tbody tr th:only-of-type {\n",
       "        vertical-align: middle;\n",
       "    }\n",
       "\n",
       "    .dataframe tbody tr th {\n",
       "        vertical-align: top;\n",
       "    }\n",
       "\n",
       "    .dataframe thead th {\n",
       "        text-align: right;\n",
       "    }\n",
       "</style>\n",
       "<table border=\"1\" class=\"dataframe\">\n",
       "  <thead>\n",
       "    <tr style=\"text-align: right;\">\n",
       "      <th></th>\n",
       "      <th>circuitId</th>\n",
       "      <th>circuitRef</th>\n",
       "      <th>name</th>\n",
       "      <th>location</th>\n",
       "      <th>country</th>\n",
       "      <th>lat</th>\n",
       "      <th>lng</th>\n",
       "      <th>alt</th>\n",
       "      <th>url</th>\n",
       "    </tr>\n",
       "  </thead>\n",
       "  <tbody>\n",
       "    <tr>\n",
       "      <th>0</th>\n",
       "      <td>1</td>\n",
       "      <td>albert_park</td>\n",
       "      <td>Albert Park Grand Prix Circuit</td>\n",
       "      <td>Melbourne</td>\n",
       "      <td>Australia</td>\n",
       "      <td>-37.84970</td>\n",
       "      <td>144.96800</td>\n",
       "      <td>10</td>\n",
       "      <td>http://en.wikipedia.org/wiki/Melbourne_Grand_P...</td>\n",
       "    </tr>\n",
       "    <tr>\n",
       "      <th>1</th>\n",
       "      <td>2</td>\n",
       "      <td>sepang</td>\n",
       "      <td>Sepang International Circuit</td>\n",
       "      <td>Kuala Lumpur</td>\n",
       "      <td>Malaysia</td>\n",
       "      <td>2.76083</td>\n",
       "      <td>101.73800</td>\n",
       "      <td>18</td>\n",
       "      <td>http://en.wikipedia.org/wiki/Sepang_Internatio...</td>\n",
       "    </tr>\n",
       "    <tr>\n",
       "      <th>2</th>\n",
       "      <td>3</td>\n",
       "      <td>bahrain</td>\n",
       "      <td>Bahrain International Circuit</td>\n",
       "      <td>Sakhir</td>\n",
       "      <td>Bahrain</td>\n",
       "      <td>26.03250</td>\n",
       "      <td>50.51060</td>\n",
       "      <td>7</td>\n",
       "      <td>http://en.wikipedia.org/wiki/Bahrain_Internati...</td>\n",
       "    </tr>\n",
       "    <tr>\n",
       "      <th>3</th>\n",
       "      <td>4</td>\n",
       "      <td>catalunya</td>\n",
       "      <td>Circuit de Barcelona-Catalunya</td>\n",
       "      <td>Montmeló</td>\n",
       "      <td>Spain</td>\n",
       "      <td>41.57000</td>\n",
       "      <td>2.26111</td>\n",
       "      <td>109</td>\n",
       "      <td>http://en.wikipedia.org/wiki/Circuit_de_Barcel...</td>\n",
       "    </tr>\n",
       "    <tr>\n",
       "      <th>4</th>\n",
       "      <td>5</td>\n",
       "      <td>istanbul</td>\n",
       "      <td>Istanbul Park</td>\n",
       "      <td>Istanbul</td>\n",
       "      <td>Turkey</td>\n",
       "      <td>40.95170</td>\n",
       "      <td>29.40500</td>\n",
       "      <td>130</td>\n",
       "      <td>http://en.wikipedia.org/wiki/Istanbul_Park</td>\n",
       "    </tr>\n",
       "  </tbody>\n",
       "</table>\n",
       "</div>"
      ],
      "text/plain": [
       "   circuitId   circuitRef                            name      location  \\\n",
       "0          1  albert_park  Albert Park Grand Prix Circuit     Melbourne   \n",
       "1          2       sepang    Sepang International Circuit  Kuala Lumpur   \n",
       "2          3      bahrain   Bahrain International Circuit        Sakhir   \n",
       "3          4    catalunya  Circuit de Barcelona-Catalunya      Montmeló   \n",
       "4          5     istanbul                   Istanbul Park      Istanbul   \n",
       "\n",
       "     country       lat        lng  alt  \\\n",
       "0  Australia -37.84970  144.96800   10   \n",
       "1   Malaysia   2.76083  101.73800   18   \n",
       "2    Bahrain  26.03250   50.51060    7   \n",
       "3      Spain  41.57000    2.26111  109   \n",
       "4     Turkey  40.95170   29.40500  130   \n",
       "\n",
       "                                                 url  \n",
       "0  http://en.wikipedia.org/wiki/Melbourne_Grand_P...  \n",
       "1  http://en.wikipedia.org/wiki/Sepang_Internatio...  \n",
       "2  http://en.wikipedia.org/wiki/Bahrain_Internati...  \n",
       "3  http://en.wikipedia.org/wiki/Circuit_de_Barcel...  \n",
       "4         http://en.wikipedia.org/wiki/Istanbul_Park  "
      ]
     },
     "execution_count": 44,
     "metadata": {},
     "output_type": "execute_result"
    }
   ],
   "source": [
    "circuits_df = pd.read_csv('data/circuits.csv')\n",
    "circuits_df.head()"
   ]
  },
  {
   "cell_type": "code",
   "execution_count": 45,
   "id": "c3691391-27c0-46f8-8ada-fe035ca2937b",
   "metadata": {},
   "outputs": [
    {
     "name": "stdout",
     "output_type": "stream",
     "text": [
      "Shape: (77, 9)\n",
      "Nulls: 0\n",
      "Duplicates: 0\n"
     ]
    }
   ],
   "source": [
    "print(f'Shape: {circuits_df.shape}')\n",
    "print(f'Nulls: {circuits_df.isna().sum().sum()}')\n",
    "print(f'Duplicates: {circuits_df.duplicated().sum()}')"
   ]
  },
  {
   "cell_type": "markdown",
   "id": "8ab8eb4c-4619-476a-8dc9-1fa1fc2e30f7",
   "metadata": {},
   "source": [
    "- `circuitId`: unique identifier for each circuit.\n",
    "- `circuitRef`: unique reference for each circuit, is considered irrelevant for finishing position prediction, therefore will be dropped.\n",
    "- `name`: name of circuit, is considered irrelevant for finishing position prediction, therefore will be dropped.\n",
    "- `location`: city of circuit, this could help provide predictive power for finishing position however `lat` & `lng` are already encoded features for modeling and therefore will be dropped.\n",
    "- `country`: country of circuit, this could help provide predictive power for finishing position however `lat` & `lng` are already encoded features for modeling and therefore will be dropped.\n",
    "- `lat`: latitude of circuit, this could help provide predictive power for finishing position and will be utilized for circuit location.\n",
    "- `lng`: longitude of circuit, this could help provide predictive power for finishing position and will be utilized for circuit location.\n",
    "- `url`: wiki link of each circuit, is considered irrelevant for finishing position prediction, therefore will be dropped.\n",
    "\n",
    "Next steps are to look at the selected columns to keep and confirm there is no ambiguity."
   ]
  },
  {
   "cell_type": "code",
   "execution_count": 46,
   "id": "40dcb117-cf6f-4324-9244-18badefa9112",
   "metadata": {},
   "outputs": [
    {
     "data": {
      "text/plain": [
       "77"
      ]
     },
     "execution_count": 46,
     "metadata": {},
     "output_type": "execute_result"
    }
   ],
   "source": [
    "circuits_df['circuitId'].nunique()"
   ]
  },
  {
   "cell_type": "code",
   "execution_count": 47,
   "id": "07149041-281b-4ab2-855e-aeb17b58e55c",
   "metadata": {},
   "outputs": [
    {
     "data": {
      "text/plain": [
       "76"
      ]
     },
     "execution_count": 47,
     "metadata": {},
     "output_type": "execute_result"
    }
   ],
   "source": [
    "circuits_df['lat'].nunique()"
   ]
  },
  {
   "cell_type": "code",
   "execution_count": 48,
   "id": "74e36ac8-de02-49ba-9e48-71af1889951e",
   "metadata": {},
   "outputs": [
    {
     "data": {
      "text/plain": [
       "76"
      ]
     },
     "execution_count": 48,
     "metadata": {},
     "output_type": "execute_result"
    }
   ],
   "source": [
    "circuits_df['lng'].nunique()"
   ]
  },
  {
   "cell_type": "code",
   "execution_count": 49,
   "id": "41c6c4c6-7b5c-479f-99f2-1f99269ee05f",
   "metadata": {},
   "outputs": [
    {
     "data": {
      "text/plain": [
       "lat\n",
       "47.2197    [A1-Ring, Red Bull Ring]\n",
       "Name: name, dtype: object"
      ]
     },
     "execution_count": 49,
     "metadata": {},
     "output_type": "execute_result"
    }
   ],
   "source": [
    "group = circuits_df.groupby('lat')['name'].unique() # group by circuit `lat` & 'name'\n",
    "duplicate = group[group.apply(lambda x: len(x)>1)] # filter out unique `lat` with more than 1 `name`\n",
    "duplicate"
   ]
  },
  {
   "cell_type": "markdown",
   "id": "693b34ce-cc13-48c2-a9fe-316969bcc123",
   "metadata": {},
   "source": [
    "- There are 77 unique circuits, however only 76 unique locations. This could be a result of a previous tracks changing names and/or ownership, but still remaining in the same location. As seen below, it appears this is the case where the A1-Ring changed ownership and renamed to Red Bull Ring. For the sake of modeling, will still only use `lat` and `lng` for circuit information to avoid any duplicate information.\n",
    "- Now that the selected columns have been reviewed, it's time to rename & drop the appropriate columns."
   ]
  },
  {
   "cell_type": "code",
   "execution_count": 50,
   "id": "9aeb4e3f-dfab-42be-b869-ca6af2adb691",
   "metadata": {},
   "outputs": [
    {
     "data": {
      "text/html": [
       "<div>\n",
       "<style scoped>\n",
       "    .dataframe tbody tr th:only-of-type {\n",
       "        vertical-align: middle;\n",
       "    }\n",
       "\n",
       "    .dataframe tbody tr th {\n",
       "        vertical-align: top;\n",
       "    }\n",
       "\n",
       "    .dataframe thead th {\n",
       "        text-align: right;\n",
       "    }\n",
       "</style>\n",
       "<table border=\"1\" class=\"dataframe\">\n",
       "  <thead>\n",
       "    <tr style=\"text-align: right;\">\n",
       "      <th></th>\n",
       "      <th>circuitId</th>\n",
       "      <th>circuitRef</th>\n",
       "      <th>name</th>\n",
       "      <th>location</th>\n",
       "      <th>country</th>\n",
       "      <th>circuit_lat</th>\n",
       "      <th>circuit_lng</th>\n",
       "      <th>alt</th>\n",
       "      <th>url</th>\n",
       "    </tr>\n",
       "  </thead>\n",
       "  <tbody>\n",
       "    <tr>\n",
       "      <th>0</th>\n",
       "      <td>1</td>\n",
       "      <td>albert_park</td>\n",
       "      <td>Albert Park Grand Prix Circuit</td>\n",
       "      <td>Melbourne</td>\n",
       "      <td>Australia</td>\n",
       "      <td>-37.84970</td>\n",
       "      <td>144.96800</td>\n",
       "      <td>10</td>\n",
       "      <td>http://en.wikipedia.org/wiki/Melbourne_Grand_P...</td>\n",
       "    </tr>\n",
       "    <tr>\n",
       "      <th>1</th>\n",
       "      <td>2</td>\n",
       "      <td>sepang</td>\n",
       "      <td>Sepang International Circuit</td>\n",
       "      <td>Kuala Lumpur</td>\n",
       "      <td>Malaysia</td>\n",
       "      <td>2.76083</td>\n",
       "      <td>101.73800</td>\n",
       "      <td>18</td>\n",
       "      <td>http://en.wikipedia.org/wiki/Sepang_Internatio...</td>\n",
       "    </tr>\n",
       "    <tr>\n",
       "      <th>2</th>\n",
       "      <td>3</td>\n",
       "      <td>bahrain</td>\n",
       "      <td>Bahrain International Circuit</td>\n",
       "      <td>Sakhir</td>\n",
       "      <td>Bahrain</td>\n",
       "      <td>26.03250</td>\n",
       "      <td>50.51060</td>\n",
       "      <td>7</td>\n",
       "      <td>http://en.wikipedia.org/wiki/Bahrain_Internati...</td>\n",
       "    </tr>\n",
       "    <tr>\n",
       "      <th>3</th>\n",
       "      <td>4</td>\n",
       "      <td>catalunya</td>\n",
       "      <td>Circuit de Barcelona-Catalunya</td>\n",
       "      <td>Montmeló</td>\n",
       "      <td>Spain</td>\n",
       "      <td>41.57000</td>\n",
       "      <td>2.26111</td>\n",
       "      <td>109</td>\n",
       "      <td>http://en.wikipedia.org/wiki/Circuit_de_Barcel...</td>\n",
       "    </tr>\n",
       "    <tr>\n",
       "      <th>4</th>\n",
       "      <td>5</td>\n",
       "      <td>istanbul</td>\n",
       "      <td>Istanbul Park</td>\n",
       "      <td>Istanbul</td>\n",
       "      <td>Turkey</td>\n",
       "      <td>40.95170</td>\n",
       "      <td>29.40500</td>\n",
       "      <td>130</td>\n",
       "      <td>http://en.wikipedia.org/wiki/Istanbul_Park</td>\n",
       "    </tr>\n",
       "  </tbody>\n",
       "</table>\n",
       "</div>"
      ],
      "text/plain": [
       "   circuitId   circuitRef                            name      location  \\\n",
       "0          1  albert_park  Albert Park Grand Prix Circuit     Melbourne   \n",
       "1          2       sepang    Sepang International Circuit  Kuala Lumpur   \n",
       "2          3      bahrain   Bahrain International Circuit        Sakhir   \n",
       "3          4    catalunya  Circuit de Barcelona-Catalunya      Montmeló   \n",
       "4          5     istanbul                   Istanbul Park      Istanbul   \n",
       "\n",
       "     country  circuit_lat  circuit_lng  alt  \\\n",
       "0  Australia    -37.84970    144.96800   10   \n",
       "1   Malaysia      2.76083    101.73800   18   \n",
       "2    Bahrain     26.03250     50.51060    7   \n",
       "3      Spain     41.57000      2.26111  109   \n",
       "4     Turkey     40.95170     29.40500  130   \n",
       "\n",
       "                                                 url  \n",
       "0  http://en.wikipedia.org/wiki/Melbourne_Grand_P...  \n",
       "1  http://en.wikipedia.org/wiki/Sepang_Internatio...  \n",
       "2  http://en.wikipedia.org/wiki/Bahrain_Internati...  \n",
       "3  http://en.wikipedia.org/wiki/Circuit_de_Barcel...  \n",
       "4         http://en.wikipedia.org/wiki/Istanbul_Park  "
      ]
     },
     "execution_count": 50,
     "metadata": {},
     "output_type": "execute_result"
    }
   ],
   "source": [
    "circuits_df = circuits_df.rename(columns = {'lat':'circuit_lat', 'lng':'circuit_lng'})\n",
    "circuits_df.head()"
   ]
  },
  {
   "cell_type": "code",
   "execution_count": 51,
   "id": "d01030e8-9926-4ccb-8cc9-4f70380aa15b",
   "metadata": {},
   "outputs": [
    {
     "data": {
      "text/html": [
       "<div>\n",
       "<style scoped>\n",
       "    .dataframe tbody tr th:only-of-type {\n",
       "        vertical-align: middle;\n",
       "    }\n",
       "\n",
       "    .dataframe tbody tr th {\n",
       "        vertical-align: top;\n",
       "    }\n",
       "\n",
       "    .dataframe thead th {\n",
       "        text-align: right;\n",
       "    }\n",
       "</style>\n",
       "<table border=\"1\" class=\"dataframe\">\n",
       "  <thead>\n",
       "    <tr style=\"text-align: right;\">\n",
       "      <th></th>\n",
       "      <th>circuitId</th>\n",
       "      <th>circuit_lat</th>\n",
       "      <th>circuit_lng</th>\n",
       "    </tr>\n",
       "  </thead>\n",
       "  <tbody>\n",
       "    <tr>\n",
       "      <th>0</th>\n",
       "      <td>1</td>\n",
       "      <td>-37.84970</td>\n",
       "      <td>144.96800</td>\n",
       "    </tr>\n",
       "    <tr>\n",
       "      <th>1</th>\n",
       "      <td>2</td>\n",
       "      <td>2.76083</td>\n",
       "      <td>101.73800</td>\n",
       "    </tr>\n",
       "    <tr>\n",
       "      <th>2</th>\n",
       "      <td>3</td>\n",
       "      <td>26.03250</td>\n",
       "      <td>50.51060</td>\n",
       "    </tr>\n",
       "    <tr>\n",
       "      <th>3</th>\n",
       "      <td>4</td>\n",
       "      <td>41.57000</td>\n",
       "      <td>2.26111</td>\n",
       "    </tr>\n",
       "    <tr>\n",
       "      <th>4</th>\n",
       "      <td>5</td>\n",
       "      <td>40.95170</td>\n",
       "      <td>29.40500</td>\n",
       "    </tr>\n",
       "  </tbody>\n",
       "</table>\n",
       "</div>"
      ],
      "text/plain": [
       "   circuitId  circuit_lat  circuit_lng\n",
       "0          1    -37.84970    144.96800\n",
       "1          2      2.76083    101.73800\n",
       "2          3     26.03250     50.51060\n",
       "3          4     41.57000      2.26111\n",
       "4          5     40.95170     29.40500"
      ]
     },
     "execution_count": 51,
     "metadata": {},
     "output_type": "execute_result"
    }
   ],
   "source": [
    "circuits_df = circuits_df.drop(['circuitRef', 'name', 'location', 'country', 'alt', 'url'], axis=1)\n",
    "circuits_df.head()"
   ]
  },
  {
   "cell_type": "markdown",
   "id": "ba16fcb9-3912-4fca-a855-fbaebd44f1c3",
   "metadata": {},
   "source": [
    "## Lap_Times"
   ]
  },
  {
   "cell_type": "code",
   "execution_count": 52,
   "id": "cf17262c-72a1-4228-a29d-4efe190076a0",
   "metadata": {},
   "outputs": [
    {
     "data": {
      "text/html": [
       "<div>\n",
       "<style scoped>\n",
       "    .dataframe tbody tr th:only-of-type {\n",
       "        vertical-align: middle;\n",
       "    }\n",
       "\n",
       "    .dataframe tbody tr th {\n",
       "        vertical-align: top;\n",
       "    }\n",
       "\n",
       "    .dataframe thead th {\n",
       "        text-align: right;\n",
       "    }\n",
       "</style>\n",
       "<table border=\"1\" class=\"dataframe\">\n",
       "  <thead>\n",
       "    <tr style=\"text-align: right;\">\n",
       "      <th></th>\n",
       "      <th>raceId</th>\n",
       "      <th>driverId</th>\n",
       "      <th>lap</th>\n",
       "      <th>position</th>\n",
       "      <th>time</th>\n",
       "      <th>milliseconds</th>\n",
       "    </tr>\n",
       "  </thead>\n",
       "  <tbody>\n",
       "    <tr>\n",
       "      <th>0</th>\n",
       "      <td>841</td>\n",
       "      <td>20</td>\n",
       "      <td>1</td>\n",
       "      <td>1</td>\n",
       "      <td>1:38.109</td>\n",
       "      <td>98109</td>\n",
       "    </tr>\n",
       "    <tr>\n",
       "      <th>1</th>\n",
       "      <td>841</td>\n",
       "      <td>20</td>\n",
       "      <td>2</td>\n",
       "      <td>1</td>\n",
       "      <td>1:33.006</td>\n",
       "      <td>93006</td>\n",
       "    </tr>\n",
       "    <tr>\n",
       "      <th>2</th>\n",
       "      <td>841</td>\n",
       "      <td>20</td>\n",
       "      <td>3</td>\n",
       "      <td>1</td>\n",
       "      <td>1:32.713</td>\n",
       "      <td>92713</td>\n",
       "    </tr>\n",
       "    <tr>\n",
       "      <th>3</th>\n",
       "      <td>841</td>\n",
       "      <td>20</td>\n",
       "      <td>4</td>\n",
       "      <td>1</td>\n",
       "      <td>1:32.803</td>\n",
       "      <td>92803</td>\n",
       "    </tr>\n",
       "    <tr>\n",
       "      <th>4</th>\n",
       "      <td>841</td>\n",
       "      <td>20</td>\n",
       "      <td>5</td>\n",
       "      <td>1</td>\n",
       "      <td>1:32.342</td>\n",
       "      <td>92342</td>\n",
       "    </tr>\n",
       "  </tbody>\n",
       "</table>\n",
       "</div>"
      ],
      "text/plain": [
       "   raceId  driverId  lap  position      time  milliseconds\n",
       "0     841        20    1         1  1:38.109         98109\n",
       "1     841        20    2         1  1:33.006         93006\n",
       "2     841        20    3         1  1:32.713         92713\n",
       "3     841        20    4         1  1:32.803         92803\n",
       "4     841        20    5         1  1:32.342         92342"
      ]
     },
     "execution_count": 52,
     "metadata": {},
     "output_type": "execute_result"
    }
   ],
   "source": [
    "laps_df = pd.read_csv('data/lap_times.csv')\n",
    "laps_df.head()"
   ]
  },
  {
   "cell_type": "code",
   "execution_count": 53,
   "id": "11b3e520-b06e-4327-9322-6f68d6139b31",
   "metadata": {},
   "outputs": [
    {
     "name": "stdout",
     "output_type": "stream",
     "text": [
      "Shape: (501586, 6)\n",
      "Nulls: 0\n",
      "Duplicates: 0\n"
     ]
    }
   ],
   "source": [
    "print(f'Shape: {laps_df.shape}')\n",
    "print(f'Nulls: {laps_df.isna().sum().sum()}')\n",
    "print(f'Duplicates: {laps_df.duplicated().sum()}')"
   ]
  },
  {
   "cell_type": "markdown",
   "id": "6750db09-f2f9-4a8a-abf2-ea811bd32c39",
   "metadata": {},
   "source": [
    "- `raceId`: unique identifier for each race.\n",
    "- `driverId`: unique identifier for each driver.\n",
    "- `lap`: lap number, this could help provide predictive power for finishing position by engineering a feature to show change in position per lap.\n",
    "- `position`: race position by the end of the lap, this could help provide predictive power for finishing position by engineering a feature to show change in position per lap.\n",
    "- `time`: lap time, this could help provide predictive power for finishing position as well as opportunity for engineered features such as `lap_difference`.\n",
    "- `milliseconds`: lap time in milliseconds, is considered duplicate information and would be dropped.\n",
    "\n",
    "Next steps are to look at the selected columns to keep and confirm there is no ambiguity."
   ]
  },
  {
   "cell_type": "code",
   "execution_count": 54,
   "id": "331bc798-a9a2-4ac1-802d-933d97ce93b2",
   "metadata": {},
   "outputs": [
    {
     "data": {
      "text/plain": [
       "463"
      ]
     },
     "execution_count": 54,
     "metadata": {},
     "output_type": "execute_result"
    }
   ],
   "source": [
    "laps_df['raceId'].nunique()"
   ]
  },
  {
   "cell_type": "code",
   "execution_count": 55,
   "id": "40c5dca9-66a3-4264-abb0-312315a8a789",
   "metadata": {},
   "outputs": [
    {
     "data": {
      "text/plain": [
       "1044"
      ]
     },
     "execution_count": 55,
     "metadata": {},
     "output_type": "execute_result"
    }
   ],
   "source": [
    "results_df['raceId'].nunique()"
   ]
  },
  {
   "cell_type": "code",
   "execution_count": 56,
   "id": "ca0f8147-f2d5-42c4-8f60-c28fcc067b97",
   "metadata": {},
   "outputs": [
    {
     "data": {
      "text/plain": [
       "44.34865900383142"
      ]
     },
     "execution_count": 56,
     "metadata": {},
     "output_type": "execute_result"
    }
   ],
   "source": [
    "laps_df['raceId'].nunique() / results_df['raceId'].nunique() *100"
   ]
  },
  {
   "cell_type": "markdown",
   "id": "821f4326-ee07-47b6-b389-a7d8b8b0a0c4",
   "metadata": {},
   "source": [
    "- There are only 463 unique races observed in the lap time data set, however there is a total of 1,044 unique races out of the entire results data set that contains the target variable, finishing position. "
   ]
  },
  {
   "cell_type": "code",
   "execution_count": 57,
   "id": "4639f842-a3b5-4ad4-b424-acfed316f4ef",
   "metadata": {},
   "outputs": [
    {
     "data": {
      "text/plain": [
       "135"
      ]
     },
     "execution_count": 57,
     "metadata": {},
     "output_type": "execute_result"
    }
   ],
   "source": [
    "laps_df['driverId'].nunique()"
   ]
  },
  {
   "cell_type": "code",
   "execution_count": 58,
   "id": "403cf3b6-6339-45f6-bbe7-a2a198d4f1e5",
   "metadata": {},
   "outputs": [
    {
     "data": {
      "text/plain": [
       "853"
      ]
     },
     "execution_count": 58,
     "metadata": {},
     "output_type": "execute_result"
    }
   ],
   "source": [
    "drivers_df['driverId'].nunique()"
   ]
  },
  {
   "cell_type": "code",
   "execution_count": 59,
   "id": "61ebf8eb-2a53-4312-9c3d-fce0579c0165",
   "metadata": {},
   "outputs": [
    {
     "data": {
      "text/plain": [
       "15.826494724501758"
      ]
     },
     "execution_count": 59,
     "metadata": {},
     "output_type": "execute_result"
    }
   ],
   "source": [
    "laps_df['driverId'].nunique() / drivers_df['driverId'].nunique() *100"
   ]
  },
  {
   "cell_type": "markdown",
   "id": "cd9abea6-1c78-475e-883e-5fa4da1379b9",
   "metadata": {},
   "source": [
    "- There is lap time data for only ~44% of all races as well as for only ~16% of all divers in the entire data set. \n",
    "- In effort to avoid any null values, will not include individual lap times. This is really unfortunate as individual lap time data could help provide predictive power for finishing position, however will keep in mind for future modeling."
   ]
  },
  {
   "cell_type": "markdown",
   "id": "6afaaad6-7069-46e4-acf7-343780293680",
   "metadata": {},
   "source": [
    "## Constructors"
   ]
  },
  {
   "cell_type": "code",
   "execution_count": 60,
   "id": "e8195e90-5e86-4116-bd0b-c51c1d636c9e",
   "metadata": {},
   "outputs": [
    {
     "data": {
      "text/html": [
       "<div>\n",
       "<style scoped>\n",
       "    .dataframe tbody tr th:only-of-type {\n",
       "        vertical-align: middle;\n",
       "    }\n",
       "\n",
       "    .dataframe tbody tr th {\n",
       "        vertical-align: top;\n",
       "    }\n",
       "\n",
       "    .dataframe thead th {\n",
       "        text-align: right;\n",
       "    }\n",
       "</style>\n",
       "<table border=\"1\" class=\"dataframe\">\n",
       "  <thead>\n",
       "    <tr style=\"text-align: right;\">\n",
       "      <th></th>\n",
       "      <th>constructorId</th>\n",
       "      <th>constructorRef</th>\n",
       "      <th>name</th>\n",
       "      <th>nationality</th>\n",
       "      <th>url</th>\n",
       "    </tr>\n",
       "  </thead>\n",
       "  <tbody>\n",
       "    <tr>\n",
       "      <th>0</th>\n",
       "      <td>1</td>\n",
       "      <td>mclaren</td>\n",
       "      <td>McLaren</td>\n",
       "      <td>British</td>\n",
       "      <td>http://en.wikipedia.org/wiki/McLaren</td>\n",
       "    </tr>\n",
       "    <tr>\n",
       "      <th>1</th>\n",
       "      <td>2</td>\n",
       "      <td>bmw_sauber</td>\n",
       "      <td>BMW Sauber</td>\n",
       "      <td>German</td>\n",
       "      <td>http://en.wikipedia.org/wiki/BMW_Sauber</td>\n",
       "    </tr>\n",
       "    <tr>\n",
       "      <th>2</th>\n",
       "      <td>3</td>\n",
       "      <td>williams</td>\n",
       "      <td>Williams</td>\n",
       "      <td>British</td>\n",
       "      <td>http://en.wikipedia.org/wiki/Williams_Grand_Pr...</td>\n",
       "    </tr>\n",
       "    <tr>\n",
       "      <th>3</th>\n",
       "      <td>4</td>\n",
       "      <td>renault</td>\n",
       "      <td>Renault</td>\n",
       "      <td>French</td>\n",
       "      <td>http://en.wikipedia.org/wiki/Renault_in_Formul...</td>\n",
       "    </tr>\n",
       "    <tr>\n",
       "      <th>4</th>\n",
       "      <td>5</td>\n",
       "      <td>toro_rosso</td>\n",
       "      <td>Toro Rosso</td>\n",
       "      <td>Italian</td>\n",
       "      <td>http://en.wikipedia.org/wiki/Scuderia_Toro_Rosso</td>\n",
       "    </tr>\n",
       "  </tbody>\n",
       "</table>\n",
       "</div>"
      ],
      "text/plain": [
       "   constructorId constructorRef        name nationality  \\\n",
       "0              1        mclaren     McLaren     British   \n",
       "1              2     bmw_sauber  BMW Sauber      German   \n",
       "2              3       williams    Williams     British   \n",
       "3              4        renault     Renault      French   \n",
       "4              5     toro_rosso  Toro Rosso     Italian   \n",
       "\n",
       "                                                 url  \n",
       "0               http://en.wikipedia.org/wiki/McLaren  \n",
       "1            http://en.wikipedia.org/wiki/BMW_Sauber  \n",
       "2  http://en.wikipedia.org/wiki/Williams_Grand_Pr...  \n",
       "3  http://en.wikipedia.org/wiki/Renault_in_Formul...  \n",
       "4   http://en.wikipedia.org/wiki/Scuderia_Toro_Rosso  "
      ]
     },
     "execution_count": 60,
     "metadata": {},
     "output_type": "execute_result"
    }
   ],
   "source": [
    "constructors_df = pd.read_csv('data/constructors.csv')\n",
    "constructors_df.head()"
   ]
  },
  {
   "cell_type": "code",
   "execution_count": 61,
   "id": "826fc96a-f264-4935-9f32-efe3fb31cb14",
   "metadata": {},
   "outputs": [
    {
     "name": "stdout",
     "output_type": "stream",
     "text": [
      "Shape: (211, 5)\n",
      "# of Nulls: 0\n",
      "# of Duplicates: 0\n"
     ]
    }
   ],
   "source": [
    "print(f'Shape: {constructors_df.shape}')\n",
    "print(f'# of Nulls: {constructors_df.isna().sum().sum()}')\n",
    "print(f'# of Duplicates: {constructors_df.duplicated().sum()}')"
   ]
  },
  {
   "cell_type": "markdown",
   "id": "e670418e-2e96-49fb-a390-6d4aa0c14412",
   "metadata": {},
   "source": [
    "- `constructorId`: unique identifier for each constructor.\n",
    "- `constructorRef`: unique reference for each constructor, is considered irrelevant for finishing position prediction, therefore will be dropped.\n",
    "- `name`: constructor name, this could help provide predictive power for finishing position.\n",
    "- `nationality`: constructor nationality, this could help provide predictive power for finishing position.\n",
    "- `url`: wiki link for each constructor, is considered irrelevant for finishing position prediction, therefore will be dropped.\n",
    "\n",
    "Next steps are to look at the selected columns to keep and confirm there is no ambiguity."
   ]
  },
  {
   "cell_type": "code",
   "execution_count": 62,
   "id": "2c2e6472-c024-446e-8070-108db9d8c4e5",
   "metadata": {},
   "outputs": [
    {
     "data": {
      "text/plain": [
       "211"
      ]
     },
     "execution_count": 62,
     "metadata": {},
     "output_type": "execute_result"
    }
   ],
   "source": [
    "constructors_df['constructorId'].nunique()"
   ]
  },
  {
   "cell_type": "markdown",
   "id": "8ea78c2e-4cb2-44eb-b583-0cdd3fef1b55",
   "metadata": {},
   "source": [
    "- There is a total of 211 unique constructors however only 210 unique constructors found in the results data."
   ]
  },
  {
   "cell_type": "code",
   "execution_count": 63,
   "id": "4393faa8-5399-4aaf-86f0-85c121e5dd4b",
   "metadata": {},
   "outputs": [
    {
     "data": {
      "text/html": [
       "<div>\n",
       "<style scoped>\n",
       "    .dataframe tbody tr th:only-of-type {\n",
       "        vertical-align: middle;\n",
       "    }\n",
       "\n",
       "    .dataframe tbody tr th {\n",
       "        vertical-align: top;\n",
       "    }\n",
       "\n",
       "    .dataframe thead th {\n",
       "        text-align: right;\n",
       "    }\n",
       "</style>\n",
       "<table border=\"1\" class=\"dataframe\">\n",
       "  <thead>\n",
       "    <tr style=\"text-align: right;\">\n",
       "      <th></th>\n",
       "      <th>constructorId</th>\n",
       "      <th>constructorRef</th>\n",
       "      <th>name</th>\n",
       "      <th>nationality</th>\n",
       "      <th>url</th>\n",
       "      <th>raceId</th>\n",
       "      <th>driverId</th>\n",
       "      <th>grid</th>\n",
       "      <th>finishing_position</th>\n",
       "      <th>completed_laps</th>\n",
       "      <th>status</th>\n",
       "    </tr>\n",
       "  </thead>\n",
       "  <tbody>\n",
       "    <tr>\n",
       "      <th>20521</th>\n",
       "      <td>88</td>\n",
       "      <td>eagle</td>\n",
       "      <td>Eagle</td>\n",
       "      <td>American</td>\n",
       "      <td>http://en.wikipedia.org/wiki/Anglo_American_Ra...</td>\n",
       "      <td>NaN</td>\n",
       "      <td>NaN</td>\n",
       "      <td>NaN</td>\n",
       "      <td>NaN</td>\n",
       "      <td>NaN</td>\n",
       "      <td>NaN</td>\n",
       "    </tr>\n",
       "  </tbody>\n",
       "</table>\n",
       "</div>"
      ],
      "text/plain": [
       "       constructorId constructorRef   name nationality  \\\n",
       "20521             88          eagle  Eagle    American   \n",
       "\n",
       "                                                     url  raceId  driverId  \\\n",
       "20521  http://en.wikipedia.org/wiki/Anglo_American_Ra...     NaN       NaN   \n",
       "\n",
       "       grid  finishing_position  completed_laps status  \n",
       "20521   NaN                 NaN             NaN    NaN  "
      ]
     },
     "execution_count": 63,
     "metadata": {},
     "output_type": "execute_result"
    }
   ],
   "source": [
    "ucon_df = pd.merge(constructors_df, results_df, how='left', on = \"constructorId\") # left join between the constructors_df & results_df\n",
    "bool_series = pd.isnull(ucon_df['raceId']) # creating bool series True for NaN values\n",
    "ucon_df[bool_series] # displayind data only with raceId = NaN"
   ]
  },
  {
   "cell_type": "markdown",
   "id": "ac3e6875-4c2e-4a50-b35b-9185e9bdd030",
   "metadata": {},
   "source": [
    "- After conducting a left join between the **constructors_df** & **results_df**, it appears there are no results for the constructor **Eagle**. \n",
    "- It also appears there are different variations of the constructor Eagle (Eagle-Climax & Eagle-Weslake) as seen below and therefore could simply be a data entry error."
   ]
  },
  {
   "cell_type": "code",
   "execution_count": 64,
   "id": "a5c0bc31-67f2-42ed-8483-8381b5c1681d",
   "metadata": {},
   "outputs": [
    {
     "data": {
      "text/plain": [
       "array(['AFM', 'AGS', 'ATS', 'Adams', 'Alfa Romeo', 'AlphaTauri',\n",
       "       'Alpine F1 Team', 'Alta', 'Amon', 'Andrea Moda', 'Apollon',\n",
       "       'Arrows', 'Arzani-Volpini', 'Aston Butterworth', 'Aston Martin',\n",
       "       'BAR', 'BMW', 'BMW Sauber', 'BRM', 'BRM-Ford', 'BRP',\n",
       "       'Behra-Porsche', 'Bellasi', 'Benetton', 'Boro', 'Brabham',\n",
       "       'Brabham-Alfa Romeo', 'Brabham-BRM', 'Brabham-Climax',\n",
       "       'Brabham-Ford', 'Brabham-Repco', 'Brawn', 'Bromme', 'Bugatti',\n",
       "       'Caterham', 'Christensen', 'Cisitalia', 'Coloni', 'Connaught',\n",
       "       'Connew', 'Cooper', 'Cooper-ATS', 'Cooper-Alfa Romeo',\n",
       "       'Cooper-BRM', 'Cooper-Borgward', 'Cooper-Castellotti',\n",
       "       'Cooper-Climax', 'Cooper-Ferrari', 'Cooper-Ford',\n",
       "       'Cooper-Maserati', 'Cooper-OSCA', 'Dallara', 'De Tomaso',\n",
       "       'De Tomaso-Alfa Romeo', 'De Tomaso-Ferrari', 'De Tomaso-Osca',\n",
       "       'Deidt', 'Del Roy', 'Derrington', 'Dunn', 'EMW', 'ENB', 'ERA',\n",
       "       'Eagle', 'Eagle-Climax', 'Eagle-Weslake', 'Elder', 'Embassy Hill',\n",
       "       'Emeryson', 'Ensign', 'Epperly', 'Euro Brun', 'Ewing', 'Ferguson',\n",
       "       'Ferrari', 'Fittipaldi', 'Fondmetal', 'Footwork', 'Force India',\n",
       "       'Forti', 'Frazer Nash', 'Fry', 'Gilby', 'Gordini', 'HRT', 'HWM',\n",
       "       'Haas F1 Team', 'Hall', 'Hesketh', 'Honda', 'Iso Marlboro', 'JBW',\n",
       "       'Jaguar', 'Jordan', 'Kauhsen', 'Klenk', 'Kojima', 'Kurtis Kraft',\n",
       "       'Kuzma', 'LDS', 'LDS-Alfa Romeo', 'LDS-Climax', 'LEC', 'Lambo',\n",
       "       'Lancia', 'Langley', 'Larrousse', 'Lesovsky', 'Leyton House',\n",
       "       'Life', 'Ligier', 'Lola', 'Lotus', 'Lotus F1', 'Lotus-BRM',\n",
       "       'Lotus-Borgward', 'Lotus-Climax', 'Lotus-Ford', 'Lotus-Maserati',\n",
       "       'Lotus-Pratt &amp; Whitney', 'Lyncar', 'MBM', 'MF1', 'Maki',\n",
       "       'Manor Marussia', 'March', 'March-Alfa Romeo', 'March-Ford',\n",
       "       'Marchese', 'Martini', 'Marussia', 'Maserati', 'Matra',\n",
       "       'Matra-Ford', 'McGuire', 'McLaren', 'McLaren-Alfa Romeo',\n",
       "       'McLaren-BRM', 'McLaren-Ford', 'McLaren-Serenissima', 'Mercedes',\n",
       "       'Merzario', 'Meskowski', 'Milano', 'Minardi', 'Moore', 'Nichels',\n",
       "       'OSCA', 'Olson', 'Onyx', 'Osella', 'Pacific', 'Pankratz',\n",
       "       'Parnelli', 'Pawl', 'Penske', 'Phillips', 'Politoys', 'Porsche',\n",
       "       'Prost', 'Protos', 'RAM', 'RE', 'Racing Point', 'Rae', 'Rebaque',\n",
       "       'Red Bull', 'Renault', 'Rial', 'Sauber', 'Scarab', 'Schroeder',\n",
       "       'Scirocco', 'Shadow', 'Shadow-Ford', 'Shadow-Matra', 'Shannon',\n",
       "       'Sherman', 'Simca', 'Simtek', 'Snowberger', 'Spirit', 'Spyker',\n",
       "       'Spyker MF1', 'Stebro', 'Stevens', 'Stewart', 'Super Aguri',\n",
       "       'Surtees', 'Sutton', 'Talbot-Lago', 'Team Lotus', 'Tec-Mec',\n",
       "       'Tecno', 'Theodore', 'Token', 'Toleman', 'Toro Rosso', 'Toyota',\n",
       "       'Trevis', 'Trojan', 'Turner', 'Tyrrell', 'Vanwall', 'Veritas',\n",
       "       'Virgin', 'Watson', 'Wetteroth', 'Williams', 'Wolf', 'Zakspeed'],\n",
       "      dtype=object)"
      ]
     },
     "execution_count": 64,
     "metadata": {},
     "output_type": "execute_result"
    }
   ],
   "source": [
    "constructors_df['name'].sort_values(ascending=True).unique() # check for ambiguity or values labeled \"\\N\""
   ]
  },
  {
   "cell_type": "code",
   "execution_count": 65,
   "id": "b5d048a2-4467-485f-b77d-4298c1e53da1",
   "metadata": {},
   "outputs": [
    {
     "data": {
      "text/plain": [
       "array(['British', 'German', 'French', 'Italian', 'Japanese', 'Austrian',\n",
       "       'Indian', 'Dutch', 'Russian', 'Swiss', 'Irish', 'Hong Kong',\n",
       "       'Brazilian', 'Canadian', 'Mexican', 'American', 'Australian',\n",
       "       'New Zealand', 'South African', 'Rhodesian', 'Belgium',\n",
       "       'East German', 'Spanish', 'Malaysian'], dtype=object)"
      ]
     },
     "execution_count": 65,
     "metadata": {},
     "output_type": "execute_result"
    }
   ],
   "source": [
    "constructors_df['nationality'].unique() # check for ambiguity or values labeled \"\\N\""
   ]
  },
  {
   "cell_type": "markdown",
   "id": "d1b2ea89-0af0-4b2e-aa6f-200b64dc4c8e",
   "metadata": {},
   "source": [
    "- Now that the selected columns have been reviewed and there is no ambiguous data found, it's time to rename any columns for greater specificity as well as drop the appropriate columns."
   ]
  },
  {
   "cell_type": "code",
   "execution_count": 66,
   "id": "edb4153c-881a-4358-8f9e-8243be7a42a0",
   "metadata": {},
   "outputs": [
    {
     "data": {
      "text/html": [
       "<div>\n",
       "<style scoped>\n",
       "    .dataframe tbody tr th:only-of-type {\n",
       "        vertical-align: middle;\n",
       "    }\n",
       "\n",
       "    .dataframe tbody tr th {\n",
       "        vertical-align: top;\n",
       "    }\n",
       "\n",
       "    .dataframe thead th {\n",
       "        text-align: right;\n",
       "    }\n",
       "</style>\n",
       "<table border=\"1\" class=\"dataframe\">\n",
       "  <thead>\n",
       "    <tr style=\"text-align: right;\">\n",
       "      <th></th>\n",
       "      <th>constructorId</th>\n",
       "      <th>constructorRef</th>\n",
       "      <th>constructor</th>\n",
       "      <th>constructor_nationality</th>\n",
       "      <th>url</th>\n",
       "    </tr>\n",
       "  </thead>\n",
       "  <tbody>\n",
       "    <tr>\n",
       "      <th>0</th>\n",
       "      <td>1</td>\n",
       "      <td>mclaren</td>\n",
       "      <td>McLaren</td>\n",
       "      <td>British</td>\n",
       "      <td>http://en.wikipedia.org/wiki/McLaren</td>\n",
       "    </tr>\n",
       "    <tr>\n",
       "      <th>1</th>\n",
       "      <td>2</td>\n",
       "      <td>bmw_sauber</td>\n",
       "      <td>BMW Sauber</td>\n",
       "      <td>German</td>\n",
       "      <td>http://en.wikipedia.org/wiki/BMW_Sauber</td>\n",
       "    </tr>\n",
       "    <tr>\n",
       "      <th>2</th>\n",
       "      <td>3</td>\n",
       "      <td>williams</td>\n",
       "      <td>Williams</td>\n",
       "      <td>British</td>\n",
       "      <td>http://en.wikipedia.org/wiki/Williams_Grand_Pr...</td>\n",
       "    </tr>\n",
       "    <tr>\n",
       "      <th>3</th>\n",
       "      <td>4</td>\n",
       "      <td>renault</td>\n",
       "      <td>Renault</td>\n",
       "      <td>French</td>\n",
       "      <td>http://en.wikipedia.org/wiki/Renault_in_Formul...</td>\n",
       "    </tr>\n",
       "    <tr>\n",
       "      <th>4</th>\n",
       "      <td>5</td>\n",
       "      <td>toro_rosso</td>\n",
       "      <td>Toro Rosso</td>\n",
       "      <td>Italian</td>\n",
       "      <td>http://en.wikipedia.org/wiki/Scuderia_Toro_Rosso</td>\n",
       "    </tr>\n",
       "  </tbody>\n",
       "</table>\n",
       "</div>"
      ],
      "text/plain": [
       "   constructorId constructorRef constructor constructor_nationality  \\\n",
       "0              1        mclaren     McLaren                 British   \n",
       "1              2     bmw_sauber  BMW Sauber                  German   \n",
       "2              3       williams    Williams                 British   \n",
       "3              4        renault     Renault                  French   \n",
       "4              5     toro_rosso  Toro Rosso                 Italian   \n",
       "\n",
       "                                                 url  \n",
       "0               http://en.wikipedia.org/wiki/McLaren  \n",
       "1            http://en.wikipedia.org/wiki/BMW_Sauber  \n",
       "2  http://en.wikipedia.org/wiki/Williams_Grand_Pr...  \n",
       "3  http://en.wikipedia.org/wiki/Renault_in_Formul...  \n",
       "4   http://en.wikipedia.org/wiki/Scuderia_Toro_Rosso  "
      ]
     },
     "execution_count": 66,
     "metadata": {},
     "output_type": "execute_result"
    }
   ],
   "source": [
    "constructors_df = constructors_df.rename(columns = {'name':'constructor', 'nationality':'constructor_nationality'})\n",
    "constructors_df.head()"
   ]
  },
  {
   "cell_type": "code",
   "execution_count": 67,
   "id": "2e6dde99-2ab3-4d5c-aa85-c80d03b6cc69",
   "metadata": {
    "tags": []
   },
   "outputs": [
    {
     "data": {
      "text/html": [
       "<div>\n",
       "<style scoped>\n",
       "    .dataframe tbody tr th:only-of-type {\n",
       "        vertical-align: middle;\n",
       "    }\n",
       "\n",
       "    .dataframe tbody tr th {\n",
       "        vertical-align: top;\n",
       "    }\n",
       "\n",
       "    .dataframe thead th {\n",
       "        text-align: right;\n",
       "    }\n",
       "</style>\n",
       "<table border=\"1\" class=\"dataframe\">\n",
       "  <thead>\n",
       "    <tr style=\"text-align: right;\">\n",
       "      <th></th>\n",
       "      <th>constructorId</th>\n",
       "      <th>constructor</th>\n",
       "      <th>constructor_nationality</th>\n",
       "    </tr>\n",
       "  </thead>\n",
       "  <tbody>\n",
       "    <tr>\n",
       "      <th>0</th>\n",
       "      <td>1</td>\n",
       "      <td>McLaren</td>\n",
       "      <td>British</td>\n",
       "    </tr>\n",
       "    <tr>\n",
       "      <th>1</th>\n",
       "      <td>2</td>\n",
       "      <td>BMW Sauber</td>\n",
       "      <td>German</td>\n",
       "    </tr>\n",
       "    <tr>\n",
       "      <th>2</th>\n",
       "      <td>3</td>\n",
       "      <td>Williams</td>\n",
       "      <td>British</td>\n",
       "    </tr>\n",
       "    <tr>\n",
       "      <th>3</th>\n",
       "      <td>4</td>\n",
       "      <td>Renault</td>\n",
       "      <td>French</td>\n",
       "    </tr>\n",
       "    <tr>\n",
       "      <th>4</th>\n",
       "      <td>5</td>\n",
       "      <td>Toro Rosso</td>\n",
       "      <td>Italian</td>\n",
       "    </tr>\n",
       "  </tbody>\n",
       "</table>\n",
       "</div>"
      ],
      "text/plain": [
       "   constructorId constructor constructor_nationality\n",
       "0              1     McLaren                 British\n",
       "1              2  BMW Sauber                  German\n",
       "2              3    Williams                 British\n",
       "3              4     Renault                  French\n",
       "4              5  Toro Rosso                 Italian"
      ]
     },
     "execution_count": 67,
     "metadata": {},
     "output_type": "execute_result"
    }
   ],
   "source": [
    "constructors_df = constructors_df.drop(['constructorRef', 'url'], axis=1)\n",
    "constructors_df.head()"
   ]
  },
  {
   "cell_type": "markdown",
   "id": "e9631485-ea0f-4d3b-80d9-ac583561d505",
   "metadata": {},
   "source": [
    "## Constructor Results"
   ]
  },
  {
   "cell_type": "code",
   "execution_count": 68,
   "id": "9600bceb-b8a4-494e-9847-0961f3396823",
   "metadata": {},
   "outputs": [
    {
     "data": {
      "text/html": [
       "<div>\n",
       "<style scoped>\n",
       "    .dataframe tbody tr th:only-of-type {\n",
       "        vertical-align: middle;\n",
       "    }\n",
       "\n",
       "    .dataframe tbody tr th {\n",
       "        vertical-align: top;\n",
       "    }\n",
       "\n",
       "    .dataframe thead th {\n",
       "        text-align: right;\n",
       "    }\n",
       "</style>\n",
       "<table border=\"1\" class=\"dataframe\">\n",
       "  <thead>\n",
       "    <tr style=\"text-align: right;\">\n",
       "      <th></th>\n",
       "      <th>constructorResultsId</th>\n",
       "      <th>raceId</th>\n",
       "      <th>constructorId</th>\n",
       "      <th>points</th>\n",
       "      <th>status</th>\n",
       "    </tr>\n",
       "  </thead>\n",
       "  <tbody>\n",
       "    <tr>\n",
       "      <th>0</th>\n",
       "      <td>1</td>\n",
       "      <td>18</td>\n",
       "      <td>1</td>\n",
       "      <td>14.0</td>\n",
       "      <td>\\N</td>\n",
       "    </tr>\n",
       "    <tr>\n",
       "      <th>1</th>\n",
       "      <td>2</td>\n",
       "      <td>18</td>\n",
       "      <td>2</td>\n",
       "      <td>8.0</td>\n",
       "      <td>\\N</td>\n",
       "    </tr>\n",
       "    <tr>\n",
       "      <th>2</th>\n",
       "      <td>3</td>\n",
       "      <td>18</td>\n",
       "      <td>3</td>\n",
       "      <td>9.0</td>\n",
       "      <td>\\N</td>\n",
       "    </tr>\n",
       "    <tr>\n",
       "      <th>3</th>\n",
       "      <td>4</td>\n",
       "      <td>18</td>\n",
       "      <td>4</td>\n",
       "      <td>5.0</td>\n",
       "      <td>\\N</td>\n",
       "    </tr>\n",
       "    <tr>\n",
       "      <th>4</th>\n",
       "      <td>5</td>\n",
       "      <td>18</td>\n",
       "      <td>5</td>\n",
       "      <td>2.0</td>\n",
       "      <td>\\N</td>\n",
       "    </tr>\n",
       "  </tbody>\n",
       "</table>\n",
       "</div>"
      ],
      "text/plain": [
       "   constructorResultsId  raceId  constructorId  points status\n",
       "0                     1      18              1    14.0     \\N\n",
       "1                     2      18              2     8.0     \\N\n",
       "2                     3      18              3     9.0     \\N\n",
       "3                     4      18              4     5.0     \\N\n",
       "4                     5      18              5     2.0     \\N"
      ]
     },
     "execution_count": 68,
     "metadata": {},
     "output_type": "execute_result"
    }
   ],
   "source": [
    "cr = pd.read_csv('data/constructor_results.csv')\n",
    "cr.head()"
   ]
  },
  {
   "cell_type": "code",
   "execution_count": 69,
   "id": "0d6ac8f0-df1c-4513-b500-aa42ea2b9269",
   "metadata": {},
   "outputs": [
    {
     "data": {
      "text/plain": [
       "981"
      ]
     },
     "execution_count": 69,
     "metadata": {},
     "output_type": "execute_result"
    }
   ],
   "source": [
    "cr['raceId'].nunique()"
   ]
  },
  {
   "cell_type": "code",
   "execution_count": 70,
   "id": "94db5720-d5d7-4939-9c91-2f38046b87d1",
   "metadata": {},
   "outputs": [
    {
     "data": {
      "text/plain": [
       "175"
      ]
     },
     "execution_count": 70,
     "metadata": {},
     "output_type": "execute_result"
    }
   ],
   "source": [
    "cr['constructorId'].nunique()"
   ]
  },
  {
   "cell_type": "code",
   "execution_count": 71,
   "id": "89c04811-f861-4667-ab72-40cccc020ebd",
   "metadata": {},
   "outputs": [
    {
     "data": {
      "text/plain": [
       "array([14. ,  8. ,  9. ,  5. ,  2. ,  1. ,  0. , 10. , 11. , 18. ,  4. ,\n",
       "        3. ,  6. , 16. ,  7. , 13. , 15. , 12. ,  1.5,  0.5,  5.5,  4.5,\n",
       "        2.5, 19. , 43. , 21. , 33. , 27. , 40. , 26. , 20. , 22. , 25. ,\n",
       "       31. , 30. , 17. , 23. , 29. , 35. , 37. , 28. , 24. , 50. , 66. ,\n",
       "       32. , 44. , 38. , 34. , 41. ])"
      ]
     },
     "execution_count": 71,
     "metadata": {},
     "output_type": "execute_result"
    }
   ],
   "source": [
    "cr['points'].unique()"
   ]
  },
  {
   "cell_type": "markdown",
   "id": "cabb93e7-0791-4c50-a395-0e99ed11e471",
   "metadata": {},
   "source": [
    "- Constructor results only provides results for 981/1058 unique races, 175/211 constructors, and contains inconsistent points due to changes in the point structure over time.\n",
    "- Due to these inconsistencies, no features from this data set will be used."
   ]
  },
  {
   "cell_type": "markdown",
   "id": "8a7f7b06-e2fe-4b61-9d89-65aae07e11e2",
   "metadata": {},
   "source": [
    "## Constructor Standings"
   ]
  },
  {
   "cell_type": "code",
   "execution_count": 72,
   "id": "db191415-c4fc-4854-8652-9d39bccf18ea",
   "metadata": {},
   "outputs": [
    {
     "data": {
      "text/html": [
       "<div>\n",
       "<style scoped>\n",
       "    .dataframe tbody tr th:only-of-type {\n",
       "        vertical-align: middle;\n",
       "    }\n",
       "\n",
       "    .dataframe tbody tr th {\n",
       "        vertical-align: top;\n",
       "    }\n",
       "\n",
       "    .dataframe thead th {\n",
       "        text-align: right;\n",
       "    }\n",
       "</style>\n",
       "<table border=\"1\" class=\"dataframe\">\n",
       "  <thead>\n",
       "    <tr style=\"text-align: right;\">\n",
       "      <th></th>\n",
       "      <th>constructorStandingsId</th>\n",
       "      <th>raceId</th>\n",
       "      <th>constructorId</th>\n",
       "      <th>points</th>\n",
       "      <th>position</th>\n",
       "      <th>positionText</th>\n",
       "      <th>wins</th>\n",
       "    </tr>\n",
       "  </thead>\n",
       "  <tbody>\n",
       "    <tr>\n",
       "      <th>0</th>\n",
       "      <td>1</td>\n",
       "      <td>18</td>\n",
       "      <td>1</td>\n",
       "      <td>14.0</td>\n",
       "      <td>1</td>\n",
       "      <td>1</td>\n",
       "      <td>1</td>\n",
       "    </tr>\n",
       "    <tr>\n",
       "      <th>1</th>\n",
       "      <td>2</td>\n",
       "      <td>18</td>\n",
       "      <td>2</td>\n",
       "      <td>8.0</td>\n",
       "      <td>3</td>\n",
       "      <td>3</td>\n",
       "      <td>0</td>\n",
       "    </tr>\n",
       "    <tr>\n",
       "      <th>2</th>\n",
       "      <td>3</td>\n",
       "      <td>18</td>\n",
       "      <td>3</td>\n",
       "      <td>9.0</td>\n",
       "      <td>2</td>\n",
       "      <td>2</td>\n",
       "      <td>0</td>\n",
       "    </tr>\n",
       "    <tr>\n",
       "      <th>3</th>\n",
       "      <td>4</td>\n",
       "      <td>18</td>\n",
       "      <td>4</td>\n",
       "      <td>5.0</td>\n",
       "      <td>4</td>\n",
       "      <td>4</td>\n",
       "      <td>0</td>\n",
       "    </tr>\n",
       "    <tr>\n",
       "      <th>4</th>\n",
       "      <td>5</td>\n",
       "      <td>18</td>\n",
       "      <td>5</td>\n",
       "      <td>2.0</td>\n",
       "      <td>5</td>\n",
       "      <td>5</td>\n",
       "      <td>0</td>\n",
       "    </tr>\n",
       "  </tbody>\n",
       "</table>\n",
       "</div>"
      ],
      "text/plain": [
       "   constructorStandingsId  raceId  constructorId  points  position  \\\n",
       "0                       1      18              1    14.0         1   \n",
       "1                       2      18              2     8.0         3   \n",
       "2                       3      18              3     9.0         2   \n",
       "3                       4      18              4     5.0         4   \n",
       "4                       5      18              5     2.0         5   \n",
       "\n",
       "  positionText  wins  \n",
       "0            1     1  \n",
       "1            3     0  \n",
       "2            2     0  \n",
       "3            4     0  \n",
       "4            5     0  "
      ]
     },
     "execution_count": 72,
     "metadata": {},
     "output_type": "execute_result"
    }
   ],
   "source": [
    "cs = pd.read_csv('data/constructor_standings.csv')\n",
    "cs.head()"
   ]
  },
  {
   "cell_type": "code",
   "execution_count": 73,
   "id": "0e81b020-0679-47c7-9672-11c48145e91b",
   "metadata": {},
   "outputs": [
    {
     "data": {
      "text/plain": [
       "981"
      ]
     },
     "execution_count": 73,
     "metadata": {},
     "output_type": "execute_result"
    }
   ],
   "source": [
    "cs['raceId'].nunique()"
   ]
  },
  {
   "cell_type": "code",
   "execution_count": 74,
   "id": "f6240510-e45f-4cdb-aba1-6a7187f8ce5e",
   "metadata": {},
   "outputs": [
    {
     "data": {
      "text/plain": [
       "159"
      ]
     },
     "execution_count": 74,
     "metadata": {},
     "output_type": "execute_result"
    }
   ],
   "source": [
    "cs['constructorId'].nunique()"
   ]
  },
  {
   "cell_type": "code",
   "execution_count": 75,
   "id": "e0fdaa00-43ee-4d03-a015-bc4b663d0006",
   "metadata": {},
   "outputs": [
    {
     "data": {
      "text/plain": [
       "array([ 14. ,   8. ,   9. ,   5. ,   2. ,   1. ,  24. ,  19. ,   6. ,\n",
       "        11. ,   0. ,  28. ,  30. ,  10. ,  29. ,   4. ,  34. ,  35. ,\n",
       "        12. ,  47. ,   3. ,  42. ,  44. ,  13. ,  63. ,  53. ,  52. ,\n",
       "        15. ,  69. ,  70. ,   7. ,  73. ,  17. ,  21. ,  58. ,  74. ,\n",
       "        91. ,  23. ,  72. ,  82. ,  16. ,  96. ,  25. ,  86. ,  89. ,\n",
       "       105. , 100. ,  90. ,  31. , 111. , 113. , 121. ,  41. , 119. ,\n",
       "       107. ,  36. , 131. , 129. , 117. ,  27. , 134. ,  26. , 135. ,\n",
       "       120. ,  51. ,  46. , 128. ,  66. , 142. ,  50. , 156. , 145. ,\n",
       "       151. ,  80. ,  39. , 172. ,  56. ,  18. ,  76. ,  38. ,  88. ,\n",
       "       106. ,  48. , 114. ,  32. ,  61. , 138. ,  20. ,  33. ,  71. ,\n",
       "        22. ,  77. , 148. , 166. , 192. ,  92. , 202. ,  94. , 210. ,\n",
       "       101. , 118. ,  62. ,  59. ,  78. ,  75. ,  65. ,  87. ,  37. ,\n",
       "       139. , 149. ,  85. , 158. , 160. ,  97. , 168. , 165. , 178. ,\n",
       "       179. , 186. , 195. , 110. , 201. , 206. ,  40. ,  43. ,  45. ,\n",
       "       102. ,  54. ,  95. ,  57. ,  68. , 130. , 144. , 136. , 152. ,\n",
       "       146. , 162. ,  98. , 164. ,  81. , 176. ,  64. , 174. , 191. ,\n",
       "       182. , 124. ,  79. ,  67. , 184. ,  83. ,  49. , 216. ,  60. ,\n",
       "       234. , 244. , 116. , 254. , 262. , 103. ,  55. , 108. , 115. ,\n",
       "       137. , 141. ,  84. , 147. , 157. , 173. , 189. , 205. , 221. ,\n",
       "       140. , 161. , 167. , 122. , 127. , 143. , 153. , 170. , 125. ,\n",
       "       133. , 112. , 123. , 175. , 104. , 126. , 132. , 154. ,  99. ,\n",
       "        93. ,  38.5,  55.5, 109. ,   1.5,   3.5,  16.5, 204. ,  19.5,\n",
       "        18.5,  27.5,  26.5,   4.5,  42.5,   7.5,  32.5,  56.5,  11.5,\n",
       "        34.5,  74.5,  15.5,  20.5,  92.5,  25.5,  98.5,  29.5,  30.5,\n",
       "       104.5, 105.5,  46.5, 110.5, 120.5,  54.5, 135.5, 169. , 199. ,\n",
       "        24.5,  59.5,  13.5,  68.5,  35.5,  83.5,  36.5,  40.5, 107.5,\n",
       "       128.5, 116.5, 143.5,  57.5,   2.5,  39.5,  63.5,  72.5, 153.5,\n",
       "         6.5,   8.5,   9.5, 171. , 215. , 193. , 248. , 218. , 278. ,\n",
       "       249. , 208. , 300. , 272. , 238. , 304. , 312. , 250. , 329. ,\n",
       "       330. , 290. , 347. , 350. , 359. , 383. , 319. , 381. , 426. ,\n",
       "       334. , 188. , 399. , 374. , 389. , 421. , 469. , 396. , 454. ,\n",
       "       498. , 214. , 163. , 185. , 222. , 255. , 295. , 328. , 355. ,\n",
       "       243. , 280. , 231. , 451. , 325. , 491. , 353. , 268. , 518. ,\n",
       "       388. , 292. , 558. , 418. , 310. , 595. , 442. , 607. , 482. ,\n",
       "       159. , 650. , 497. , 375. , 177. , 230. , 246. , 207. , 226. ,\n",
       "       217. , 245. , 297. , 261. , 239. , 263. , 324. , 283. , 284. ,\n",
       "       367. , 316. , 407. , 306. , 318. , 422. , 340. , 288. , 440. ,\n",
       "       302. , 378. , 460. , 400. , 303. , 219. , 180. , 183. , 194. ,\n",
       "       277. , 187. , 235. , 267. , 377. , 274. , 352. , 402. , 264. ,\n",
       "       445. , 287. , 285. , 309. , 470. , 313. , 323. , 513. , 315. ,\n",
       "       333. , 553. , 348. , 354. , 596. , 360. , 197. , 240. , 258. ,\n",
       "       301. , 326. , 366. , 393. , 411. , 150. , 479. , 305. , 522. ,\n",
       "       332. , 565. , 342. , 608. , 196. , 363. , 651. , 373. , 701. ,\n",
       "       181. , 320. , 155. , 405. , 242. , 371. , 211. , 236. , 270. ,\n",
       "       463. , 198. , 337. , 506. , 220. , 531. , 574. , 617. , 253. ,\n",
       "       401. , 660. , 257. , 428. , 703. , 223. , 335. , 224. , 415. ,\n",
       "       256. , 455. , 252. , 279. , 538. , 593. , 385. , 722. , 636. ,\n",
       "       365. , 427. , 679. , 446. , 765. , 398. , 468. , 275. , 357. ,\n",
       "       392. , 435. , 212. , 475. , 503. , 395. , 540. , 575. , 495. ,\n",
       "       625. , 358. , 668. , 368. , 237. , 247. , 345. , 390. , 452. ,\n",
       "       563. , 530. , 585. , 362. , 620. , 571. , 655. , 419. , 338. ,\n",
       "       228. , 409. , 438. , 471. , 505. , 266. , 351. , 527. , 289. ,\n",
       "       394. , 311. , 612. , 466. , 341. , 652. , 695. , 391. , 739. ,\n",
       "       417. , 504. , 281. , 533. , 282. , 573. , 286. ])"
      ]
     },
     "execution_count": 75,
     "metadata": {},
     "output_type": "execute_result"
    }
   ],
   "source": [
    "cs['points'].unique() # check for ambiguity or values labeled \"\\N\""
   ]
  },
  {
   "cell_type": "markdown",
   "id": "e32a6749-738c-405a-ba6f-90e441bdd8e5",
   "metadata": {},
   "source": [
    "- Only provides results for 981/1058 unique races, 159/211 constructors, and contains inconsistent points due to changes in the point structure over time.\n",
    "- Due to these inconsistencies, no features from this data set will be used."
   ]
  },
  {
   "cell_type": "markdown",
   "id": "7a44ff2f-8a29-480d-b8f1-122083d3cd01",
   "metadata": {},
   "source": [
    "## Pit Stops"
   ]
  },
  {
   "cell_type": "code",
   "execution_count": 76,
   "id": "ff5c921b-95e4-49c5-b4b4-69612377746c",
   "metadata": {},
   "outputs": [
    {
     "data": {
      "text/html": [
       "<div>\n",
       "<style scoped>\n",
       "    .dataframe tbody tr th:only-of-type {\n",
       "        vertical-align: middle;\n",
       "    }\n",
       "\n",
       "    .dataframe tbody tr th {\n",
       "        vertical-align: top;\n",
       "    }\n",
       "\n",
       "    .dataframe thead th {\n",
       "        text-align: right;\n",
       "    }\n",
       "</style>\n",
       "<table border=\"1\" class=\"dataframe\">\n",
       "  <thead>\n",
       "    <tr style=\"text-align: right;\">\n",
       "      <th></th>\n",
       "      <th>raceId</th>\n",
       "      <th>driverId</th>\n",
       "      <th>stop</th>\n",
       "      <th>lap</th>\n",
       "      <th>time</th>\n",
       "      <th>duration</th>\n",
       "      <th>milliseconds</th>\n",
       "    </tr>\n",
       "  </thead>\n",
       "  <tbody>\n",
       "    <tr>\n",
       "      <th>0</th>\n",
       "      <td>841</td>\n",
       "      <td>153</td>\n",
       "      <td>1</td>\n",
       "      <td>1</td>\n",
       "      <td>17:05:23</td>\n",
       "      <td>26.898</td>\n",
       "      <td>26898</td>\n",
       "    </tr>\n",
       "    <tr>\n",
       "      <th>1</th>\n",
       "      <td>841</td>\n",
       "      <td>30</td>\n",
       "      <td>1</td>\n",
       "      <td>1</td>\n",
       "      <td>17:05:52</td>\n",
       "      <td>25.021</td>\n",
       "      <td>25021</td>\n",
       "    </tr>\n",
       "    <tr>\n",
       "      <th>2</th>\n",
       "      <td>841</td>\n",
       "      <td>17</td>\n",
       "      <td>1</td>\n",
       "      <td>11</td>\n",
       "      <td>17:20:48</td>\n",
       "      <td>23.426</td>\n",
       "      <td>23426</td>\n",
       "    </tr>\n",
       "    <tr>\n",
       "      <th>3</th>\n",
       "      <td>841</td>\n",
       "      <td>4</td>\n",
       "      <td>1</td>\n",
       "      <td>12</td>\n",
       "      <td>17:22:34</td>\n",
       "      <td>23.251</td>\n",
       "      <td>23251</td>\n",
       "    </tr>\n",
       "    <tr>\n",
       "      <th>4</th>\n",
       "      <td>841</td>\n",
       "      <td>13</td>\n",
       "      <td>1</td>\n",
       "      <td>13</td>\n",
       "      <td>17:24:10</td>\n",
       "      <td>23.842</td>\n",
       "      <td>23842</td>\n",
       "    </tr>\n",
       "  </tbody>\n",
       "</table>\n",
       "</div>"
      ],
      "text/plain": [
       "   raceId  driverId  stop  lap      time duration  milliseconds\n",
       "0     841       153     1    1  17:05:23   26.898         26898\n",
       "1     841        30     1    1  17:05:52   25.021         25021\n",
       "2     841        17     1   11  17:20:48   23.426         23426\n",
       "3     841         4     1   12  17:22:34   23.251         23251\n",
       "4     841        13     1   13  17:24:10   23.842         23842"
      ]
     },
     "execution_count": 76,
     "metadata": {},
     "output_type": "execute_result"
    }
   ],
   "source": [
    "ps = pd.read_csv('data/pit_stops.csv')\n",
    "ps.head()"
   ]
  },
  {
   "cell_type": "code",
   "execution_count": 77,
   "id": "b0ac639c-3240-42c3-89d3-39b979c909eb",
   "metadata": {},
   "outputs": [
    {
     "data": {
      "text/plain": [
       "68"
      ]
     },
     "execution_count": 77,
     "metadata": {},
     "output_type": "execute_result"
    }
   ],
   "source": [
    "ps['driverId'].nunique()"
   ]
  },
  {
   "cell_type": "code",
   "execution_count": 78,
   "id": "f140474b-3660-4aff-a165-6244605c2427",
   "metadata": {},
   "outputs": [
    {
     "data": {
      "text/plain": [
       "205"
      ]
     },
     "execution_count": 78,
     "metadata": {},
     "output_type": "execute_result"
    }
   ],
   "source": [
    "ps['raceId'].nunique()"
   ]
  },
  {
   "cell_type": "markdown",
   "id": "e12ea43a-6664-4f7e-bc47-8572ff32a2f9",
   "metadata": {},
   "source": [
    "- Only provides results for 19% of all unique races (205/1058) and for 24% of all unique drivers (205/853).\n",
    "- Due to these inconsistencies and the goal of avoiding null values for modeling, no features from this data set will be used."
   ]
  },
  {
   "cell_type": "markdown",
   "id": "5322c79c-39ea-423f-95ba-c877924f03eb",
   "metadata": {},
   "source": [
    "## Seasons"
   ]
  },
  {
   "cell_type": "code",
   "execution_count": 79,
   "id": "cc784af7-0eba-4f38-b05e-54b44313385a",
   "metadata": {},
   "outputs": [
    {
     "data": {
      "text/html": [
       "<div>\n",
       "<style scoped>\n",
       "    .dataframe tbody tr th:only-of-type {\n",
       "        vertical-align: middle;\n",
       "    }\n",
       "\n",
       "    .dataframe tbody tr th {\n",
       "        vertical-align: top;\n",
       "    }\n",
       "\n",
       "    .dataframe thead th {\n",
       "        text-align: right;\n",
       "    }\n",
       "</style>\n",
       "<table border=\"1\" class=\"dataframe\">\n",
       "  <thead>\n",
       "    <tr style=\"text-align: right;\">\n",
       "      <th></th>\n",
       "      <th>year</th>\n",
       "      <th>url</th>\n",
       "    </tr>\n",
       "  </thead>\n",
       "  <tbody>\n",
       "    <tr>\n",
       "      <th>0</th>\n",
       "      <td>2009</td>\n",
       "      <td>https://en.wikipedia.org/wiki/2009_Formula_One...</td>\n",
       "    </tr>\n",
       "    <tr>\n",
       "      <th>1</th>\n",
       "      <td>2008</td>\n",
       "      <td>https://en.wikipedia.org/wiki/2008_Formula_One...</td>\n",
       "    </tr>\n",
       "    <tr>\n",
       "      <th>2</th>\n",
       "      <td>2007</td>\n",
       "      <td>https://en.wikipedia.org/wiki/2007_Formula_One...</td>\n",
       "    </tr>\n",
       "    <tr>\n",
       "      <th>3</th>\n",
       "      <td>2006</td>\n",
       "      <td>https://en.wikipedia.org/wiki/2006_Formula_One...</td>\n",
       "    </tr>\n",
       "    <tr>\n",
       "      <th>4</th>\n",
       "      <td>2005</td>\n",
       "      <td>https://en.wikipedia.org/wiki/2005_Formula_One...</td>\n",
       "    </tr>\n",
       "  </tbody>\n",
       "</table>\n",
       "</div>"
      ],
      "text/plain": [
       "   year                                                url\n",
       "0  2009  https://en.wikipedia.org/wiki/2009_Formula_One...\n",
       "1  2008  https://en.wikipedia.org/wiki/2008_Formula_One...\n",
       "2  2007  https://en.wikipedia.org/wiki/2007_Formula_One...\n",
       "3  2006  https://en.wikipedia.org/wiki/2006_Formula_One...\n",
       "4  2005  https://en.wikipedia.org/wiki/2005_Formula_One..."
      ]
     },
     "execution_count": 79,
     "metadata": {},
     "output_type": "execute_result"
    }
   ],
   "source": [
    "seasons = pd.read_csv('data/seasons.csv')\n",
    "seasons.head()"
   ]
  },
  {
   "cell_type": "markdown",
   "id": "c9bea0c8-4de6-4c19-9107-02a9e6212a2e",
   "metadata": {},
   "source": [
    "- Only provides year, considered duplicate information and therefore no features from this data set will be used."
   ]
  },
  {
   "cell_type": "markdown",
   "id": "ae2e2725-7834-49e7-b9ee-e6f6f46a4194",
   "metadata": {},
   "source": [
    "## Final DataFrame\n",
    "Now that all individual data sets have been reviewed, a final dataframe can be created by joining the selected data sets per their unique identifier as seen below."
   ]
  },
  {
   "cell_type": "code",
   "execution_count": 80,
   "id": "4ec08663-c23d-4cd8-b7ee-47fc60030d3c",
   "metadata": {},
   "outputs": [
    {
     "data": {
      "text/html": [
       "<div>\n",
       "<style scoped>\n",
       "    .dataframe tbody tr th:only-of-type {\n",
       "        vertical-align: middle;\n",
       "    }\n",
       "\n",
       "    .dataframe tbody tr th {\n",
       "        vertical-align: top;\n",
       "    }\n",
       "\n",
       "    .dataframe thead th {\n",
       "        text-align: right;\n",
       "    }\n",
       "</style>\n",
       "<table border=\"1\" class=\"dataframe\">\n",
       "  <thead>\n",
       "    <tr style=\"text-align: right;\">\n",
       "      <th></th>\n",
       "      <th>raceId</th>\n",
       "      <th>driverId</th>\n",
       "      <th>constructorId</th>\n",
       "      <th>grid</th>\n",
       "      <th>finishing_position</th>\n",
       "      <th>completed_laps</th>\n",
       "      <th>status</th>\n",
       "      <th>driverRef</th>\n",
       "      <th>dob</th>\n",
       "      <th>nationality</th>\n",
       "      <th>round</th>\n",
       "      <th>circuitId</th>\n",
       "      <th>date</th>\n",
       "      <th>circuit_lat</th>\n",
       "      <th>circuit_lng</th>\n",
       "      <th>constructor</th>\n",
       "      <th>constructor_nationality</th>\n",
       "    </tr>\n",
       "  </thead>\n",
       "  <tbody>\n",
       "    <tr>\n",
       "      <th>0</th>\n",
       "      <td>18</td>\n",
       "      <td>1</td>\n",
       "      <td>1</td>\n",
       "      <td>1</td>\n",
       "      <td>1</td>\n",
       "      <td>58</td>\n",
       "      <td>Finished</td>\n",
       "      <td>hamilton</td>\n",
       "      <td>1985-01-07</td>\n",
       "      <td>British</td>\n",
       "      <td>1</td>\n",
       "      <td>1</td>\n",
       "      <td>2008-03-16</td>\n",
       "      <td>-37.8497</td>\n",
       "      <td>144.968</td>\n",
       "      <td>McLaren</td>\n",
       "      <td>British</td>\n",
       "    </tr>\n",
       "    <tr>\n",
       "      <th>1</th>\n",
       "      <td>18</td>\n",
       "      <td>5</td>\n",
       "      <td>1</td>\n",
       "      <td>3</td>\n",
       "      <td>5</td>\n",
       "      <td>58</td>\n",
       "      <td>Finished</td>\n",
       "      <td>kovalainen</td>\n",
       "      <td>1981-10-19</td>\n",
       "      <td>Finnish</td>\n",
       "      <td>1</td>\n",
       "      <td>1</td>\n",
       "      <td>2008-03-16</td>\n",
       "      <td>-37.8497</td>\n",
       "      <td>144.968</td>\n",
       "      <td>McLaren</td>\n",
       "      <td>British</td>\n",
       "    </tr>\n",
       "    <tr>\n",
       "      <th>2</th>\n",
       "      <td>36</td>\n",
       "      <td>1</td>\n",
       "      <td>1</td>\n",
       "      <td>4</td>\n",
       "      <td>3</td>\n",
       "      <td>58</td>\n",
       "      <td>Finished</td>\n",
       "      <td>hamilton</td>\n",
       "      <td>1985-01-07</td>\n",
       "      <td>British</td>\n",
       "      <td>1</td>\n",
       "      <td>1</td>\n",
       "      <td>2007-03-18</td>\n",
       "      <td>-37.8497</td>\n",
       "      <td>144.968</td>\n",
       "      <td>McLaren</td>\n",
       "      <td>British</td>\n",
       "    </tr>\n",
       "    <tr>\n",
       "      <th>3</th>\n",
       "      <td>36</td>\n",
       "      <td>4</td>\n",
       "      <td>1</td>\n",
       "      <td>2</td>\n",
       "      <td>2</td>\n",
       "      <td>58</td>\n",
       "      <td>Finished</td>\n",
       "      <td>alonso</td>\n",
       "      <td>1981-07-29</td>\n",
       "      <td>Spanish</td>\n",
       "      <td>1</td>\n",
       "      <td>1</td>\n",
       "      <td>2007-03-18</td>\n",
       "      <td>-37.8497</td>\n",
       "      <td>144.968</td>\n",
       "      <td>McLaren</td>\n",
       "      <td>British</td>\n",
       "    </tr>\n",
       "    <tr>\n",
       "      <th>4</th>\n",
       "      <td>338</td>\n",
       "      <td>1</td>\n",
       "      <td>1</td>\n",
       "      <td>11</td>\n",
       "      <td>6</td>\n",
       "      <td>58</td>\n",
       "      <td>Finished</td>\n",
       "      <td>hamilton</td>\n",
       "      <td>1985-01-07</td>\n",
       "      <td>British</td>\n",
       "      <td>2</td>\n",
       "      <td>1</td>\n",
       "      <td>2010-03-28</td>\n",
       "      <td>-37.8497</td>\n",
       "      <td>144.968</td>\n",
       "      <td>McLaren</td>\n",
       "      <td>British</td>\n",
       "    </tr>\n",
       "  </tbody>\n",
       "</table>\n",
       "</div>"
      ],
      "text/plain": [
       "   raceId  driverId  constructorId  grid  finishing_position  completed_laps  \\\n",
       "0      18         1              1     1                   1              58   \n",
       "1      18         5              1     3                   5              58   \n",
       "2      36         1              1     4                   3              58   \n",
       "3      36         4              1     2                   2              58   \n",
       "4     338         1              1    11                   6              58   \n",
       "\n",
       "     status   driverRef         dob nationality  round  circuitId        date  \\\n",
       "0  Finished    hamilton  1985-01-07     British      1          1  2008-03-16   \n",
       "1  Finished  kovalainen  1981-10-19     Finnish      1          1  2008-03-16   \n",
       "2  Finished    hamilton  1985-01-07     British      1          1  2007-03-18   \n",
       "3  Finished      alonso  1981-07-29     Spanish      1          1  2007-03-18   \n",
       "4  Finished    hamilton  1985-01-07     British      2          1  2010-03-28   \n",
       "\n",
       "   circuit_lat  circuit_lng constructor constructor_nationality  \n",
       "0     -37.8497      144.968     McLaren                 British  \n",
       "1     -37.8497      144.968     McLaren                 British  \n",
       "2     -37.8497      144.968     McLaren                 British  \n",
       "3     -37.8497      144.968     McLaren                 British  \n",
       "4     -37.8497      144.968     McLaren                 British  "
      ]
     },
     "execution_count": 80,
     "metadata": {},
     "output_type": "execute_result"
    }
   ],
   "source": [
    "#join results with drivers by column driverID, using inner join\n",
    "driver_results = pd.merge(results_df, drivers_df, on='driverId')\n",
    "#join races with driver_results by column raceID, using inner join\n",
    "race_results = pd.merge(driver_results, races_df, on='raceId')\n",
    "#join circuits with race_results by column circuitID, using inner join\n",
    "circuit_results = pd.merge(race_results, circuits_df, on='circuitId')\n",
    "#join constructorDF with dfresulcons by column constructorID, using inner join\n",
    "f1_df = pd.merge(circuit_results, constructors_df, on='constructorId')\n",
    "\n",
    "f1_df.head()"
   ]
  },
  {
   "cell_type": "code",
   "execution_count": 81,
   "id": "c4613ca5-3055-4461-8fee-55ee6b69d4f1",
   "metadata": {},
   "outputs": [
    {
     "name": "stdout",
     "output_type": "stream",
     "text": [
      "Shape: (25140, 17)\n",
      "Nulls: 0\n",
      "Duplicates: 0\n"
     ]
    }
   ],
   "source": [
    "print(f'Shape: {f1_df.shape}')\n",
    "print(f'Nulls: {f1_df.isna().sum().sum()}')\n",
    "print(f'Duplicates: {f1_df.duplicated().sum()}')"
   ]
  },
  {
   "cell_type": "markdown",
   "id": "736540c2-82ae-46f2-b83a-92e56d065415",
   "metadata": {},
   "source": [
    "- Now that a final data frame is created, time to remove duplicate information within the features."
   ]
  },
  {
   "cell_type": "code",
   "execution_count": 82,
   "id": "38bedaec-439b-4b4a-a26a-495b7f9236df",
   "metadata": {},
   "outputs": [
    {
     "data": {
      "text/html": [
       "<div>\n",
       "<style scoped>\n",
       "    .dataframe tbody tr th:only-of-type {\n",
       "        vertical-align: middle;\n",
       "    }\n",
       "\n",
       "    .dataframe tbody tr th {\n",
       "        vertical-align: top;\n",
       "    }\n",
       "\n",
       "    .dataframe thead th {\n",
       "        text-align: right;\n",
       "    }\n",
       "</style>\n",
       "<table border=\"1\" class=\"dataframe\">\n",
       "  <thead>\n",
       "    <tr style=\"text-align: right;\">\n",
       "      <th></th>\n",
       "      <th>grid</th>\n",
       "      <th>finishing_position</th>\n",
       "      <th>completed_laps</th>\n",
       "      <th>status</th>\n",
       "      <th>driverRef</th>\n",
       "      <th>dob</th>\n",
       "      <th>nationality</th>\n",
       "      <th>round</th>\n",
       "      <th>date</th>\n",
       "      <th>circuit_lat</th>\n",
       "      <th>circuit_lng</th>\n",
       "      <th>constructor</th>\n",
       "      <th>constructor_nationality</th>\n",
       "    </tr>\n",
       "  </thead>\n",
       "  <tbody>\n",
       "    <tr>\n",
       "      <th>0</th>\n",
       "      <td>1</td>\n",
       "      <td>1</td>\n",
       "      <td>58</td>\n",
       "      <td>Finished</td>\n",
       "      <td>hamilton</td>\n",
       "      <td>1985-01-07</td>\n",
       "      <td>British</td>\n",
       "      <td>1</td>\n",
       "      <td>2008-03-16</td>\n",
       "      <td>-37.8497</td>\n",
       "      <td>144.968</td>\n",
       "      <td>McLaren</td>\n",
       "      <td>British</td>\n",
       "    </tr>\n",
       "    <tr>\n",
       "      <th>1</th>\n",
       "      <td>3</td>\n",
       "      <td>5</td>\n",
       "      <td>58</td>\n",
       "      <td>Finished</td>\n",
       "      <td>kovalainen</td>\n",
       "      <td>1981-10-19</td>\n",
       "      <td>Finnish</td>\n",
       "      <td>1</td>\n",
       "      <td>2008-03-16</td>\n",
       "      <td>-37.8497</td>\n",
       "      <td>144.968</td>\n",
       "      <td>McLaren</td>\n",
       "      <td>British</td>\n",
       "    </tr>\n",
       "    <tr>\n",
       "      <th>2</th>\n",
       "      <td>4</td>\n",
       "      <td>3</td>\n",
       "      <td>58</td>\n",
       "      <td>Finished</td>\n",
       "      <td>hamilton</td>\n",
       "      <td>1985-01-07</td>\n",
       "      <td>British</td>\n",
       "      <td>1</td>\n",
       "      <td>2007-03-18</td>\n",
       "      <td>-37.8497</td>\n",
       "      <td>144.968</td>\n",
       "      <td>McLaren</td>\n",
       "      <td>British</td>\n",
       "    </tr>\n",
       "    <tr>\n",
       "      <th>3</th>\n",
       "      <td>2</td>\n",
       "      <td>2</td>\n",
       "      <td>58</td>\n",
       "      <td>Finished</td>\n",
       "      <td>alonso</td>\n",
       "      <td>1981-07-29</td>\n",
       "      <td>Spanish</td>\n",
       "      <td>1</td>\n",
       "      <td>2007-03-18</td>\n",
       "      <td>-37.8497</td>\n",
       "      <td>144.968</td>\n",
       "      <td>McLaren</td>\n",
       "      <td>British</td>\n",
       "    </tr>\n",
       "    <tr>\n",
       "      <th>4</th>\n",
       "      <td>11</td>\n",
       "      <td>6</td>\n",
       "      <td>58</td>\n",
       "      <td>Finished</td>\n",
       "      <td>hamilton</td>\n",
       "      <td>1985-01-07</td>\n",
       "      <td>British</td>\n",
       "      <td>2</td>\n",
       "      <td>2010-03-28</td>\n",
       "      <td>-37.8497</td>\n",
       "      <td>144.968</td>\n",
       "      <td>McLaren</td>\n",
       "      <td>British</td>\n",
       "    </tr>\n",
       "  </tbody>\n",
       "</table>\n",
       "</div>"
      ],
      "text/plain": [
       "   grid  finishing_position  completed_laps    status   driverRef         dob  \\\n",
       "0     1                   1              58  Finished    hamilton  1985-01-07   \n",
       "1     3                   5              58  Finished  kovalainen  1981-10-19   \n",
       "2     4                   3              58  Finished    hamilton  1985-01-07   \n",
       "3     2                   2              58  Finished      alonso  1981-07-29   \n",
       "4    11                   6              58  Finished    hamilton  1985-01-07   \n",
       "\n",
       "  nationality  round        date  circuit_lat  circuit_lng constructor  \\\n",
       "0     British      1  2008-03-16     -37.8497      144.968     McLaren   \n",
       "1     Finnish      1  2008-03-16     -37.8497      144.968     McLaren   \n",
       "2     British      1  2007-03-18     -37.8497      144.968     McLaren   \n",
       "3     Spanish      1  2007-03-18     -37.8497      144.968     McLaren   \n",
       "4     British      2  2010-03-28     -37.8497      144.968     McLaren   \n",
       "\n",
       "  constructor_nationality  \n",
       "0                 British  \n",
       "1                 British  \n",
       "2                 British  \n",
       "3                 British  \n",
       "4                 British  "
      ]
     },
     "execution_count": 82,
     "metadata": {},
     "output_type": "execute_result"
    }
   ],
   "source": [
    "f1_df = f1_df.drop(['raceId', 'driverId', 'constructorId', 'circuitId'], axis=1)\n",
    "f1_df.head()"
   ]
  },
  {
   "cell_type": "code",
   "execution_count": 83,
   "id": "45c98f04-914d-4d17-b009-f045922d929a",
   "metadata": {},
   "outputs": [
    {
     "name": "stdout",
     "output_type": "stream",
     "text": [
      "Shape: (25140, 13)\n",
      "Duplication: 0\n",
      "Null Values: 0\n"
     ]
    }
   ],
   "source": [
    "print(f'Shape: {f1_df.shape}')\n",
    "print(f'Duplication: {f1_df.duplicated().sum()}')\n",
    "print(f'Null Values: {f1_df.isna().sum().sum()}')"
   ]
  },
  {
   "cell_type": "markdown",
   "id": "d1105cda-33bf-4646-a04e-3172462cbe88",
   "metadata": {},
   "source": [
    "- This looks good, will save this final data frame to a csv for modeling."
   ]
  },
  {
   "cell_type": "code",
   "execution_count": 84,
   "id": "4f756214-7f7c-4902-afbb-ec1ec4a32d29",
   "metadata": {},
   "outputs": [],
   "source": [
    "f1_df.to_csv(\"data/f1_df.csv\", index=False)"
   ]
  },
  {
   "cell_type": "markdown",
   "id": "cf1285eb-b19a-4110-b0ed-709b63f4dc85",
   "metadata": {},
   "source": [
    "## Data Distribution\n",
    "- This section will explore the data distribution for all numeric & categorical columns."
   ]
  },
  {
   "cell_type": "markdown",
   "id": "a5523b4f-c1ec-4b80-9632-b385c74f9050",
   "metadata": {},
   "source": [
    "### Numeric Columns"
   ]
  },
  {
   "cell_type": "code",
   "execution_count": 85,
   "id": "256492ca-3d60-4284-93c7-6588f1d4b033",
   "metadata": {},
   "outputs": [
    {
     "data": {
      "text/html": [
       "<div>\n",
       "<style scoped>\n",
       "    .dataframe tbody tr th:only-of-type {\n",
       "        vertical-align: middle;\n",
       "    }\n",
       "\n",
       "    .dataframe tbody tr th {\n",
       "        vertical-align: top;\n",
       "    }\n",
       "\n",
       "    .dataframe thead th {\n",
       "        text-align: right;\n",
       "    }\n",
       "</style>\n",
       "<table border=\"1\" class=\"dataframe\">\n",
       "  <thead>\n",
       "    <tr style=\"text-align: right;\">\n",
       "      <th></th>\n",
       "      <th>grid</th>\n",
       "      <th>finishing_position</th>\n",
       "      <th>completed_laps</th>\n",
       "      <th>round</th>\n",
       "      <th>circuit_lat</th>\n",
       "      <th>circuit_lng</th>\n",
       "    </tr>\n",
       "  </thead>\n",
       "  <tbody>\n",
       "    <tr>\n",
       "      <th>0</th>\n",
       "      <td>1</td>\n",
       "      <td>1</td>\n",
       "      <td>58</td>\n",
       "      <td>1</td>\n",
       "      <td>-37.8497</td>\n",
       "      <td>144.968</td>\n",
       "    </tr>\n",
       "    <tr>\n",
       "      <th>1</th>\n",
       "      <td>3</td>\n",
       "      <td>5</td>\n",
       "      <td>58</td>\n",
       "      <td>1</td>\n",
       "      <td>-37.8497</td>\n",
       "      <td>144.968</td>\n",
       "    </tr>\n",
       "    <tr>\n",
       "      <th>2</th>\n",
       "      <td>4</td>\n",
       "      <td>3</td>\n",
       "      <td>58</td>\n",
       "      <td>1</td>\n",
       "      <td>-37.8497</td>\n",
       "      <td>144.968</td>\n",
       "    </tr>\n",
       "    <tr>\n",
       "      <th>3</th>\n",
       "      <td>2</td>\n",
       "      <td>2</td>\n",
       "      <td>58</td>\n",
       "      <td>1</td>\n",
       "      <td>-37.8497</td>\n",
       "      <td>144.968</td>\n",
       "    </tr>\n",
       "    <tr>\n",
       "      <th>4</th>\n",
       "      <td>11</td>\n",
       "      <td>6</td>\n",
       "      <td>58</td>\n",
       "      <td>2</td>\n",
       "      <td>-37.8497</td>\n",
       "      <td>144.968</td>\n",
       "    </tr>\n",
       "  </tbody>\n",
       "</table>\n",
       "</div>"
      ],
      "text/plain": [
       "   grid  finishing_position  completed_laps  round  circuit_lat  circuit_lng\n",
       "0     1                   1              58      1     -37.8497      144.968\n",
       "1     3                   5              58      1     -37.8497      144.968\n",
       "2     4                   3              58      1     -37.8497      144.968\n",
       "3     2                   2              58      1     -37.8497      144.968\n",
       "4    11                   6              58      2     -37.8497      144.968"
      ]
     },
     "execution_count": 85,
     "metadata": {},
     "output_type": "execute_result"
    }
   ],
   "source": [
    "nf1_df = f1_df.select_dtypes([\"int64\", \"float64\"])\n",
    "nf1_df.head()"
   ]
  },
  {
   "cell_type": "code",
   "execution_count": 86,
   "id": "2928170f-d8c9-448c-a13c-6fd6d6ef86bf",
   "metadata": {},
   "outputs": [
    {
     "data": {
      "image/png": "[encoded data removed]",
      "text/plain": [
       "<Figure size 1440x720 with 6 Axes>"
      ]
     },
     "metadata": {
      "needs_background": "light"
     },
     "output_type": "display_data"
    }
   ],
   "source": [
    "plt.subplots(2, 3, figsize=(20,10))  # create a 2x2 grid of subplots\n",
    "plt.suptitle('Column Distributions', size=20)\n",
    "\n",
    "# Historgram of grid\n",
    "plt.subplot(2, 3, 1)\n",
    "plt.hist(f1_df['grid'], bins=f1_df['grid'].nunique())\n",
    "plt.title('grid position')\n",
    "plt.xlabel('position')\n",
    "plt.ylabel('Frequency')\n",
    "plt.axvline(f1_df['grid'].mean(), label=\"Mean\", c=\"magenta\")\n",
    "sns.despine() # Remove the top and right spines from plot\n",
    "\n",
    "#Historgram of finishing_position\n",
    "plt.subplot(2,3,2)\n",
    "plt.hist(f1_df['finishing_position'], bins=f1_df['finishing_position'].nunique())\n",
    "plt.title('finishing_position')\n",
    "plt.xlabel('position')\n",
    "plt.ylabel('Frequency')\n",
    "plt.axvline(f1_df['finishing_position'].mean(), label=\"Mean\", c=\"magenta\")\n",
    "sns.despine() # Remove the top and right spines from plot\n",
    "\n",
    "#Historgram of completed_laps\n",
    "plt.subplot(2,3,3)\n",
    "plt.hist(f1_df['completed_laps'], bins=f1_df['completed_laps'].nunique())\n",
    "plt.title('completed_laps')\n",
    "plt.xlabel('number of laps')\n",
    "plt.ylabel('Frequency')\n",
    "plt.axvline(f1_df['completed_laps'].mean(), label=\"Mean\", c=\"magenta\")\n",
    "sns.despine() # Remove the top and right spines from plot\n",
    "\n",
    "#Historgram of race round\n",
    "plt.subplot(2,3,4)\n",
    "plt.hist(f1_df['round'], bins=f1_df['round'].nunique())\n",
    "plt.title('round')\n",
    "plt.xlabel('round')\n",
    "plt.ylabel('Frequency')\n",
    "plt.axvline(f1_df['round'].mean(), label=\"Mean\", c=\"magenta\")\n",
    "sns.despine() # Remove the top and right spines from plot\n",
    "\n",
    "#Historgram of circuit_lat\n",
    "plt.subplot(2,3,5)\n",
    "plt.hist(f1_df['circuit_lat'], bins=f1_df['circuit_lat'].nunique())\n",
    "plt.title('circuit_lat')\n",
    "plt.xlabel('circuit_lat')\n",
    "plt.ylabel('Frequency')\n",
    "plt.axvline(f1_df['circuit_lat'].mean(), label=\"Mean\", c=\"magenta\")\n",
    "sns.despine() # Remove the top and right spines from plot\n",
    "\n",
    "#Historgram of circuit_lng\n",
    "plt.subplot(2,3,6)\n",
    "plt.hist(f1_df['circuit_lng'], bins=f1_df['circuit_lng'].nunique())\n",
    "plt.title('circuit_lng')\n",
    "plt.xlabel('circuit_lng')\n",
    "plt.ylabel('Frequency')\n",
    "plt.axvline(f1_df['circuit_lng'].mean(), label=\"Mean\", c=\"magenta\")\n",
    "sns.despine() # Remove the top and right spines from plot\n",
    "\n",
    "plt.legend()\n",
    "plt.tight_layout()\n",
    "plt.show()"
   ]
  },
  {
   "cell_type": "markdown",
   "id": "b39aa5e8-33d5-4a72-83a8-35aadc6bdbc6",
   "metadata": {},
   "source": [
    "**Observations:**\n",
    "- `grid`: skewed to the right with roughly 20-25 drivers typically qualifying for a race grid position, with an interesting amount in the 0 bin. Having a grid position of 0 could be from penalties added after qualification in which the driver simply starts at the back of the grid.\n",
    "- `finishing_position`: skewed to the right, with most drivers finishing in positions 1st through ~23rd.\n",
    "- `completed_laps`: somewhat normally distributed, skewed to the left, and has an interesting amount of distribution in first few laps. This makes sense as the probability of crashing within the first corner or withing the first few laps is high due to the close proximity of other cars at the beginning.\n",
    "- `round`: skewed to the right with mostly about 16 races in a championship, however now days there is typically 20+ races given the advancements in travel since 1950.\n",
    "- `circuit_lat`: skewed to the left with the majority of races located in Europe. This make sense given the roots of F1 started in Europe and has grown from this continent.\n",
    "- `circuit_lng`: appears to be normally distributed with the majority of races located just north of the equator. This makes sense for obtaining ideal weather given these circuits are outdoors."
   ]
  },
  {
   "cell_type": "markdown",
   "id": "f1b47ebd-b5a0-48a2-974b-ca654989e751",
   "metadata": {},
   "source": [
    "### Categorical Columns\n",
    "- Given there are a lot categorical values, will simply look at the top 10 values for each categorical column. These values are calculated in percent of totals, sorted greatest to least. "
   ]
  },
  {
   "cell_type": "code",
   "execution_count": 87,
   "id": "f680e6d7-7855-480c-a6e7-6597d0443f8c",
   "metadata": {},
   "outputs": [
    {
     "data": {
      "text/plain": [
       "Index(['status', 'driverRef', 'dob', 'nationality', 'date', 'constructor',\n",
       "       'constructor_nationality'],\n",
       "      dtype='object')"
      ]
     },
     "execution_count": 87,
     "metadata": {},
     "output_type": "execute_result"
    }
   ],
   "source": [
    "categorical_columns = f1_df.select_dtypes(\"object\").columns # get all columns with this specific data type\n",
    "categorical_columns"
   ]
  },
  {
   "cell_type": "code",
   "execution_count": 88,
   "id": "6dd00fd7-8b49-4e52-a90f-bf56f45acf61",
   "metadata": {},
   "outputs": [
    {
     "data": {
      "image/png": "[encoded data removed]",
      "text/plain": [
       "<Figure size 720x288 with 1 Axes>"
      ]
     },
     "metadata": {
      "needs_background": "light"
     },
     "output_type": "display_data"
    },
    {
     "data": {
      "image/png": "[encoded data removed]",
      "text/plain": [
       "<Figure size 720x288 with 1 Axes>"
      ]
     },
     "metadata": {
      "needs_background": "light"
     },
     "output_type": "display_data"
    },
    {
     "data": {
      "image/png": "[encoded data removed]",
      "text/plain": [
       "<Figure size 720x288 with 1 Axes>"
      ]
     },
     "metadata": {
      "needs_background": "light"
     },
     "output_type": "display_data"
    },
    {
     "data": {
      "image/png": "[encoded data removed]",
      "text/plain": [
       "<Figure size 720x288 with 1 Axes>"
      ]
     },
     "metadata": {
      "needs_background": "light"
     },
     "output_type": "display_data"
    },
    {
     "data": {
      "image/png": "[encoded data removed]",
      "text/plain": [
       "<Figure size 720x288 with 1 Axes>"
      ]
     },
     "metadata": {
      "needs_background": "light"
     },
     "output_type": "display_data"
    },
    {
     "data": {
      "image/png": "[encoded data removed]",
      "text/plain": [
       "<Figure size 720x288 with 1 Axes>"
      ]
     },
     "metadata": {
      "needs_background": "light"
     },
     "output_type": "display_data"
    },
    {
     "data": {
      "image/png": "[encoded data removed]",
      "text/plain": [
       "<Figure size 720x288 with 1 Axes>"
      ]
     },
     "metadata": {
      "needs_background": "light"
     },
     "output_type": "display_data"
    }
   ],
   "source": [
    "for col_name in categorical_columns:\n",
    "    (f1_df[col_name].value_counts()/f1_df.shape[0]*100).nlargest(10).plot(kind=\"bar\", figsize=(10, 4))\n",
    "    plt.title(f\"{col_name}\")\n",
    "    plt.ylabel(\"percent of total\")\n",
    "    plt.xticks(rotation=45) \n",
    "    sns.despine()\n",
    "    plt.show()"
   ]
  },
  {
   "cell_type": "markdown",
   "id": "e649daab-0785-4505-8520-ed02030d792e",
   "metadata": {},
   "source": [
    "**Key Observations**\n",
    "- `Status`: Majority of drivers are finishing races, and there appears to be a lot of extra noise on if they didn't or by how many laps down they were if they did. Will binarize to finish or did not finish for modeling.\n",
    "- `driverRef`: Top 10 most experienced drivers in F1, legends of the sport. Will onehotencode this feature for modeling.\n",
    "- `dob`: Additional insight from dob could be in the form of age at race, will analyze further in EDA.\n",
    "- `nationality`: given the sports' European roots, no surprise majority of drivers are of European nationality. The British appear to be producing the most F1 drivers. Will onehotencode for modeling.\n",
    "- `constructor`: Ferrari has been a constructor in F1 from day 1 and has most races under their belt. Will onehotencode as well.\n",
    "- `constructor_nationality`: The British are not only producing the most drivers, they are also producing the most teams. Will OHE this feature like the rest."
   ]
  },
  {
   "cell_type": "markdown",
   "id": "612fb23e-457d-4f01-a0a7-e1c385895748",
   "metadata": {},
   "source": [
    "## Tableau EDA\n",
    "This section focuses on the Final DataFrame's EDA utilizing imported data visuals from Tableau. Many of these visuals were created to gain a better understanding of progression in F1 as well as identify potential insights between the different variables that might help predict finishing position."
   ]
  },
  {
   "cell_type": "markdown",
   "id": "b6fbd7c0-80f8-40e7-948f-33ffb2979048",
   "metadata": {},
   "source": [
    "### `age_at_race`\n",
    "- By subtracting race date year from driver dob year, an `age_at_race` feature can be established. The line graph below takes the average `age_at_race` and plots it over race years."
   ]
  },
  {
   "cell_type": "code",
   "execution_count": 89,
   "id": "540f1cfb-29eb-4a4d-92a6-72463e767b91",
   "metadata": {},
   "outputs": [
    {
     "data": {
      "image/png": "[encoded data removed]",
      "text/plain": [
       "<IPython.core.display.Image object>"
      ]
     },
     "execution_count": 89,
     "metadata": {
      "image/png": {
       "width": 750
      }
     },
     "output_type": "execute_result"
    }
   ],
   "source": [
    "from IPython.display import Image #imports images\n",
    "Image(filename='Images/avg_age.png', width=750) "
   ]
  },
  {
   "cell_type": "markdown",
   "id": "0ac0172b-c23c-4684-a24d-ac8585eef527",
   "metadata": {},
   "source": [
    "**Observations**\n",
    "- The average age at each race has slowly decreased from ~39 years of age in 1950 to ~28 in 2021. That's more than a 10 year difference!\n",
    "- A possible reason could be the increase in the amount of feeder racing series that prepare younger drivers earlier for the pressures of F1, ultimately paying off in better finishing position and increasing their demand.\n",
    "- This new feature will be added to the final data frame in part II and may provider greater predictive power for finishing position."
   ]
  },
  {
   "cell_type": "markdown",
   "id": "df4deaab-4b6d-4809-adab-504e2b85afc5",
   "metadata": {},
   "source": [
    "### Circuit Map\n",
    "- The below map contains red circles representing the location of each circuit, with the size of the circle representing the number of races that circuit has held over time."
   ]
  },
  {
   "cell_type": "code",
   "execution_count": 90,
   "id": "a54e69c8-efe1-4973-b989-67f0ced2cf63",
   "metadata": {},
   "outputs": [
    {
     "data": {
      "image/png": "[encoded data removed]",
      "text/plain": [
       "<IPython.core.display.Image object>"
      ]
     },
     "execution_count": 90,
     "metadata": {
      "image/png": {
       "width": 1500
      }
     },
     "output_type": "execute_result"
    }
   ],
   "source": [
    "Image(filename='Images/map.png', width=1500)"
   ]
  },
  {
   "cell_type": "markdown",
   "id": "0424b9bc-a3e4-443f-b9d5-69a61a918c21",
   "metadata": {},
   "source": [
    "**Observations**\n",
    "- As previously seen in the `lat` data distribution, most circuits are located in continent of Europe where F1 originated from, maintaining it's strong roots.\n",
    "    - This also reveals why most drivers in F1 are European given the abundance of circuit and constructor resources that have been located there.\n",
    "- As previously seen in the `lng` data distribution, most circuits are located just above the equator where climate is more ideal for outdoor racing circuits."
   ]
  },
  {
   "cell_type": "markdown",
   "id": "ff980dfe-8a57-4000-b290-e510fc919de2",
   "metadata": {},
   "source": [
    "### Race Rounds\n",
    "- This bar graph shows the total number of races held each year over time."
   ]
  },
  {
   "cell_type": "code",
   "execution_count": 91,
   "id": "aa3bf570-818c-42f8-8242-a81efeaa234c",
   "metadata": {},
   "outputs": [
    {
     "data": {
      "image/png": "[encoded data removed]",
      "text/plain": [
       "<IPython.core.display.Image object>"
      ]
     },
     "execution_count": 91,
     "metadata": {
      "image/png": {
       "width": 750
      }
     },
     "output_type": "execute_result"
    }
   ],
   "source": [
    "Image(filename='Images/race_rounds.png', width=750) "
   ]
  },
  {
   "cell_type": "markdown",
   "id": "53d3e339-e5f0-4ca9-bbef-43fa0789d8cf",
   "metadata": {},
   "source": [
    "**Observations**\n",
    "- Total number of races each year has slowly increased throughout time which makes sense given more tracks and teams have entered.\n",
    "- The drop in races for 2020 was due to the covid pandemic.\n",
    "- As of now, there is only data for the first 9 rounds of the 2021 season."
   ]
  },
  {
   "cell_type": "markdown",
   "id": "0662424a-7a21-4f40-91b1-20ff5a0130bd",
   "metadata": {},
   "source": [
    "### Constructors Per Year"
   ]
  },
  {
   "cell_type": "code",
   "execution_count": 92,
   "id": "54a6a031-4901-4692-8ba4-7bec90fba991",
   "metadata": {},
   "outputs": [
    {
     "data": {
      "image/png": "[encoded data removed]",
      "text/plain": [
       "<IPython.core.display.Image object>"
      ]
     },
     "execution_count": 92,
     "metadata": {
      "image/png": {
       "width": 750
      }
     },
     "output_type": "execute_result"
    }
   ],
   "source": [
    "Image(filename='Images/constructors.png', width=750) "
   ]
  },
  {
   "cell_type": "markdown",
   "id": "ce29b81d-1b3a-44af-afdc-561b95a5431c",
   "metadata": {},
   "source": [
    "**Observations**\n",
    "- Total number of constructors each year has slowly decreased throughout time. This could potentially be a result of the overbearing cost F1 demands on both teams and sponsors.\n",
    "- Given the new cost cap regulations, this trend could reverse in the near future."
   ]
  },
  {
   "cell_type": "markdown",
   "id": "14deb689-90bc-4f4e-8a53-e725e38d2237",
   "metadata": {},
   "source": [
    "### Finishing Position - Target Variable\n",
    "- This bar graph shoes the top 5, all-time, lowest average race finishing position."
   ]
  },
  {
   "cell_type": "code",
   "execution_count": 93,
   "id": "2b2382e9-4e7b-4399-85d0-b0fd89a997d7",
   "metadata": {},
   "outputs": [
    {
     "data": {
      "image/png": "[encoded data removed]",
      "text/plain": [
       "<IPython.core.display.Image object>"
      ]
     },
     "execution_count": 93,
     "metadata": {
      "image/png": {
       "width": 750
      }
     },
     "output_type": "execute_result"
    }
   ],
   "source": [
    "Image(filename='Images/Avg Finish.png', width=750) "
   ]
  },
  {
   "cell_type": "markdown",
   "id": "3f5e29d0-68d5-4f17-a3ae-debed5e1347d",
   "metadata": {},
   "source": [
    "**Observations**\n",
    "- Top five, all-time lowest average finishes range between ~5th and 7th place.\n",
    "- Will choose the Top 5 finishing positions as the target variable given this discovery as well as the fact that teams look for overall impressions into new championships when selecting driver as well."
   ]
  },
  {
   "cell_type": "markdown",
   "id": "56eff705-d40b-4d6c-9a42-7dc4a3360026",
   "metadata": {},
   "source": [
    "## Next Steps\n",
    "- Now that the data has been explored, features selected for a final data frame, and distributions visualized, it's time to create some models which takes place in part II found from the **Modeling** notebook. "
   ]
  }
 ],
 "metadata": {
  "kernelspec": {
   "display_name": "Python 3",
   "language": "python",
   "name": "python3"
  },
  "language_info": {
   "codemirror_mode": {
    "name": "ipython",
    "version": 3
   },
   "file_extension": ".py",
   "mimetype": "text/x-python",
   "name": "python",
   "nbconvert_exporter": "python",
   "pygments_lexer": "ipython3",
   "version": "3.8.8"
  },
  "widgets": {
   "application/vnd.jupyter.widget-state+json": {
    "state": {},
    "version_major": 2,
    "version_minor": 0
   }
  }
 },
 "nbformat": 4,
 "nbformat_minor": 5
}
